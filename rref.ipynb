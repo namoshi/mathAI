{
  "cells": [
    {
      "cell_type": "markdown",
      "metadata": {
        "id": "view-in-github",
        "colab_type": "text"
      },
      "source": [
        "<a href=\"https://colab.research.google.com/github/namoshi/mathAI/blob/master/rref.ipynb\" target=\"_parent\"><img src=\"https://colab.research.google.com/assets/colab-badge.svg\" alt=\"Open In Colab\"/></a>"
      ]
    },
    {
      "cell_type": "code",
      "execution_count": 1,
      "metadata": {
        "id": "C864aqtICRMS"
      },
      "outputs": [],
      "source": [
        "import numpy as np\n",
        "\n",
        "def rref(A):\n",
        "    # 行列をNumPyの形式に変換\n",
        "#    A = np.array(matrix, dtype=float)\n",
        "    rows, cols = A.shape\n",
        "\n",
        "    # ガウスの消去法を実行\n",
        "    for i in range(min(rows, cols)):\n",
        "        # 主成分を1にする\n",
        "        if A[i, i] != 0:\n",
        "            A[i, :] /= A[i, i]\n",
        "        else:\n",
        "            continue\n",
        "\n",
        "        # 他の行から主成分を除去\n",
        "        for j in range(rows):\n",
        "            if i != j:\n",
        "                A[j, :] -= A[j, i] * A[i, :]\n",
        "\n",
        "    return A\n",
        "\n"
      ]
    },
    {
      "cell_type": "code",
      "execution_count": 2,
      "metadata": {
        "colab": {
          "base_uri": "https://localhost:8080/"
        },
        "id": "n9G4xa-TCRMY",
        "outputId": "a3b40310-f333-4eee-da7c-7ed1684271e6"
      },
      "outputs": [
        {
          "output_type": "stream",
          "name": "stdout",
          "text": [
            "A\n",
            " [[ 1.  2.  3.]\n",
            " [ 4.  5.  6.]\n",
            " [ 7.  8.  9.]\n",
            " [10. 11. 12.]]\n",
            "簡約化された行列:\n",
            "[[ 1.  0. -1.]\n",
            " [-0.  1.  2.]\n",
            " [ 0.  0.  0.]\n",
            " [ 0.  0.  0.]]\n"
          ]
        }
      ],
      "source": [
        "# 4行3列の行列の例\n",
        "A = np.array([\n",
        "    [1, 2, 3],\n",
        "    [4, 5, 6],\n",
        "    [7, 8, 9],\n",
        "    [10, 11, 12]\n",
        "], dtype=float)\n",
        "\n",
        "print('A\\n', A)\n",
        "\n",
        "# 簡約化された行列を計算\n",
        "rref_matrix = rref(A)\n",
        "\n",
        "# 結果を表示\n",
        "print(\"簡約化された行列:\")\n",
        "print(rref_matrix)\n"
      ]
    },
    {
      "cell_type": "code",
      "execution_count": 3,
      "metadata": {
        "colab": {
          "base_uri": "https://localhost:8080/"
        },
        "id": "Xay06kPsCRMb",
        "outputId": "14a0a282-6819-4cfe-9c2c-280d5d7b488c"
      },
      "outputs": [
        {
          "output_type": "stream",
          "name": "stdout",
          "text": [
            "A\n",
            " [[1. 2. 3. 1.]\n",
            " [4. 5. 6. 1.]\n",
            " [7. 8. 9. 1.]]\n",
            "簡約化された行列:\n",
            "[[ 1.  0. -1. -1.]\n",
            " [-0.  1.  2.  1.]\n",
            " [ 0.  0.  0.  0.]]\n"
          ]
        }
      ],
      "source": [
        "# 任意の行列の例\n",
        "A = np.array([\n",
        "    [1, 2, 3, 1],\n",
        "    [4, 5, 6, 1],\n",
        "    [7, 8, 9, 1]\n",
        "], dtype=float)\n",
        "\n",
        "print('A\\n', A)\n",
        "\n",
        "# 簡約化された行列を計算\n",
        "rref_matrix = rref(A)\n",
        "\n",
        "# 結果を表示\n",
        "print(\"簡約化された行列:\")\n",
        "print(rref_matrix)"
      ]
    }
  ],
  "metadata": {
    "kernelspec": {
      "display_name": "base",
      "language": "python",
      "name": "python3"
    },
    "language_info": {
      "codemirror_mode": {
        "name": "ipython",
        "version": 3
      },
      "file_extension": ".py",
      "mimetype": "text/x-python",
      "name": "python",
      "nbconvert_exporter": "python",
      "pygments_lexer": "ipython3",
      "version": "3.11.7"
    },
    "colab": {
      "provenance": [],
      "include_colab_link": true
    }
  },
  "nbformat": 4,
  "nbformat_minor": 0
}