{
  "nbformat": 4,
  "nbformat_minor": 0,
  "metadata": {
    "colab": {
      "provenance": [],
      "authorship_tag": "ABX9TyNfSF1CiRsyBW6lrK1EHyJt",
      "include_colab_link": true
    },
    "kernelspec": {
      "name": "python3",
      "display_name": "Python 3"
    },
    "language_info": {
      "name": "python"
    }
  },
  "cells": [
    {
      "cell_type": "markdown",
      "metadata": {
        "id": "view-in-github",
        "colab_type": "text"
      },
      "source": [
        "<a href=\"https://colab.research.google.com/github/namoshi/mathAI/blob/master/Approx_Exp.ipynb\" target=\"_parent\"><img src=\"https://colab.research.google.com/assets/colab-badge.svg\" alt=\"Open In Colab\"/></a>"
      ]
    },
    {
      "cell_type": "markdown",
      "source": [
        "Approximation of exponential function $\\exp(t)$ by quadratic function in the interval $[0 \\le t \\le 1]$.\n",
        "\n",
        "We have to computer a Vandermonde matrix $V$ and its inverse $V^{-1}$.\n",
        "\n"
      ],
      "metadata": {
        "id": "atSRRqTmNuAU"
      }
    },
    {
      "cell_type": "code",
      "execution_count": 14,
      "metadata": {
        "colab": {
          "base_uri": "https://localhost:8080/"
        },
        "id": "1MphxxfYJwK7",
        "outputId": "2efe2422-6d51-40bb-ab28-4f5281ff0c17"
      },
      "outputs": [
        {
          "output_type": "stream",
          "name": "stdout",
          "text": [
            "x [0.  0.5 1. ]\n",
            "y [1.         1.64872127 2.71828183]\n",
            "Vandermonde matrix\n",
            " [[1.   0.   0.  ]\n",
            " [1.   0.5  0.25]\n",
            " [1.   1.   1.  ]]\n",
            "Coefficient vector\n",
            " [1.         0.87660325 0.84167857]\n"
          ]
        }
      ],
      "source": [
        "import numpy as np\n",
        "\n",
        "x = np.array([0.0, 0.5, 1.0])\n",
        "y=np.array([np.exp(x[0]), np.exp(x[1]), np.exp(x[2])])\n",
        "print('x', x)\n",
        "print('y', y)\n",
        "\n",
        "V = np.zeros((3,3))\n",
        "for i in range(3):\n",
        "  for j in range(3):\n",
        "    V[i][j] = np.power(x[i], j)\n",
        "\n",
        "print('Vandermonde matrix\\n', V)\n",
        "\n",
        "Vinv = np.linalg.inv(V)\n",
        "beta = np.dot(Vinv, y)\n",
        "print('Coefficient vector\\n', beta)"
      ]
    }
  ]
}