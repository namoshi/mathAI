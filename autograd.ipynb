{
 "cells": [
  {
   "cell_type": "code",
   "execution_count": 3,
   "metadata": {},
   "outputs": [],
   "source": [
    "import numpy as np\n",
    "import torch\n",
    "import matplotlib.pyplot as plt\n"
   ]
  },
  {
   "cell_type": "markdown",
   "metadata": {},
   "source": [
    "関数\n",
    "  \\begin{align*}\n",
    "    f(x) = \\sqrt{x^2+\\exp(x^2)} + \\cos(x^2+\\exp(x^2))\n",
    "  \\end{align*}\n",
    "の微分\n",
    "  \\begin{align*}\n",
    "    \\frac{d f}{d x} &= \\frac{\\partial f(\\phi)}{\\partial \\phi} \\frac{\\partial \\phi(x)}{\\partial x}\n",
    "    = \\left( \\frac{\\partial (\\phi^{\\frac{1}{2}} + \\cos \\phi)}{\\partial \\phi} \\right) \\left( 2 x + 2 x \\exp(x^2) \\right) \\\\\n",
    "    &= \\left( \\frac{1}{2} \\phi^{-\\frac{1}{2}} - \\sin \\phi \\right) \\left( 2 x + 2 x \\exp(x^2) \\right) \\\\\n",
    "    &= 2 x \\left( \\frac{1}{2 \\sqrt{x^2 + \\exp(x^2)}} - \\sin(x^2 + \\exp(x^2)) \\right)(1 + \\exp(x^2)) \n",
    "  \\end{align*}\n",
    "\n",
    "この自動微分を計算"
   ]
  },
  {
   "cell_type": "code",
   "execution_count": 35,
   "metadata": {},
   "outputs": [
    {
     "data": {
      "image/png": "[encoded data removed]",
      "text/plain": [
       "<Figure size 432x288 with 1 Axes>"
      ]
     },
     "metadata": {
      "needs_background": "light"
     },
     "output_type": "display_data"
    }
   ],
   "source": [
    "data = np.linspace(-1.3, 1.3, 100)\n",
    "#print(data)\n",
    "\n",
    "Ydata = []\n",
    "DYdata = []\n",
    "\n",
    "for xdata in data:\n",
    "\n",
    "    # テンソルを作成\n",
    "    # requires_grad=Trueで自動微分対象を指定\n",
    "    x = torch.tensor(xdata, requires_grad=True)\n",
    "\n",
    "    # 計算グラフを構築\n",
    "    # y = \n",
    "    y = torch.sqrt(x*x + torch.exp(x*x)) + torch.cos(x*x + torch.exp(x*x))\n",
    "\n",
    "#    print('x=',x, 'y=', y)\n",
    "    ydum = y.detach().numpy()\n",
    "#    print('y=', ydum)\n",
    "    Ydata.append(ydum)\n",
    "\n",
    "    # 勾配を計算\n",
    "    y.backward()\n",
    "\n",
    "    # 勾配を表示\n",
    "    dydum = x.grad.detach().numpy()\n",
    "#    print('dy/dx=', dydum)  # dy/dx\n",
    "    DYdata.append(dydum)\n",
    "    \n",
    "#print(np.array(Ydata))\n",
    "#print(np.array(DYdata))\n",
    "\n",
    "plt.plot(data, Ydata, label=\"f(x)\")\n",
    "plt.plot(data, DYdata, label=\"df(x)/dx\")\n",
    "plt.legend\n",
    "plt.title(\"f(x) and derivatives of f(x)\")\n",
    "plt.savefig('autograd.png')\n",
    "plt.show()"
   ]
  },
  {
   "cell_type": "code",
   "execution_count": null,
   "metadata": {},
   "outputs": [],
   "source": []
  }
 ],
 "metadata": {
  "kernelspec": {
   "display_name": "Python 3",
   "language": "python",
   "name": "python3"
  },
  "language_info": {
   "codemirror_mode": {
    "name": "ipython",
    "version": 3
   },
   "file_extension": ".py",
   "mimetype": "text/x-python",
   "name": "python",
   "nbconvert_exporter": "python",
   "pygments_lexer": "ipython3",
   "version": "3.7.7"
  }
 },
 "nbformat": 4,
 "nbformat_minor": 4
}