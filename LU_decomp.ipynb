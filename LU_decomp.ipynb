{
  "nbformat": 4,
  "nbformat_minor": 0,
  "metadata": {
    "colab": {
      "provenance": [],
      "authorship_tag": "ABX9TyOR0zSvn48f6PEyY4TAIxWV",
      "include_colab_link": true
    },
    "kernelspec": {
      "name": "python3",
      "display_name": "Python 3"
    },
    "language_info": {
      "name": "python"
    }
  },
  "cells": [
    {
      "cell_type": "markdown",
      "metadata": {
        "id": "view-in-github",
        "colab_type": "text"
      },
      "source": [
        "<a href=\"https://colab.research.google.com/github/namoshi/mathAI/blob/master/LU_decomp.ipynb\" target=\"_parent\"><img src=\"https://colab.research.google.com/assets/colab-badge.svg\" alt=\"Open In Colab\"/></a>"
      ]
    },
    {
      "cell_type": "markdown",
      "source": [
        "# LU Decomposition"
      ],
      "metadata": {
        "id": "z9E09VsS4RhX"
      }
    },
    {
      "cell_type": "code",
      "execution_count": 4,
      "metadata": {
        "colab": {
          "base_uri": "https://localhost:8080/"
        },
        "id": "ggCKFe1j4D5m",
        "outputId": "667d9317-03ab-466e-fab3-3341d523e0b7"
      },
      "outputs": [
        {
          "output_type": "stream",
          "name": "stdout",
          "text": [
            "[[ 1  2 -1]\n",
            " [ 2  6  0]\n",
            " [-1  0  9]]\n",
            "P\n",
            " [[0. 0. 1.]\n",
            " [1. 0. 0.]\n",
            " [0. 1. 0.]]\n",
            "L\n",
            " [[ 1.          0.          0.        ]\n",
            " [-0.5         1.          0.        ]\n",
            " [ 0.5        -0.33333333  1.        ]]\n",
            "U\n",
            " [[2. 6. 0.]\n",
            " [0. 3. 9.]\n",
            " [0. 0. 2.]]\n",
            "[[ 1.  2. -1.]\n",
            " [ 2.  6.  0.]\n",
            " [-1.  0.  9.]]\n"
          ]
        }
      ],
      "source": [
        "import numpy as np\n",
        "from scipy.linalg import lu\n",
        "\n",
        "A = np.array([[1, 2, -1], [2, 6, 0], [-1, 0, 9]])\n",
        "\n",
        "print(A)\n",
        "\n",
        "P, L, U = lu(A)\n",
        "\n",
        "print('P\\n', P)\n",
        "print('L\\n', L)\n",
        "print('U\\n', U)\n",
        "\n",
        "print(np.dot(P, np.dot(L, U)))"
      ]
    }
  ]
}