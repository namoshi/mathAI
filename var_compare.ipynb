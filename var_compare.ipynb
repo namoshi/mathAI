{
  "nbformat": 4,
  "nbformat_minor": 0,
  "metadata": {
    "colab": {
      "provenance": [],
      "authorship_tag": "ABX9TyO14Pf5JePmf+C2Z8BmYD6G",
      "include_colab_link": true
    },
    "kernelspec": {
      "name": "python3",
      "display_name": "Python 3"
    },
    "language_info": {
      "name": "python"
    }
  },
  "cells": [
    {
      "cell_type": "markdown",
      "metadata": {
        "id": "view-in-github",
        "colab_type": "text"
      },
      "source": [
        "<a href=\"https://colab.research.google.com/github/namoshi/mathAI/blob/master/var_compare.ipynb\" target=\"_parent\"><img src=\"https://colab.research.google.com/assets/colab-badge.svg\" alt=\"Open In Colab\"/></a>"
      ]
    },
    {
      "cell_type": "code",
      "execution_count": 18,
      "metadata": {
        "colab": {
          "base_uri": "https://localhost:8080/"
        },
        "id": "o5YneVKZCPwJ",
        "outputId": "3d7e545e-38fb-4e5f-c00d-c8cbec14184d"
      },
      "outputs": [
        {
          "output_type": "stream",
          "name": "stdout",
          "text": [
            "A\n",
            " [ 0  3  3  5  5  5  5  7  7 10]\n",
            "Mean(A)= 5.0\n",
            "B\n",
            " [ 0  1  2  3  5  5  7  8  9 10]\n",
            "Mean(B)= 5.0\n",
            "C\n",
            " [3 4 4 5 5 5 5 6 6 7]\n",
            "Mean(C)= 5.0\n",
            "Var(A)=6.600000000000001, sd(A)=2.5690465157330262\n",
            "Var(B)=10.799999999999997, sd(B)=3.2863353450309964\n",
            "Var(C)=1.1999999999999993, sd(C)=1.095445115010332\n"
          ]
        }
      ],
      "source": [
        "import numpy as np\n",
        "\n",
        "A=np.array([0, 3, 3, 5, 5, 5, 5, 7, 7, 10])\n",
        "\n",
        "print('A\\n', A)\n",
        "print('Mean(A)=', np.mean(A))\n",
        "\n",
        "B = np.array([0, 1, 2, 3, 5, 5, 7, 8, 9, 10])\n",
        "\n",
        "print('B\\n', B)\n",
        "print('Mean(B)=', np.mean(B))\n",
        "\n",
        "C = np.array([3, 4, 4, 5, 5, 5, 5, 6, 6, 7])\n",
        "\n",
        "print('C\\n', C)\n",
        "print('Mean(C)=', np.mean(C))\n",
        "\n",
        "varA = np.sum(np.power(A, 2))/len(A) - np.mean(A)**2\n",
        "\n",
        "print('Var(A)={}, sd(A)={}'.format(varA, np.sqrt(varA)))\n",
        "\n",
        "varB = np.sum(np.power(B, 2))/len(B) - np.mean(B)**2\n",
        "\n",
        "print('Var(B)={}, sd(B)={}'.format(varB, np.sqrt(varB)))\n",
        "\n",
        "varC = np.sum(np.power(C, 2))/len(C) - np.mean(C)**2\n",
        "\n",
        "print('Var(C)={}, sd(C)={}'.format(varC, np.sqrt(varC)))"
      ]
    }
  ]
}