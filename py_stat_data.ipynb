{
  "cells": [
    {
      "cell_type": "markdown",
      "metadata": {
        "colab_type": "text",
        "id": "view-in-github"
      },
      "source": [
        "<a href=\"https://colab.research.google.com/github/namoshi/mathAI/blob/master/py_stat_data.ipynb\" target=\"_parent\"><img src=\"https://colab.research.google.com/assets/colab-badge.svg\" alt=\"Open In Colab\"/></a>"
      ]
    },
    {
      "cell_type": "code",
      "execution_count": 12,
      "metadata": {
        "id": "UyvxHyH2L4lv"
      },
      "outputs": [],
      "source": [
        "import numpy as np\n",
        "import statistics\n",
        "import matplotlib.pyplot as plt"
      ]
    },
    {
      "cell_type": "markdown",
      "metadata": {},
      "source": [
        "# 学生の身長のデータ\n",
        "\n",
        "\n",
        "|  学生 |   1 |   2 |   3 |   4 |   5 |   6 |   7 |   8 |   9 |  10 |  11 |  12 |  13 |  14 |  15 | <br>\n",
        "|  身長 | 178 | 165 | 168 | 152 | 175 | 175 | 165 | 162 | 164 | 170 | 169 | 155 | 153 | 162 | 168 |\n",
        "\n"
      ]
    },
    {
      "cell_type": "code",
      "execution_count": 13,
      "metadata": {},
      "outputs": [
        {
          "name": "stdout",
          "output_type": "stream",
          "text": [
            "15\n",
            "[178. 165. 168. 152. 175. 175. 165. 162. 164. 170. 169. 155. 153. 162.\n",
            " 168.]\n"
          ]
        }
      ],
      "source": [
        "# 学生の身長のデータ\n",
        "heights = np.array([178, 165, 168, 152, 175, 175, 165, 162, 164, 170, 169, 155, 153, 162, 168], dtype=float)\n",
        "\n",
        "print(len(heights))\n",
        "print(heights)"
      ]
    },
    {
      "cell_type": "code",
      "execution_count": 19,
      "metadata": {},
      "outputs": [
        {
          "data": {
            "image/png": "[encoded data removed]",
            "text/plain": [
              "<Figure size 640x480 with 1 Axes>"
            ]
          },
          "metadata": {},
          "output_type": "display_data"
        }
      ],
      "source": [
        "plt.title('Histgram of Heights')\n",
        "plt.hist(heights)\n",
        "plt.savefig('height_hist.png')\n",
        "plt.show()\n"
      ]
    },
    {
      "cell_type": "code",
      "execution_count": 22,
      "metadata": {},
      "outputs": [
        {
          "name": "stdout",
          "output_type": "stream",
          "text": [
            "Mean= 165.4\n",
            "Mean= 165.4\n",
            "Mean= 165.4\n"
          ]
        }
      ],
      "source": [
        "# 平均\n",
        "\n",
        "# 定義通りに計算\n",
        "print('Mean=', np.sum(heights)/len(heights))\n",
        "\n",
        "# ベクトル表現\n",
        "print('Mean=', np.dot(heights, np.ones(len(heights)))/len(heights))\n",
        "\n",
        "# Python package (statistics) を利用\n",
        "mean_heights = statistics.mean(heights)\n",
        "print('Mean=', mean_heights)\n"
      ]
    },
    {
      "cell_type": "code",
      "execution_count": 29,
      "metadata": {},
      "outputs": [
        {
          "name": "stdout",
          "output_type": "stream",
          "text": [
            "[152. 153. 155. 162. 162. 164. 165. 165. 168. 168. 169. 170. 175. 175.\n",
            " 178.]\n",
            "7\n",
            "median= 165.0\n",
            "median= 165.0\n"
          ]
        }
      ],
      "source": [
        "# メディアン\n",
        "\n",
        "# 定義通りに計算\n",
        "sorted_heights = np.sort(heights)\n",
        "print(sorted_heights)\n",
        "\n",
        "m = len(sorted_heights) // 2\n",
        "print(m)\n",
        "\n",
        "if len(sorted_heights) % 2 == 0:\n",
        "    median_heights = (sorted_heights[m] + sorted_heights[m+1]) / 2.0\n",
        "else:\n",
        "    median_heights = sorted_heights[m]\n",
        "    \n",
        "print('median=', median_heights)\n",
        "\n",
        "# Python package (statistics) を利用\n",
        "median_heights = statistics.median(sorted_heights)\n",
        "print('median=', median_heights)\n"
      ]
    },
    {
      "cell_type": "code",
      "execution_count": 31,
      "metadata": {},
      "outputs": [
        {
          "name": "stdout",
          "output_type": "stream",
          "text": [
            "Quantiles: [162.0, 165.0, 170.0]\n",
            "mode= 165.0\n"
          ]
        }
      ],
      "source": [
        "# パーセンタイル，モードの計算\n",
        "\n",
        "print('Quantiles:', statistics.quantiles(heights))\n",
        "\n",
        "print('mode=', statistics.mode(heights))"
      ]
    }
  ],
  "metadata": {
    "colab": {
      "include_colab_link": true,
      "provenance": []
    },
    "kernelspec": {
      "display_name": "base",
      "language": "python",
      "name": "python3"
    },
    "language_info": {
      "codemirror_mode": {
        "name": "ipython",
        "version": 3
      },
      "file_extension": ".py",
      "mimetype": "text/x-python",
      "name": "python",
      "nbconvert_exporter": "python",
      "pygments_lexer": "ipython3",
      "version": "3.12.4"
    }
  },
  "nbformat": 4,
  "nbformat_minor": 0
}
