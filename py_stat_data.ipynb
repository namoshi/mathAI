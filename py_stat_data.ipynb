{
  "cells": [
    {
      "cell_type": "markdown",
      "metadata": {
        "id": "view-in-github",
        "colab_type": "text"
      },
      "source": [
        "<a href=\"https://colab.research.google.com/github/namoshi/mathAI/blob/master/py_stat_data.ipynb\" target=\"_parent\"><img src=\"https://colab.research.google.com/assets/colab-badge.svg\" alt=\"Open In Colab\"/></a>"
      ]
    },
    {
      "cell_type": "code",
      "execution_count": 2,
      "metadata": {
        "id": "UyvxHyH2L4lv"
      },
      "outputs": [],
      "source": [
        "import numpy as np\n",
        "import statistics\n",
        "import matplotlib.pyplot as plt"
      ]
    },
    {
      "cell_type": "markdown",
      "metadata": {
        "id": "Jf3x90DUyWsa"
      },
      "source": [
        "# 学生の身長のデータ\n",
        "\n",
        "\n",
        "|  学生 |   1 |   2 |   3 |   4 |   5 |   6 |   7 |   8 |   9 |  10 |  11 |  12 |  13 |  14 |  15 | <br>\n",
        "|  身長 | 178 | 165 | 168 | 152 | 175 | 175 | 165 | 162 | 164 | 170 | 169 | 155 | 153 | 162 | 168 |\n",
        "\n"
      ]
    },
    {
      "cell_type": "code",
      "execution_count": 3,
      "metadata": {
        "id": "PPaI5mjRyWsc",
        "outputId": "d973f6f7-8f65-48eb-ddbb-c77e13d3518a",
        "colab": {
          "base_uri": "https://localhost:8080/"
        }
      },
      "outputs": [
        {
          "output_type": "stream",
          "name": "stdout",
          "text": [
            "15\n",
            "[178. 165. 168. 152. 175. 175. 165. 162. 164. 170. 169. 155. 153. 162.\n",
            " 168.]\n"
          ]
        }
      ],
      "source": [
        "# 学生の身長のデータ\n",
        "heights = np.array([178, 165, 168, 152, 175, 175, 165, 162, 164, 170, 169, 155, 153, 162, 168], dtype=float)\n",
        "\n",
        "print(len(heights))\n",
        "print(heights)"
      ]
    },
    {
      "cell_type": "markdown",
      "metadata": {
        "id": "xp-whX7KyWse"
      },
      "source": [
        "## ヒストグラム"
      ]
    },
    {
      "cell_type": "code",
      "execution_count": 4,
      "metadata": {
        "id": "E4fOuZ4XyWse",
        "outputId": "9eae7e7f-175d-4244-f506-9b18a27075e5",
        "colab": {
          "base_uri": "https://localhost:8080/",
          "height": 452
        }
      },
      "outputs": [
        {
          "output_type": "display_data",
          "data": {
            "text/plain": [
              "<Figure size 640x480 with 1 Axes>"
            ],
            "image/png": "[encoded data removed]"
          },
          "metadata": {}
        }
      ],
      "source": [
        "plt.title('Histgram of Heights')\n",
        "plt.hist(heights)\n",
        "plt.savefig('height_hist.png')\n",
        "plt.show()\n"
      ]
    },
    {
      "cell_type": "markdown",
      "metadata": {
        "id": "AVCI5kecyWsf"
      },
      "source": [
        "## 代表値（平均，メディアン，四分位点，モード）"
      ]
    },
    {
      "cell_type": "code",
      "execution_count": 5,
      "metadata": {
        "id": "YH-5aCjryWsf",
        "outputId": "8fc90b75-d122-475a-9367-0185b06baf91",
        "colab": {
          "base_uri": "https://localhost:8080/"
        }
      },
      "outputs": [
        {
          "output_type": "stream",
          "name": "stdout",
          "text": [
            "Mean= 165.4\n",
            "Mean= 165.4\n",
            "Mean= 165.4\n"
          ]
        }
      ],
      "source": [
        "# 平均\n",
        "\n",
        "# 定義通りに計算\n",
        "print('Mean=', np.sum(heights)/len(heights))\n",
        "\n",
        "# ベクトル表現\n",
        "print('Mean=', np.dot(heights, np.ones(len(heights)))/len(heights))\n",
        "\n",
        "# Python package (statistics) を利用\n",
        "mean_heights = statistics.mean(heights)\n",
        "print('Mean=', mean_heights)\n"
      ]
    },
    {
      "cell_type": "code",
      "execution_count": 6,
      "metadata": {
        "id": "aqcaR5_zyWsg",
        "outputId": "32edf28a-59d4-4909-9c11-6d2febda15f7",
        "colab": {
          "base_uri": "https://localhost:8080/"
        }
      },
      "outputs": [
        {
          "output_type": "stream",
          "name": "stdout",
          "text": [
            "[152. 153. 155. 162. 162. 164. 165. 165. 168. 168. 169. 170. 175. 175.\n",
            " 178.]\n",
            "7\n",
            "median= 165.0\n",
            "median= 165.0\n"
          ]
        }
      ],
      "source": [
        "# メディアン\n",
        "\n",
        "# 定義通りに計算\n",
        "sorted_heights = np.sort(heights)\n",
        "print(sorted_heights)\n",
        "\n",
        "m = len(sorted_heights) // 2\n",
        "print(m)\n",
        "\n",
        "if len(sorted_heights) % 2 == 0:\n",
        "    median_heights = (sorted_heights[m] + sorted_heights[m+1]) / 2.0\n",
        "else:\n",
        "    median_heights = sorted_heights[m]\n",
        "\n",
        "print('median=', median_heights)\n",
        "\n",
        "# Python package (statistics) を利用\n",
        "median_heights = statistics.median(sorted_heights)\n",
        "print('median=', median_heights)\n"
      ]
    },
    {
      "cell_type": "code",
      "execution_count": 7,
      "metadata": {
        "id": "fohaefzoyWsh",
        "outputId": "319337d2-05e8-4e5b-febb-f0f480b80d82",
        "colab": {
          "base_uri": "https://localhost:8080/"
        }
      },
      "outputs": [
        {
          "output_type": "stream",
          "name": "stdout",
          "text": [
            "Quantiles: [162.0, 165.0, 170.0]\n",
            "mode= 165.0\n"
          ]
        }
      ],
      "source": [
        "# パーセンタイル，モードの計算\n",
        "\n",
        "print('Quantiles:', statistics.quantiles(heights))\n",
        "\n",
        "print('mode=', statistics.mode(heights))"
      ]
    },
    {
      "cell_type": "markdown",
      "metadata": {
        "id": "WpwPiuF4yWsh"
      },
      "source": [
        "## 分散と標準偏差"
      ]
    },
    {
      "cell_type": "code",
      "execution_count": 8,
      "metadata": {
        "id": "vfzMz5rfyWsi",
        "outputId": "479775bf-cc64-4680-ace0-b535def76e19",
        "colab": {
          "base_uri": "https://localhost:8080/"
        }
      },
      "outputs": [
        {
          "output_type": "stream",
          "name": "stdout",
          "text": [
            "Varaicne= 61.25714285714286\n",
            "Standard Deviation= 7.826694248349226\n"
          ]
        }
      ],
      "source": [
        "# 分散と標準偏差\n",
        "\n",
        "Var = statistics.variance(heights)\n",
        "print('Varaicne=', Var)\n",
        "\n",
        "SD = statistics.stdev(heights)\n",
        "print('Standard Deviation=', SD)\n"
      ]
    },
    {
      "cell_type": "code",
      "execution_count": 9,
      "metadata": {
        "id": "3je5OPeByWsi",
        "outputId": "34840b2d-8a97-42d4-9131-23f37bc5d9e8",
        "colab": {
          "base_uri": "https://localhost:8080/"
        }
      },
      "outputs": [
        {
          "output_type": "stream",
          "name": "stdout",
          "text": [
            "Mean= 68.8\n",
            "SD= 20.815592446262222\n",
            "Standarlized Scores\n",
            " [ 0.63414001 -1.23945547 -0.61492365  0.39393546  1.30671275 -1.62378275\n",
            " -0.03843273  1.0665082  -0.66296456  0.77826274]\n",
            "T-score of 90.000000 = 60.184673\n"
          ]
        }
      ],
      "source": [
        "# データの標準化と偏差値\n",
        "\n",
        "math_scores = np.array([82, 43, 56, 77, 96, 35, 68, 91, 55, 85], dtype=float)\n",
        "\n",
        "math_mean = statistics.mean(math_scores)\n",
        "print('Mean=', math_mean)\n",
        "\n",
        "math_sd = statistics.stdev(math_scores)\n",
        "print('SD=', math_sd)\n",
        "\n",
        "# 標準化\n",
        "math_z = (math_scores - math_mean) / math_sd\n",
        "print('Standarlized Scores\\n', math_z)\n",
        "\n",
        "# 偏差値\n",
        "x = 90.0\n",
        "y = 10.0 * (x - math_mean) / math_sd + 50.0\n",
        "print('T-score of %f = %f' % (x, y))\n"
      ]
    },
    {
      "cell_type": "markdown",
      "metadata": {
        "id": "O1Xbs6uTyWsi"
      },
      "source": [
        "## 散布図"
      ]
    },
    {
      "cell_type": "code",
      "execution_count": 10,
      "metadata": {
        "id": "6IgcaMzIyWsi",
        "outputId": "b5b3cb22-46c3-4782-ad0d-ed238685fd60",
        "colab": {
          "base_uri": "https://localhost:8080/",
          "height": 472
        }
      },
      "outputs": [
        {
          "output_type": "display_data",
          "data": {
            "text/plain": [
              "<Figure size 640x480 with 1 Axes>"
            ],
            "image/png": "[encoded data removed]"
          },
          "metadata": {}
        }
      ],
      "source": [
        "# 家族の身長のデータ\n",
        "boys_height = np.array([71, 68, 66, 67, 70, 71, 70, 73, 72, 65, 66], dtype=float)\n",
        "girls_height = np.array([69, 64, 65, 63, 65, 62, 65, 64, 66, 59, 62], dtype=float)\n",
        "\n",
        "plt.title('Heights of boy and girl in the same family')\n",
        "plt.scatter(boys_height, girls_height)\n",
        "plt.xlabel('Boy Height')\n",
        "plt.ylabel('Girl Height')\n",
        "plt.savefig('family_height.png')\n",
        "plt.show()\n",
        ""
      ]
    },
    {
      "cell_type": "markdown",
      "metadata": {
        "id": "WbUn2nG0yWsj"
      },
      "source": [
        "## 共分散と相関係数"
      ]
    },
    {
      "cell_type": "code",
      "execution_count": 11,
      "metadata": {
        "id": "n18GnGrAyWsj",
        "outputId": "6e3e697b-f6ea-410c-a74a-260196161bd7",
        "colab": {
          "base_uri": "https://localhost:8080/"
        }
      },
      "outputs": [
        {
          "output_type": "stream",
          "name": "stdout",
          "text": [
            "Boys mean= 69.0 Girls mean= 64.0\n",
            "Boys variance= 7.4 Girls variance= 6.6\n",
            "Covariance= 3.9\n",
            "Correlation= 0.5580547118563389\n"
          ]
        }
      ],
      "source": [
        "# それそれの平均\n",
        "boys_mean = statistics.mean(boys_height)\n",
        "girls_mean = statistics.mean(girls_height)\n",
        "print('Boys mean=', boys_mean, 'Girls mean=', girls_mean)\n",
        "\n",
        "boys_var = statistics.variance(boys_height)\n",
        "girls_var = statistics.variance(girls_height)\n",
        "print('Boys variance=', boys_var, 'Girls variance=', girls_var)\n",
        "\n",
        "coval = statistics.covariance(boys_height, girls_height)\n",
        "print('Covariance=', coval)\n",
        "\n",
        "corr = statistics.correlation(boys_height, girls_height)\n",
        "print('Correlation=', corr)"
      ]
    },
    {
      "cell_type": "markdown",
      "source": [
        "## 分散共分散行列\n",
        "\n",
        "\\begin{align*}\n",
        "  \\Sigma = \\frac{1}{n} \\sum_{i=1}^n (\\bf{x}_i - \\bar{\\bf{x}}) (\\bf{x}_i - \\bar{\\bf{x}})^T\n",
        "\\end{align*}"
      ],
      "metadata": {
        "id": "S3KMrOsbyq6i"
      }
    },
    {
      "cell_type": "code",
      "source": [
        "# concatenate boys_height and girls_height\n",
        "\n",
        "X = np.concatenate((boys_height, girls_height), axis=0).reshape((2, 11))\n",
        "\n",
        "print('X\\n', X.T)\n",
        "\n",
        "Sigma = np.cov(X)\n",
        "\n",
        "print('Covariance Matrix\\n', Sigma)"
      ],
      "metadata": {
        "id": "fhfG5fRnzQEE",
        "outputId": "69120078-333f-4b07-efdd-a6c5bce4a9b9",
        "colab": {
          "base_uri": "https://localhost:8080/"
        }
      },
      "execution_count": 28,
      "outputs": [
        {
          "output_type": "stream",
          "name": "stdout",
          "text": [
            "X\n",
            " [[71. 69.]\n",
            " [68. 64.]\n",
            " [66. 65.]\n",
            " [67. 63.]\n",
            " [70. 65.]\n",
            " [71. 62.]\n",
            " [70. 65.]\n",
            " [73. 64.]\n",
            " [72. 66.]\n",
            " [65. 59.]\n",
            " [66. 62.]]\n",
            "Covariance Matrix\n",
            " [[7.4 3.9]\n",
            " [3.9 6.6]]\n"
          ]
        }
      ]
    }
  ],
  "metadata": {
    "colab": {
      "provenance": [],
      "include_colab_link": true
    },
    "kernelspec": {
      "display_name": "base",
      "language": "python",
      "name": "python3"
    },
    "language_info": {
      "codemirror_mode": {
        "name": "ipython",
        "version": 3
      },
      "file_extension": ".py",
      "mimetype": "text/x-python",
      "name": "python",
      "nbconvert_exporter": "python",
      "pygments_lexer": "ipython3",
      "version": "3.12.4"
    }
  },
  "nbformat": 4,
  "nbformat_minor": 0
}