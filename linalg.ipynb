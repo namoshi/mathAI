{
  "cells": [
    {
      "cell_type": "markdown",
      "metadata": {
        "id": "view-in-github",
        "colab_type": "text"
      },
      "source": [
        "<a href=\"https://colab.research.google.com/github/namoshi/mathAI/blob/master/linalg.ipynb\" target=\"_parent\"><img src=\"https://colab.research.google.com/assets/colab-badge.svg\" alt=\"Open In Colab\"/></a>"
      ]
    },
    {
      "cell_type": "markdown",
      "metadata": {
        "id": "qc-Nb4y6lmVC"
      },
      "source": [
        "# Pythonを用いた線形代数\n",
        "\n",
        "\n",
        "広島大学\n",
        "名誉教授 栗田多喜夫\n"
      ]
    },
    {
      "cell_type": "markdown",
      "metadata": {
        "id": "uZlG68u6lmVD"
      },
      "source": [
        "## numpyによる線形代数\n",
        "\n",
        "\n",
        "numpy を利用するためにパッケージをimportします．"
      ]
    },
    {
      "cell_type": "code",
      "execution_count": 1,
      "metadata": {
        "colab": {
          "base_uri": "https://localhost:8080/"
        },
        "id": "NDZJZcvslmVE",
        "outputId": "9f5c3ef9-4013-4572-8c83-60917d6ec773"
      },
      "outputs": [
        {
          "output_type": "stream",
          "name": "stdout",
          "text": [
            "1.25.2\n"
          ]
        }
      ],
      "source": [
        "import numpy as np\n",
        "print(np.__version__)"
      ]
    },
    {
      "cell_type": "markdown",
      "metadata": {
        "id": "u-jGrO4DlmVK"
      },
      "source": [
        "## ベクトルと行列の定義"
      ]
    },
    {
      "cell_type": "markdown",
      "metadata": {
        "id": "hwvaTP0vlmVM"
      },
      "source": [
        "### ベクトル\n",
        "\n",
        "numpyで1次元のベクトル（配列）を作って，それを変数$x$に代入してみます．\n",
        "\n",
        "\\begin{align*}\n",
        " x = \\begin{bmatrix} 1 \\\\ 2 \\\\ 3 \\end{bmatrix}\n",
        "\\end{align*}"
      ]
    },
    {
      "cell_type": "code",
      "execution_count": null,
      "metadata": {
        "colab": {
          "base_uri": "https://localhost:8080/"
        },
        "id": "bWwzOVSZlmVN",
        "outputId": "89add53c-743c-49c4-f670-7cedbcfa80f2"
      },
      "outputs": [
        {
          "output_type": "stream",
          "name": "stdout",
          "text": [
            "x\n",
            " [1 2 3]\n"
          ]
        }
      ],
      "source": [
        "x = np.array([1,2,3])\n",
        "print('x\\n', x)\n"
      ]
    },
    {
      "cell_type": "markdown",
      "metadata": {
        "id": "_f4Be9GelmVX"
      },
      "source": [
        "### 行列\n",
        "\n",
        "同様に，$2 \\times 3$の行列（２次元の配列）を作って，変数$A$に代入してみます．\n",
        "\n",
        "\\begin{align*}\n",
        " A = \\begin{bmatrix} 1 & 2 & 3 \\\\ 4 & 5 & 6 \\end{bmatrix}\n",
        "\\end{align*}"
      ]
    },
    {
      "cell_type": "code",
      "execution_count": null,
      "metadata": {
        "colab": {
          "base_uri": "https://localhost:8080/"
        },
        "id": "Qm6GF3d6lmVY",
        "outputId": "2cb2795a-8575-40db-e1be-eaeac7defa2f"
      },
      "outputs": [
        {
          "output_type": "stream",
          "name": "stdout",
          "text": [
            "[[1 2 3]\n",
            " [4 5 6]]\n"
          ]
        }
      ],
      "source": [
        "A = np.array([[1,2,3],[4,5,6]])\n",
        "print(A)"
      ]
    },
    {
      "cell_type": "markdown",
      "metadata": {
        "id": "xNcUH3YklmVe"
      },
      "source": [
        "### 転置\n",
        "\n",
        " 行列$A$の行と列を入れ替えた行列(転置)$A^T$を計算するには，transposeを使います．"
      ]
    },
    {
      "cell_type": "code",
      "execution_count": null,
      "metadata": {
        "colab": {
          "base_uri": "https://localhost:8080/"
        },
        "id": "L0PoS0adlmVf",
        "outputId": "c98ebf50-9585-425b-9697-365c17b49a60"
      },
      "outputs": [
        {
          "output_type": "stream",
          "name": "stdout",
          "text": [
            "[[1 4]\n",
            " [2 5]\n",
            " [3 6]]\n"
          ]
        }
      ],
      "source": [
        "AT = np.transpose(A)\n",
        "print(AT)"
      ]
    },
    {
      "cell_type": "markdown",
      "metadata": {
        "id": "WII0xGpUQOJn"
      },
      "source": [
        "これは，省略形を用いて，次のように書くこともできます．"
      ]
    },
    {
      "cell_type": "code",
      "execution_count": null,
      "metadata": {
        "colab": {
          "base_uri": "https://localhost:8080/"
        },
        "id": "lNiyFdaDlmVl",
        "outputId": "2ac1967d-3bb2-4d97-f5b0-833ecfb24c36"
      },
      "outputs": [
        {
          "output_type": "stream",
          "name": "stdout",
          "text": [
            "[[1 4]\n",
            " [2 5]\n",
            " [3 6]]\n"
          ]
        }
      ],
      "source": [
        "# 省略表記\n",
        "AT = A.T\n",
        "print(AT)"
      ]
    },
    {
      "cell_type": "markdown",
      "metadata": {
        "id": "IDFQxVDUlmVu"
      },
      "source": [
        "### 回転行列\n",
        "\n",
        "２次元の回転行列$R(\\theta)$\n",
        "\n",
        "\\begin{align*}\n",
        "R(\\theta) = \\begin{bmatrix} \\cos \\theta & - \\sin \\theta \\\\ \\sin \\theta & \\cos \\theta \\end{bmatrix}\n",
        "\\end{align*}\n",
        "\n",
        "を定義してみましょう．\n",
        "この関数を使うと，任意の$\\theta$に対して，回転行列＄R(\\theta)$を計算することができます．\n",
        "以下の例では，$R(\\pi/4)$と$R(\\pi/2)$を計算しています．\n"
      ]
    },
    {
      "cell_type": "code",
      "execution_count": null,
      "metadata": {
        "colab": {
          "base_uri": "https://localhost:8080/"
        },
        "id": "wNvtpTrKlmVw",
        "outputId": "37d56156-aec1-4c84-f975-b2334bb20af4"
      },
      "outputs": [
        {
          "output_type": "stream",
          "name": "stdout",
          "text": [
            "[[ 0.70710678 -0.70710678]\n",
            " [ 0.70710678  0.70710678]]\n",
            "[[ 6.123234e-17 -1.000000e+00]\n",
            " [ 1.000000e+00  6.123234e-17]]\n"
          ]
        }
      ],
      "source": [
        "def R(th):\n",
        "    R = np.array([[np.cos(th), -np.sin(th)],\n",
        "                  [np.sin(th),  np.cos(th)]])\n",
        "    return R\n",
        "\n",
        "print(R(np.pi/4))\n",
        "\n",
        "print(R(np.pi/2))"
      ]
    },
    {
      "cell_type": "markdown",
      "metadata": {
        "id": "sTSuNemIlmV5"
      },
      "source": [
        "### 単位行列\n",
        "\n",
        "単位行列\n",
        "\n",
        "\\begin{align*}\n",
        "I = \\begin{bmatrix} 1 & 0   & \\cdots & 0 \\\\ 0   & 1 & \\cdots & 0 \\\\ \\vdots & \\vdots & \\ddots & \\vdots \\\\ 0   & 0   & \\cdots & 1 \\end{bmatrix} = diag(1,1,\\ldots,1) = [\\delta_{ij}]\n",
        "\\end{align*}\n",
        "\n",
        "は，numpy.eye関数を使うと生成することができます．ここで，引数は行列のサイズです．\n",
        "\n",
        "以下のコードは，$3 \\times 3$の単位行列を変数$I$に代入しています．\n"
      ]
    },
    {
      "cell_type": "code",
      "execution_count": null,
      "metadata": {
        "colab": {
          "base_uri": "https://localhost:8080/"
        },
        "id": "KY185X9PlmV7",
        "outputId": "b7df9ed3-660f-4bb5-cd37-ee0eb2d30e8c"
      },
      "outputs": [
        {
          "output_type": "stream",
          "name": "stdout",
          "text": [
            "[[1. 0. 0.]\n",
            " [0. 1. 0.]\n",
            " [0. 0. 1.]]\n"
          ]
        }
      ],
      "source": [
        "I = np.eye(3)\n",
        "print(I)"
      ]
    },
    {
      "cell_type": "markdown",
      "metadata": {
        "id": "hOSQRk9PlmWD"
      },
      "source": [
        "### ベクトルの内積\n",
        "\n",
        "ベクトルの内積\n",
        "\n",
        "\\begin{align*}\n",
        " {\\bf{x}}^T {\\bf{y}} = \\begin{bmatrix} x_1 & x_2 & \\cdots & x_m \\end{bmatrix} \\begin{bmatrix} y_1 \\\\ y_2 \\\\ \\vdots \\\\ y_m \\end{bmatrix}\n",
        " = \\sum_{i=1}^m x_i y_i = {\\bf{y}}^T {\\bf{x}}\n",
        "\\end{align*}\n",
        "\n",
        "は，numpy.dot関数を用いて計算することができます．\n",
        "\n",
        "省略形として，変数xの後にdot(y)をつけて，x.dot(y)のように書くこともできます．"
      ]
    },
    {
      "cell_type": "code",
      "execution_count": null,
      "metadata": {
        "colab": {
          "base_uri": "https://localhost:8080/"
        },
        "id": "MJo_14DHlmWE",
        "outputId": "5cbedfe2-2a4e-40c4-cf40-2b662ec00c28"
      },
      "outputs": [
        {
          "output_type": "stream",
          "name": "stdout",
          "text": [
            "12\n",
            "12\n"
          ]
        }
      ],
      "source": [
        "x = np.array([1,2,3])\n",
        "y = np.array([4,-5,6])\n",
        "print(np.dot(x,y))\n",
        "# 省略表記\n",
        "print(x.dot(y))"
      ]
    },
    {
      "cell_type": "markdown",
      "metadata": {
        "id": "LpOr71AulmWM"
      },
      "source": [
        "### ベクトルのノルム（長さ）\n",
        "\n",
        "ベクトルのノルム\n",
        "\n",
        "$$\n",
        "||{\\bf{x}}|| = \\sqrt{{\\bf{x}}^T{\\bf{x}}} = \\sqrt{ x_1^2+x_2^2 + \\cdots + x_m^2}= \\sqrt{\\sum_{i=1}^m x_i^2}\n",
        "$$\n",
        "\n",
        "は，numpy.linalg.norm関数で計算できます．"
      ]
    },
    {
      "cell_type": "code",
      "execution_count": null,
      "metadata": {
        "colab": {
          "base_uri": "https://localhost:8080/"
        },
        "id": "eLUzTZltlmWN",
        "outputId": "549f406d-ac0c-40e4-a951-6f1dc6c3a23e"
      },
      "outputs": [
        {
          "output_type": "stream",
          "name": "stdout",
          "text": [
            "[1 2 3]\n",
            "14.0\n",
            "14.0\n"
          ]
        }
      ],
      "source": [
        "print(x)\n",
        "xnorm = np.linalg.norm(x)\n",
        "print(xnorm**2)\n",
        "\n",
        "# 内積を用いて，定義通りに計算\n",
        "xnorm = np.sqrt(np.dot(x,x))\n",
        "print(xnorm**2)"
      ]
    },
    {
      "cell_type": "markdown",
      "metadata": {
        "id": "1sZdyj1dlmWS"
      },
      "source": [
        "### 行列とベクトルの積\n",
        "\n",
        "同様に，行列とベクトルの積\n",
        "\n",
        "$$\n",
        " {\\bf{y}} = A {\\bf{x}}\n",
        " =\n",
        " \\begin{bmatrix}\n",
        " a_{11} & a_{12} & \\cdots & a_{1n} \\\\\n",
        " a_{21} & a_{22} & \\cdots & a_{2n} \\\\\n",
        " \\vdots & \\vdots & \\ddots & \\vdots \\\\\n",
        " a_{m1} & a_{m2} & \\cdots & a_{mn}\n",
        " \\end{bmatrix}\n",
        " \\begin{bmatrix}\n",
        " x_1 \\\\\n",
        " x_2 \\\\\n",
        " \\vdots \\\\\n",
        " x_n\n",
        " \\end{bmatrix}\n",
        " =\n",
        " \\begin{bmatrix}\n",
        " \\sum_{j=1} a_{1j} x_j \\\\\n",
        " \\sum_{j=1} a_{2j} x_j \\\\\n",
        " \\vdots \\\\\n",
        " \\sum_{j=1} a_{mj} x_j\n",
        " \\end{bmatrix}\n",
        "$$\n",
        "\n",
        "もnumpy.dotで計算できます．"
      ]
    },
    {
      "cell_type": "code",
      "execution_count": null,
      "metadata": {
        "colab": {
          "base_uri": "https://localhost:8080/"
        },
        "id": "2vNEfa72lmWT",
        "outputId": "6b982494-6813-4296-fa81-2e4a6d73faad"
      },
      "outputs": [
        {
          "output_type": "stream",
          "name": "stdout",
          "text": [
            "A\n",
            " [[ 1  2  3]\n",
            " [ 1  2 -1]]\n",
            "x\n",
            " [ 4 -5  6]\n",
            "A x\n",
            " [ 12 -12]\n",
            "A x\n",
            " [ 12 -12]\n",
            "A x\n",
            " [ 12 -12]\n"
          ]
        }
      ],
      "source": [
        "A = np.array([[1,2,3],[1,2,-1]])\n",
        "print('A\\n', A)\n",
        "x = np.array([4, -5, 6])\n",
        "print('x\\n',x)\n",
        "Ax = np.dot(A,x)\n",
        "print('A x\\n', Ax)\n",
        "\n",
        "# 省略表現\n",
        "Ax = A.dot(x)\n",
        "print('A x\\n', Ax)\n",
        "\n",
        "# 簡単表現\n",
        "Ax = A @ x\n",
        "print('A x\\n', Ax)\n"
      ]
    },
    {
      "cell_type": "markdown",
      "metadata": {
        "id": "uE9kjE3ylmWX"
      },
      "source": [
        "### 行列の積\n",
        "\n",
        "行列と行列の積も同様です．"
      ]
    },
    {
      "cell_type": "code",
      "execution_count": null,
      "metadata": {
        "colab": {
          "base_uri": "https://localhost:8080/"
        },
        "id": "6TqHK_10lmWY",
        "outputId": "2290aa27-dda9-42f7-a106-b667901f6ee6"
      },
      "outputs": [
        {
          "output_type": "stream",
          "name": "stdout",
          "text": [
            "A\n",
            " [[ 1  2  3]\n",
            " [ 1  2 -1]]\n",
            "B\n",
            " [[ 4  1]\n",
            " [-5  1]\n",
            " [ 6  1]]\n",
            "A B\n",
            " [[ 12   6]\n",
            " [-12   2]]\n",
            "A B\n",
            " [[ 12   6]\n",
            " [-12   2]]\n",
            "A B\n",
            " [[ 12   6]\n",
            " [-12   2]]\n"
          ]
        }
      ],
      "source": [
        "A = np.array([[1,2,3],[1,2,-1]])\n",
        "print('A\\n', A)\n",
        "B = np.array([[4, 1], [-5, 1], [6, 1]])\n",
        "print('B\\n',B)\n",
        "AB = np.dot(A,B)\n",
        "print('A B\\n', AB)\n",
        "\n",
        "# 省略表現\n",
        "AB = A.dot(B)\n",
        "print('A B\\n', AB)\n",
        "\n",
        "# 簡単表現\n",
        "AB = A @ B\n",
        "print('A B\\n', AB)\n"
      ]
    },
    {
      "cell_type": "markdown",
      "source": [
        "行列の積は，順番が重要です．\n",
        "\n",
        "行列$A$と行列$B$の積をその順番を入れ替えて，$AB$と$BA$を計算してみます．\n"
      ],
      "metadata": {
        "id": "hXrCfbXJIEPA"
      }
    },
    {
      "cell_type": "code",
      "source": [
        "A = np.array([[1,2,3],[1,2,-1],[3,2,1]])\n",
        "print('A\\n', A)\n",
        "B = np.array([[4, 1, 3], [-5, 1, 2], [6, 1, 1]])\n",
        "print('B\\n',B)\n",
        "\n",
        "print('----\\n')\n",
        "print('AB')\n",
        "AB = np.dot(A, B)\n",
        "print(AB)\n",
        "\n",
        "print('BA')\n",
        "BA = np.dot(B, A)\n",
        "print(BA)\n"
      ],
      "metadata": {
        "id": "t8lQjDmrIYt9",
        "outputId": "e80feda1-eff3-4050-b604-3a19de43f38a",
        "colab": {
          "base_uri": "https://localhost:8080/"
        }
      },
      "execution_count": null,
      "outputs": [
        {
          "output_type": "stream",
          "name": "stdout",
          "text": [
            "A\n",
            " [[ 1  2  3]\n",
            " [ 1  2 -1]\n",
            " [ 3  2  1]]\n",
            "B\n",
            " [[ 4  1  3]\n",
            " [-5  1  2]\n",
            " [ 6  1  1]]\n",
            "----\n",
            "\n",
            "AB\n",
            "[[ 12   6  10]\n",
            " [-12   2   6]\n",
            " [  8   6  14]]\n",
            "BA\n",
            "[[ 14  16  14]\n",
            " [  2  -4 -14]\n",
            " [ 10  16  18]]\n"
          ]
        }
      ]
    },
    {
      "cell_type": "markdown",
      "metadata": {
        "id": "bGAxet6xlmWc"
      },
      "source": [
        "### 正方行列のトレース\n",
        "\n",
        "正方行列$A$のトレースは，\n",
        "\n",
        "$$\n",
        " tr(A) =\n",
        " \\begin{bmatrix}\n",
        " a_{11} & a_{12} & \\cdots & a_{1m} \\\\\n",
        " a_{21} & a_{22} & \\cdots & a_{2m} \\\\\n",
        " \\vdots & \\vdots & \\ddots & \\vdots \\\\\n",
        " a_{m1} & a_{m2} & \\cdots & a_{mm}\n",
        " \\end{bmatrix} = a_{11} + a_{22} + \\cdots + a_{mm}\n",
        "$$\n",
        "\n",
        "のように定義されます．\n",
        "\n",
        "これは，numpyでは，numpy.trace(A)で計算することができます．\n"
      ]
    },
    {
      "cell_type": "code",
      "execution_count": null,
      "metadata": {
        "colab": {
          "base_uri": "https://localhost:8080/"
        },
        "id": "iBpUSA4JlmWc",
        "outputId": "eed7f4e6-2d03-4895-cd98-d3466acded84"
      },
      "outputs": [
        {
          "output_type": "stream",
          "name": "stdout",
          "text": [
            "A\n",
            " [[ 1  2  3]\n",
            " [ 2  2  2]\n",
            " [-4 -3 -2]]\n",
            "trace of A =  1\n"
          ]
        }
      ],
      "source": [
        "A=np.array([[1,2,3], [2,2,2], [-4, -3, -2]])\n",
        "print('A\\n', A)\n",
        "print('trace of A = ', np.trace(A))"
      ]
    },
    {
      "cell_type": "markdown",
      "metadata": {
        "id": "x32TghYdlmWi"
      },
      "source": [
        "### トレースの性質\n",
        "\n",
        "トレースの性質として，以下の二つは重要です．\n",
        "\n",
        "$$\n",
        "    tr(A+B) = tr(A) + tr(B)\n",
        "$$\n",
        "    あるいは，\n",
        "$$\n",
        "    tr(AB) = tr(BA)\n",
        "$$\n",
        "\n",
        "以下のコードは，これらが成り立つことを具体的な行列で確かめています．\n"
      ]
    },
    {
      "cell_type": "code",
      "execution_count": null,
      "metadata": {
        "colab": {
          "base_uri": "https://localhost:8080/"
        },
        "id": "3bMJVkttlmWk",
        "outputId": "5fca6e75-5720-4561-fd0c-559075c42169"
      },
      "outputs": [
        {
          "output_type": "stream",
          "name": "stdout",
          "text": [
            "A\n",
            " [[ 1  2  3]\n",
            " [ 2  2  2]\n",
            " [-4 -3 -2]]\n",
            "trace of A =  1\n",
            "B\n",
            " [[1 1 1]\n",
            " [2 2 2]\n",
            " [3 3 3]]\n",
            "trace of B =  6\n",
            "\n",
            "=== tr(A+B) = tr(A) + tr(B) ===\n",
            "trace of A + B =  7\n",
            "tr(A) + tr(B) =  7\n",
            "\n",
            "=== tr(AB) = tr(BA) ===\n",
            "tr(AB) =  10\n",
            "tr(BA) =  10\n"
          ]
        }
      ],
      "source": [
        "A=np.array([[1,2,3], [2,2,2], [-4, -3, -2]])\n",
        "print('A\\n', A)\n",
        "print('trace of A = ', np.trace(A))\n",
        "B=np.array([[1,1,1], [2,2,2], [3,3,3]])\n",
        "print('B\\n', B)\n",
        "print('trace of B = ', np.trace(B))\n",
        "\n",
        "# tr(A+B)\n",
        "print('\\n=== tr(A+B) = tr(A) + tr(B) ===')\n",
        "print('trace of A + B = ', np.trace(A+B))\n",
        "print('tr(A) + tr(B) = ', np.trace(A) + np.trace(B))\n",
        "\n",
        "# trac(AB)\n",
        "print('\\n=== tr(AB) = tr(BA) ===')\n",
        "print('tr(AB) = ', np.trace(A.dot(B)))\n",
        "print('tr(BA) = ', np.trace(B.dot(A)))"
      ]
    },
    {
      "cell_type": "markdown",
      "metadata": {
        "id": "Un975998lmWs"
      },
      "source": [
        "### 2次形式\n",
        "\n",
        "２次形式は，以下のように定義されます．\n",
        "\n",
        "$$\n",
        "      {\\bf{x}}^T A {\\bf{x}} = \\begin{bmatrix} x_1 &  x_2 & \\cdots & x_m \\end{bmatrix}\n",
        "      \\begin{bmatrix}\n",
        "        a_{11} & a_{12} & \\cdots & a_{1m} \\\\\n",
        "        a_{21} & a_{22} & \\cdots & a_{2m} \\\\\n",
        "        \\vdots & \\vdots & \\ddots & \\vdots \\\\\n",
        "        a_{m1} & a_{m2} & \\cdots & a_{mm}\n",
        "      \\end{bmatrix}\n",
        "      \\begin{bmatrix} x_1 \\\\ x_2 \\\\ \\vdots \\\\ x_m \\end{bmatrix}\n",
        "      = \\sum_{i=1}^m \\sum_{j=1}^m a_{ij} x_i x_j\n",
        "$$\n",
        "\n",
        "以下のコードでは，$\\bf{x}^T A \\bf{x}$を具体的な行列，ベクトルでnumpy.dotをつかって，定義通りに計算しています．"
      ]
    },
    {
      "cell_type": "code",
      "execution_count": null,
      "metadata": {
        "colab": {
          "base_uri": "https://localhost:8080/"
        },
        "id": "B16RsyIBlmWt",
        "outputId": "4f2c944c-0277-4045-8072-c779d525eea7"
      },
      "outputs": [
        {
          "output_type": "stream",
          "name": "stdout",
          "text": [
            "A\n",
            " [[1 2 3]\n",
            " [2 2 2]\n",
            " [3 2 3]]\n",
            "b\n",
            " [ 1 -2  1]\n",
            "b^TAb =  2\n"
          ]
        }
      ],
      "source": [
        "A=np.array([[1,2,3], [2,2,2], [3, 2, 3]])\n",
        "print('A\\n', A)\n",
        "b = np.array([1,-2,1])\n",
        "print('b\\n', b)\n",
        "qf = np.dot(b.T, A.dot(b))\n",
        "print('b^TAb = ', qf)\n"
      ]
    },
    {
      "cell_type": "markdown",
      "metadata": {
        "id": "sqDfRdTZlmW1"
      },
      "source": [
        "### フロベニウス・ノルム\n",
        "\n",
        "行列の全ての要素の２乗の和の平方根\n",
        "\n",
        "\\begin{align*}\n",
        "  ||A|| = \\sqrt{\\sum_{i=1}^m \\sum_{j=1}^n a_{ij}^2}\n",
        "\\end{align*}\n",
        "\n",
        "をフロベニウス・ノルムと呼びます．\n",
        "\n",
        "これは，トレースを使って，\n",
        "\n",
        "$$\n",
        "||A|| = \\sqrt{tr(A A^T)} = \\sqrt{tr(A^T A)}\n",
        "$$\n",
        "\n",
        "のように計算することも可能です．\n",
        "\n",
        "以下のコードは，それを確かめています．"
      ]
    },
    {
      "cell_type": "code",
      "execution_count": null,
      "metadata": {
        "colab": {
          "base_uri": "https://localhost:8080/"
        },
        "id": "QArKEG8TlmW2",
        "outputId": "eaf25732-81db-4a84-8a48-f951c6ca1334"
      },
      "outputs": [
        {
          "output_type": "stream",
          "name": "stdout",
          "text": [
            "A\n",
            " [[1 2 3]\n",
            " [4 5 6]]\n",
            "Frobenius norm =  9.539392014169456\n",
            "\n",
            "=== tr(A A^T) ===\n",
            "A A^T\n",
            " [[14 32]\n",
            " [32 77]]\n",
            "tr(A A^T) =  91\n",
            "sqrt(tr(A A^T)) =  9.539392014169456\n",
            "\n",
            "=== tr(A^T A) ===\n",
            "A^T A\n",
            " [[17 22 27]\n",
            " [22 29 36]\n",
            " [27 36 45]]\n",
            "tr(A^T A) =  91\n",
            "sqrt(tr(A^T A)) =  9.539392014169456\n"
          ]
        }
      ],
      "source": [
        "A=np.array([[1,2,3], [4,5,6]])\n",
        "print('A\\n', A)\n",
        "print('Frobenius norm = ', np.linalg.norm(A))\n",
        "\n",
        "# tr(A A^T)\n",
        "print('\\n=== tr(A A^T) ===')\n",
        "AAT = A.dot(A.T)\n",
        "print('A A^T\\n', AAT)\n",
        "trAAT = np.trace(AAT)\n",
        "print('tr(A A^T) = ', trAAT)\n",
        "print('sqrt(tr(A A^T)) = ', np.sqrt(trAAT))\n",
        "\n",
        "# tr(A^T A)\n",
        "print('\\n=== tr(A^T A) ===')\n",
        "ATA = np.dot(A.T, A)\n",
        "print('A^T A\\n', ATA)\n",
        "trATA = np.trace(ATA)\n",
        "print('tr(A^T A) = ', trATA)\n",
        "print('sqrt(tr(A^T A)) = ', np.sqrt(trATA))\n"
      ]
    },
    {
      "cell_type": "markdown",
      "metadata": {
        "id": "qnT2GwcQlmXF"
      },
      "source": [
        "### 行列の簡約化（Reduced Raw Echelon Form)\n",
        "\n",
        "sympy を用いて，行列\n",
        "$$\n",
        "\\begin{bmatrix}\n",
        "2 & 3 & 6 \\\\\n",
        "4 & 5 & 7\n",
        "\\end{bmatrix}\n",
        "$$\n",
        "の簡約化をしてみます．"
      ]
    },
    {
      "cell_type": "code",
      "execution_count": null,
      "metadata": {
        "id": "8VAqoQPVlmXG"
      },
      "outputs": [],
      "source": [
        "import sympy as sym"
      ]
    },
    {
      "cell_type": "code",
      "execution_count": null,
      "metadata": {
        "colab": {
          "base_uri": "https://localhost:8080/",
          "height": 94
        },
        "id": "73SYkpv4lmXM",
        "outputId": "d190816a-547c-46a4-84d4-63efe5fbc112"
      },
      "outputs": [
        {
          "output_type": "stream",
          "name": "stdout",
          "text": [
            "A\n",
            " Matrix([[2, 3, 6], [4, 5, 7]])\n"
          ]
        },
        {
          "output_type": "execute_result",
          "data": {
            "text/plain": [
              "Matrix([\n",
              "[1, 0, -9/2],\n",
              "[0, 1,    5]])"
            ],
            "text/latex": "$\\displaystyle \\left[\\begin{matrix}1 & 0 & - \\frac{9}{2}\\\\0 & 1 & 5\\end{matrix}\\right]$"
          },
          "metadata": {},
          "execution_count": 32
        }
      ],
      "source": [
        "A = sym.Matrix([[2,3,6],[4,5,7]])\n",
        "print('A\\n', A)\n",
        "(B, Pv) = A.rref()\n",
        "#print('B\\n')\n",
        "B"
      ]
    },
    {
      "cell_type": "markdown",
      "metadata": {
        "id": "8SxnskdLlmXT"
      },
      "source": [
        "### ランク\n",
        "\n",
        "行列のランクは，簡約化した行列の行の数として定義されます．\n",
        "\n",
        "ここでは，行列\n",
        "$$\n",
        "\\begin{bmatrix}\n",
        "1 & 0 & 2 & 1 \\\\\n",
        "2 & 1 & 1 & 0 \\\\\n",
        "0 & 1 & 1 & 0\n",
        "\\end{bmatrix}\n",
        "$$\n",
        "を簡約化してみます．"
      ]
    },
    {
      "cell_type": "code",
      "execution_count": null,
      "metadata": {
        "colab": {
          "base_uri": "https://localhost:8080/",
          "height": 114
        },
        "id": "CijhQA7BlmXU",
        "outputId": "492c7369-1a7f-43dc-c541-c057c2c22c20"
      },
      "outputs": [
        {
          "output_type": "stream",
          "name": "stdout",
          "text": [
            "A\n",
            " Matrix([[1, 0, 2, 1], [2, 1, 1, 0], [0, 1, 1, 0]])\n"
          ]
        },
        {
          "output_type": "execute_result",
          "data": {
            "text/plain": [
              "Matrix([\n",
              "[1, 0, 0,    0],\n",
              "[0, 1, 0, -1/2],\n",
              "[0, 0, 1,  1/2]])"
            ],
            "text/latex": "$\\displaystyle \\left[\\begin{matrix}1 & 0 & 0 & 0\\\\0 & 1 & 0 & - \\frac{1}{2}\\\\0 & 0 & 1 & \\frac{1}{2}\\end{matrix}\\right]$"
          },
          "metadata": {},
          "execution_count": 33
        }
      ],
      "source": [
        "A=sym.Matrix([[1,0,2,1], [2,1,1,0], [0,1,1,0]])\n",
        "print('A\\n', A)\n",
        "(B, Pv) = A.rref()\n",
        "B"
      ]
    },
    {
      "cell_type": "markdown",
      "metadata": {
        "id": "2MPfRdLflmXb"
      },
      "source": [
        "これから，この行列のランクは３であることがわかります．"
      ]
    },
    {
      "cell_type": "markdown",
      "metadata": {
        "id": "elnFIpRMlmXc"
      },
      "source": [
        "### numpy でのランクの計算\n",
        "\n",
        "次に，numpyで同じ行列のランクを計算してみます．\n",
        "\n",
        "そのために，numpy.linalg.matrix_rankという関数を使います．"
      ]
    },
    {
      "cell_type": "code",
      "execution_count": null,
      "metadata": {
        "colab": {
          "base_uri": "https://localhost:8080/"
        },
        "id": "yF7ap6Y0lmXd",
        "outputId": "030ad35b-c7b1-49f7-bf59-1b00ea46da20"
      },
      "outputs": [
        {
          "output_type": "stream",
          "name": "stdout",
          "text": [
            "A\n",
            " [[1 0 2 1]\n",
            " [2 1 1 0]\n",
            " [0 1 1 0]]\n",
            "rank(A)= 3\n"
          ]
        }
      ],
      "source": [
        "A=np.array([[1,0,2,1], [2,1,1,0], [0,1,1,0]])\n",
        "print('A\\n', A)\n",
        "print('rank(A)=', np.linalg.matrix_rank(A))"
      ]
    },
    {
      "cell_type": "markdown",
      "source": [
        "# 三角行列\n",
        "\n",
        "## 上三角行列\n",
        "\n",
        "上三角行列\n",
        "$$\n",
        "A=\\begin{bmatrix}\n",
        "1 & 0 & 2 & 1 \\\\\n",
        "0 & 3 & 1 & 3 \\\\\n",
        "0 & 0 & 1 & 0 \\\\\n",
        "0 & 0 & 0 & 2\n",
        "\\end{bmatrix}\n",
        "$$\n",
        "のトレース$tr(A)$, 行列式$det(A)$, 逆行列$A^{-1}$, 固有値を求めてみます．\n",
        "\n",
        "まず，転置を計算してみます．\n",
        "上三角行列の転置は，下三角行列になります．\n",
        "\n",
        "理論的には，トレースは$tr(A)=1+3+1+2=7$ となり，行列式は$det(A)=1 \\times 3 \\times 1 \\times 2 = 6$となるはずなので，それを確かめてみます．\n",
        "\n",
        "また，上三角行列の逆行列は上三角行列になるはずなので，それを確かめてみます．\n",
        "\n",
        "三角行列の固有値は，対角成分に等しいことが知られていますので，行列$A$の固有値を具体的に計算してみます．\n",
        "\n",
        "最後に上三角行列の2乗，3乗を計算してみます．\n",
        "上三角行列のべき乗は，上三角行列となることがわかります．\n"
      ],
      "metadata": {
        "id": "uez33RyeM4eC"
      }
    },
    {
      "cell_type": "code",
      "source": [
        "A=np.array([[1,0,2,1], [0,3,1,3], [0,0,1,0], [0,0,0,2]])\n",
        "print('A\\n', A)\n",
        "\n",
        "print('A.T\\n', A.T)\n",
        "\n",
        "print('trace(A)=', np.trace(A))\n",
        "\n",
        "print('determinant of A=', np.linalg.det(A))\n",
        "\n",
        "Ainv = np.linalg.inv(A)\n",
        "print('Inverse of A\\n', Ainv)\n",
        "print('A Ainv\\n', np.dot(A, Ainv))\n",
        "\n",
        "E, L = np.linalg.eig(A)\n",
        "print('Eigen Values\\n', E)\n",
        "\n",
        "AA = np.dot(A, A)\n",
        "AAA = np.dot(A, AA)\n",
        "print('AA\\n', AA)\n",
        "print('AAA\\n', AAA)\n"
      ],
      "metadata": {
        "id": "P25AQOjBNvnw",
        "outputId": "718947e5-94e3-49a4-8961-0f7b0215a200",
        "colab": {
          "base_uri": "https://localhost:8080/"
        }
      },
      "execution_count": 2,
      "outputs": [
        {
          "output_type": "stream",
          "name": "stdout",
          "text": [
            "A\n",
            " [[1 0 2 1]\n",
            " [0 3 1 3]\n",
            " [0 0 1 0]\n",
            " [0 0 0 2]]\n",
            "A.T\n",
            " [[1 0 0 0]\n",
            " [0 3 0 0]\n",
            " [2 1 1 0]\n",
            " [1 3 0 2]]\n",
            "trace(A)= 7\n",
            "determinant of A= 6.0\n",
            "Inverse of A\n",
            " [[ 1.          0.         -2.         -0.5       ]\n",
            " [ 0.          0.33333333 -0.33333333 -0.5       ]\n",
            " [ 0.          0.          1.          0.        ]\n",
            " [ 0.          0.          0.          0.5       ]]\n",
            "A Ainv\n",
            " [[1. 0. 0. 0.]\n",
            " [0. 1. 0. 0.]\n",
            " [0. 0. 1. 0.]\n",
            " [0. 0. 0. 1.]]\n",
            "Eigen Values\n",
            " [1. 3. 1. 2.]\n",
            "AA\n",
            " [[ 1  0  4  3]\n",
            " [ 0  9  4 15]\n",
            " [ 0  0  1  0]\n",
            " [ 0  0  0  4]]\n",
            "AAA\n",
            " [[ 1  0  6  7]\n",
            " [ 0 27 13 57]\n",
            " [ 0  0  1  0]\n",
            " [ 0  0  0  8]]\n"
          ]
        }
      ]
    },
    {
      "cell_type": "markdown",
      "metadata": {
        "id": "9M1Ymew1lmXk"
      },
      "source": [
        "### LU分解\n",
        "\n",
        "正方行列の簡約化を途中まで（上三角行列になるまで）実行すると，元の行列$A$を下三角行列$L$と上三角行列$U$の積に分解することができます．\n",
        "\n",
        "これを行列の分解方法をLU分解と言います．\n",
        "実際には，これに行の番号付けの入れ替えを表す行列$P$を使って，\n",
        "\n",
        "\\begin{align*}\n",
        "    A = P L U\n",
        "\\end{align*}\n",
        "\n",
        "のように分解することができます．\n",
        "\n",
        "以下のコードでは，numply.scipy.linalg.luという関数を使って，行列$A$をLU分解し，元も行列が再構成できることを確かめています．"
      ]
    },
    {
      "cell_type": "code",
      "execution_count": null,
      "metadata": {
        "colab": {
          "base_uri": "https://localhost:8080/"
        },
        "id": "WyTrwYhilmXl",
        "outputId": "ddc6e2e0-cac0-408e-db40-856ebb05f68d"
      },
      "outputs": [
        {
          "output_type": "stream",
          "name": "stdout",
          "text": [
            "LU decomposition (A = PLU): \n",
            "A:\n",
            " [[ 1  2  2]\n",
            " [ 2  5  6]\n",
            " [ 3  8 12]]\n",
            "P: \n",
            " [[0. 1. 0.]\n",
            " [0. 0. 1.]\n",
            " [1. 0. 0.]]\n",
            "L: \n",
            " [[1.         0.         0.        ]\n",
            " [0.33333333 1.         0.        ]\n",
            " [0.66666667 0.5        1.        ]]\n",
            "U: \n",
            " [[ 3.          8.         12.        ]\n",
            " [ 0.         -0.66666667 -2.        ]\n",
            " [ 0.          0.         -1.        ]]\n",
            "PLU: \n",
            " [[ 1.  2.  2.]\n",
            " [ 2.  5.  6.]\n",
            " [ 3.  8. 12.]]\n"
          ]
        }
      ],
      "source": [
        "import numpy as np\n",
        "from scipy.linalg import lu\n",
        "\n",
        "# pylint: disable=invalid-name\n",
        "\n",
        "A = np.array([[1, 2, 2],\n",
        "              [2, 5, 6],\n",
        "              [3, 8, 12]])\n",
        "\n",
        "print(\"LU decomposition (A = PLU): \")\n",
        "print(\"A:\\n\", A)\n",
        "P, L, U = lu(A)\n",
        "print(\"P: \\n\", P)\n",
        "print(\"L: \\n\", L)\n",
        "print(\"U: \\n\", U)\n",
        "print(\"PLU: \\n\", P @ L @ U)"
      ]
    },
    {
      "cell_type": "markdown",
      "metadata": {
        "id": "mq1Mx-NplmXs"
      },
      "source": [
        "### 連立方程式の解\n",
        "\n",
        "scipyを利用して，以下の連立方程式の解を求めてみましょう．\n",
        "\n",
        "\\begin{align*}\n",
        "    \\begin{bmatrix} 3 & 2 & 0 \\\\ 1 & -1 & 0 \\\\ 0 & 5 & 1 \\end{bmatrix}\n",
        "    \\begin{bmatrix} x_1 \\\\ x_2 \\\\ x_3 \\end{bmatrix} =\n",
        "    \\begin{bmatrix} 2 \\\\ 4 \\\\ -1 \\end{bmatrix}\n",
        "\\end{align*}"
      ]
    },
    {
      "cell_type": "code",
      "execution_count": null,
      "metadata": {
        "colab": {
          "base_uri": "https://localhost:8080/"
        },
        "id": "QnIGVZRnlmXt",
        "outputId": "0bbae6b1-57cc-4e04-e71a-bc9748777f40"
      },
      "outputs": [
        {
          "output_type": "stream",
          "name": "stdout",
          "text": [
            "m= 3 n= 3\n",
            "[A b]\n",
            " [[ 3  2  0  2]\n",
            " [ 1 -1  0  4]\n",
            " [ 0  5  1 -1]]\n",
            "Rank A= 3 Rank [A b]= 3\n",
            "Determinant is -5.0\n",
            "The solurion is  [ 2. -2.  9.]\n",
            "A x = [ 2.  4. -1.]\n"
          ]
        }
      ],
      "source": [
        "#importing the scipy and numpy packages\n",
        "from scipy import linalg\n",
        "import numpy as np\n",
        "\n",
        "#Declaring the numpy arrays\n",
        "A = np.array([[3, 2, 0], [1, -1, 0], [0, 5, 1]])\n",
        "b = np.array([2, 4, -1])\n",
        "\n",
        "m, n = A.shape\n",
        "\n",
        "print('m=', m, 'n=', n)\n",
        "\n",
        "# Augmented matrx [A b]\n",
        "Ab = np.column_stack((A, b))\n",
        "print(\"[A b]\\n\", Ab)\n",
        "\n",
        "rankA = np.linalg.matrix_rank(A)\n",
        "rankAb = np.linalg.matrix_rank(Ab)\n",
        "\n",
        "print(\"Rank A=\", rankA, \"Rank [A b]=\", rankAb)\n",
        "\n",
        "if (rankA != rankAb):\n",
        "    print(\"There is no solution!!!\")\n",
        "elif (n != rankA):\n",
        "    print(\"There is no uniqe solution\\n\")\n",
        "else:\n",
        "\n",
        "    # Determinant of A\n",
        "    detA = linalg.det(A)\n",
        "    print(\"Determinant is\", detA)\n",
        "\n",
        "    #Passing the values to the solve function\n",
        "    x = linalg.solve(A, b)\n",
        "\n",
        "    #printing the result array\n",
        "    print(\"The solurion is \", x)\n",
        "\n",
        "    # A x\n",
        "    print(\"A x =\", A.dot(x))\n"
      ]
    },
    {
      "cell_type": "markdown",
      "metadata": {
        "id": "Yrr5ohJYlmXz"
      },
      "source": [
        "### 逆行列\n",
        "\n",
        "numpy.linalg.inv関数を用いて，行列\n",
        "$$\n",
        "A=\\begin{bmatrix}\n",
        "2 & 1 & 1 \\\\\n",
        "1 & 2 & 1 \\\\\n",
        "1 & 1 & 2\n",
        "\\end{bmatrix}\n",
        "$$\n",
        "の逆行列を数値計算で求めてみます．\n"
      ]
    },
    {
      "cell_type": "code",
      "execution_count": null,
      "metadata": {
        "colab": {
          "base_uri": "https://localhost:8080/"
        },
        "id": "gdQj8H1tlmX0",
        "outputId": "98cc5ecb-af80-4ac1-c9cb-391aa15a2259"
      },
      "outputs": [
        {
          "output_type": "stream",
          "name": "stdout",
          "text": [
            "A\n",
            " [[2 1 1]\n",
            " [1 2 1]\n",
            " [1 1 2]]\n",
            "Inverse of A\n",
            " [[ 0.75 -0.25 -0.25]\n",
            " [-0.25  0.75 -0.25]\n",
            " [-0.25 -0.25  0.75]]\n",
            "A A^{-1}\n",
            " [[1.00000000e+00 5.55111512e-17 0.00000000e+00]\n",
            " [0.00000000e+00 1.00000000e+00 0.00000000e+00]\n",
            " [0.00000000e+00 1.11022302e-16 1.00000000e+00]]\n"
          ]
        }
      ],
      "source": [
        "A=np.array([[2,1,1],[1,2,1],[1,1,2]])\n",
        "print('A\\n', A)\n",
        "Ainv = np.linalg.inv(A)\n",
        "print('Inverse of A\\n', Ainv)\n",
        "\n",
        "# Check for A A^{-1}=I\n",
        "print('A A^{-1}\\n', A.dot(Ainv))"
      ]
    },
    {
      "cell_type": "markdown",
      "metadata": {
        "id": "QLT1_VZmlmX4"
      },
      "source": [
        "### 行列式\n",
        "\n",
        "正方行列の行列式は，numpy.linalg.det関数で求めることができます．\n",
        "\n",
        "行列式の性質として，以下のような関係が知られています．\n",
        "\n",
        "$$\n",
        "det(A^T)=det(A)\n",
        "$$\n",
        "\n",
        "$$\n",
        "det(A^{-1}) = \\frac{1}{det(A)}\n",
        "$$\n",
        "\n",
        "$$\n",
        "det(AB) = det(A) det(B)\n",
        "$$"
      ]
    },
    {
      "cell_type": "code",
      "execution_count": null,
      "metadata": {
        "colab": {
          "base_uri": "https://localhost:8080/"
        },
        "id": "35-8JcI5lmX5",
        "outputId": "e005772b-7652-4a41-a14d-9bf8a401cd95"
      },
      "outputs": [
        {
          "output_type": "stream",
          "name": "stdout",
          "text": [
            "A\n",
            " [[ 1 -1  2]\n",
            " [ 2  1  1]\n",
            " [-1 -1  1]]\n",
            "B\n",
            " [[ 1  3 -1]\n",
            " [-1  1 -1]\n",
            " [ 1  1 -3]]\n",
            "det(A) =  2.9999999999999996\n",
            "det(A^T) =  2.9999999999999996\n",
            "det(A^{-1}) =  0.3333333333333333\n",
            "det(B) =  -12.0\n",
            "det(B^T) =  -12.0\n",
            "det(B^{-1}) =  -0.08333333333333329\n",
            "det(AB)= -36.0\n"
          ]
        }
      ],
      "source": [
        "A=np.array([[1,-1,2],[2,1,1],[-1,-1,1]])\n",
        "print('A\\n', A)\n",
        "B=np.array([[1,3,-1], [-1,1,-1], [1,1,-3]])\n",
        "print('B\\n', B)\n",
        "\n",
        "# det(A)\n",
        "detA = np.linalg.det(A)\n",
        "print(\"det(A) = \", detA)\n",
        "\n",
        "# det(A^T)\n",
        "detAT = np.linalg.det(A.T)\n",
        "print(\"det(A^T) = \", detAT)\n",
        "\n",
        "# det(A^{-1})\n",
        "detAinv = np.linalg.det(np.linalg.inv(A))\n",
        "print(\"det(A^{-1}) = \", detAinv)\n",
        "\n",
        "# det(B)\n",
        "detB = np.linalg.det(B)\n",
        "print(\"det(B) = \", detB)\n",
        "\n",
        "# det(B^T)\n",
        "detBT = np.linalg.det(B.T)\n",
        "print(\"det(B^T) = \", detBT)\n",
        "\n",
        "# det(B^{-1})\n",
        "detBinv = np.linalg.det(np.linalg.inv(B))\n",
        "print(\"det(B^{-1}) = \", detBinv)\n",
        "\n",
        "# det(AB)\n",
        "detAB = np.linalg.det(A.dot(B))\n",
        "print(\"det(AB)=\", detAB)"
      ]
    },
    {
      "cell_type": "markdown",
      "metadata": {
        "id": "pACUA9ZBlmX8"
      },
      "source": [
        "### 固有値と固有ベクトル\n",
        "\n",
        "$A\\bf{x} = \\lambda \\bf{x}$が成り立つとき，$\\lambda$を行列$A$の固有値，$\\bf{x}$を行列$A$の固有値$\\lambda$に対する固有ベクトルと呼びます．\n",
        "\n",
        "$n$次正方行列の固有値は，重複をふくめて，$n$個存在します．それらをまとめて，行列表現すると\n",
        "\n",
        "$$\n",
        "A X = X \\Lambda\n",
        "$$\n",
        "\n",
        "のように書けます．ここで，$\\Lambda$は固有値を対角要素にもつ対角行列で，$X$は対応する固有ベクトルを並べた行列です．\n",
        "\n",
        "numpy.linalg.eig関数で正方行列の固有値と固有ベクトルを求めることができます．\n"
      ]
    },
    {
      "cell_type": "code",
      "execution_count": null,
      "metadata": {
        "colab": {
          "base_uri": "https://localhost:8080/"
        },
        "id": "uVs7ES_HlmX9",
        "outputId": "6bf4a43c-c1f7-4d31-f3f2-16f313746687"
      },
      "outputs": [
        {
          "output_type": "stream",
          "name": "stdout",
          "text": [
            "A\n",
            " [[ 0 -1]\n",
            " [ 1  0]]\n",
            "Eigen Values\n",
            " [0.+1.j 0.-1.j]\n",
            "Eiven Vectors\n",
            " [[0.70710678+0.j         0.70710678-0.j        ]\n",
            " [0.        -0.70710678j 0.        +0.70710678j]]\n"
          ]
        }
      ],
      "source": [
        "A=np.array([[0,-1],[1,0]])\n",
        "print('A\\n', A)\n",
        "\n",
        "[E, V] = np.linalg.eig(A)\n",
        "print('Eigen Values\\n', E)\n",
        "print('Eiven Vectors\\n', V)"
      ]
    },
    {
      "cell_type": "markdown",
      "metadata": {
        "id": "VWZ1eI-flmYA"
      },
      "source": [
        "これ例から，行列$A$が実行列でも固有値や固有ベクトルは複素数になることがわかります"
      ]
    },
    {
      "cell_type": "markdown",
      "metadata": {
        "id": "k4iZ9mdxlmYA"
      },
      "source": [
        "### 固有値と固有ベクトル\n",
        "\n",
        "3次実対称行列の場合"
      ]
    },
    {
      "cell_type": "code",
      "execution_count": null,
      "metadata": {
        "colab": {
          "base_uri": "https://localhost:8080/"
        },
        "id": "IiODtaWolmYB",
        "outputId": "c53307cf-0767-45de-8d8d-5e9156dac5cf"
      },
      "outputs": [
        {
          "output_type": "stream",
          "name": "stdout",
          "text": [
            "A\n",
            " [[1 2 3]\n",
            " [2 2 1]\n",
            " [3 1 3]]\n",
            "Eigen Values\n",
            " [ 6.14389545 -1.52834667  1.38445123]\n",
            "Eiven Vectors\n",
            " [[ 0.57392741  0.81866166 -0.02001012]\n",
            " [ 0.4431767  -0.33105373 -0.83306533]\n",
            " [ 0.68862307 -0.46925101  0.55281258]]\n"
          ]
        }
      ],
      "source": [
        "A=np.array([[1,2,3], [2,2,1],[3,1,3]])\n",
        "print('A\\n', A)\n",
        "\n",
        "[L, U] = np.linalg.eig(A)\n",
        "print('Eigen Values\\n', L)\n",
        "print('Eiven Vectors\\n', U)"
      ]
    },
    {
      "cell_type": "markdown",
      "metadata": {
        "id": "sytDysJtlmYE"
      },
      "source": [
        "実対象行列の固有値，固有ベクトルは実数となることがわかります．\n"
      ]
    },
    {
      "cell_type": "markdown",
      "metadata": {
        "id": "aEgRHyeQlmYF"
      },
      "source": [
        "この行列の対角化，つまり，\n",
        "\n",
        "$$\n",
        "X^T A X = X^T X \\Lambda = \\Lambda\n",
        "$$\n",
        "\n",
        "を計算してみます．"
      ]
    },
    {
      "cell_type": "code",
      "execution_count": null,
      "metadata": {
        "colab": {
          "base_uri": "https://localhost:8080/"
        },
        "id": "wFpoI9ChlmYG",
        "outputId": "89c084db-6ddb-4350-a73c-70e3ee72543d"
      },
      "outputs": [
        {
          "output_type": "stream",
          "name": "stdout",
          "text": [
            "Eigen Values\n",
            " [[ 6.14389545  0.          0.        ]\n",
            " [ 0.         -1.52834667  0.        ]\n",
            " [ 0.          0.          1.38445123]]\n",
            "U^T A U\n",
            " [[ 6.14389545e+00 -1.96662074e-16 -6.19728760e-16]\n",
            " [-2.77920928e-16 -1.52834667e+00  3.70210736e-16]\n",
            " [-6.83591689e-16  2.65669655e-16  1.38445123e+00]]\n"
          ]
        }
      ],
      "source": [
        "print(\"Eigen Values\\n\", np.diag(L))\n",
        "print(\"U^T A U\\n\", np.dot(U.T, np.dot(A, U)))"
      ]
    },
    {
      "cell_type": "markdown",
      "metadata": {
        "id": "ZSmHM3WSlmYJ"
      },
      "source": [
        "### スペクトル分解\n",
        "\n",
        "逆に，\n",
        "\n",
        "$$\n",
        " A = X \\Lambda X^T\n",
        "$$\n",
        "\n",
        "を行列$A$のスペクトル分解と呼びます．"
      ]
    },
    {
      "cell_type": "code",
      "execution_count": null,
      "metadata": {
        "colab": {
          "base_uri": "https://localhost:8080/"
        },
        "id": "a646XaD_lmYK",
        "outputId": "8509cbb7-2460-4567-812c-da8385222e6d"
      },
      "outputs": [
        {
          "output_type": "stream",
          "name": "stdout",
          "text": [
            "A\n",
            " [[1 2 3]\n",
            " [2 2 1]\n",
            " [3 1 3]]\n",
            "U L U^{T}\n",
            " [[1. 2. 3.]\n",
            " [2. 2. 1.]\n",
            " [3. 1. 3.]]\n"
          ]
        }
      ],
      "source": [
        "print(\"A\\n\", A)\n",
        "print(\"U L U^{T}\\n\", np.dot(U, np.dot(np.diag(L), U.T)))"
      ]
    },
    {
      "cell_type": "markdown",
      "metadata": {
        "id": "G0YWiIFOgXV5"
      },
      "source": [
        "このように，もとの行列$A$が再構成できることがわかります．"
      ]
    },
    {
      "cell_type": "markdown",
      "metadata": {
        "id": "eHFe2Lx9lmYN"
      },
      "source": [
        "### 特異値分解\n",
        "\n",
        "特異値分解は，正方行列のスペクトル分解を一般の長方形の行列に拡張したような概念です．\n",
        "\n",
        "詳細は，教科書などを参考にしてください．\n"
      ]
    },
    {
      "cell_type": "code",
      "execution_count": null,
      "metadata": {
        "colab": {
          "base_uri": "https://localhost:8080/"
        },
        "id": "_apVx7bDlmYN",
        "outputId": "1fa317d5-d53f-476a-8139-4557e14aef69"
      },
      "outputs": [
        {
          "output_type": "stream",
          "name": "stdout",
          "text": [
            "B\n",
            " [[1 2 3]\n",
            " [2 2 2]]\n",
            "S\n",
            " [[-0.73588229 -0.67710949]\n",
            " [-0.67710949  0.73588229]]\n",
            "D\n",
            " [5.00415773 0.97898183]\n",
            "V^T\n",
            " [[-0.41767294 -0.56472711 -0.71178129]\n",
            " [ 0.81171587  0.12006923 -0.57157741]\n",
            " [ 0.40824829 -0.81649658  0.40824829]]\n",
            "S D V^T\n",
            " [[1. 2. 3.]\n",
            " [2. 2. 2.]]\n"
          ]
        }
      ],
      "source": [
        "B=np.array([[1,2,3], [2,2,2]])\n",
        "print('B\\n', B)\n",
        "\n",
        "[S, D, V] = np.linalg.svd(B, full_matrices=True)\n",
        "\n",
        "print('S\\n', S)\n",
        "print('D\\n', D)\n",
        "print('V^T\\n', V)\n",
        "\n",
        "print('S D V^T\\n', np.dot(S * D, V[:2,:]))\n"
      ]
    },
    {
      "cell_type": "markdown",
      "metadata": {
        "id": "bXzGwgKmlmYR"
      },
      "source": [
        "### 一般化逆行列（Moore–Penrose inverse）\n",
        "\n",
        "[特異値分解との関係]\n",
        "\n",
        "$A$の特異値分解が，\n",
        "$$\n",
        "A = U D V^T\n",
        "$$\n",
        "で与えられる時，一般化逆行列$A^{+}$は，\n",
        "$$\n",
        "A^{+} = V D^{+} U^{T}\n",
        "$$\n",
        "で与えられる．ここで，$D^{+}$は，０以外の対角要素はその逆数をとり，0はそのままにした対角行列\n",
        "\n",
        "これから，\n",
        "$$\n",
        " A A^{+} = U D V^{T} V D^{+} U^{T} = U D D^{+} U^{T} = U U^{T} = I\n",
        "$$\n",
        "となることが確かめられる．\n"
      ]
    },
    {
      "cell_type": "code",
      "execution_count": null,
      "metadata": {
        "colab": {
          "base_uri": "https://localhost:8080/"
        },
        "id": "dqxsGJu0lmYV",
        "outputId": "5bdc2cca-d2a6-450a-b1b0-4c5e5e7c7882"
      },
      "outputs": [
        {
          "output_type": "stream",
          "name": "stdout",
          "text": [
            "A\n",
            " [[1 2 3]\n",
            " [2 2 2]]\n",
            "Moore-Penrose pseudo-invers\n",
            " [[-5.00000000e-01  6.66666667e-01]\n",
            " [-1.17301862e-16  1.66666667e-01]\n",
            " [ 5.00000000e-01 -3.33333333e-01]]\n",
            "A PinvA\n",
            " [[ 1.00000000e+00  1.66533454e-16]\n",
            " [-1.11022302e-16  1.00000000e+00]]\n"
          ]
        }
      ],
      "source": [
        "from numpy.linalg import pinv\n",
        "\n",
        "A = np.array([[1,2,3], [2,2,2]])\n",
        "print('A\\n', A)\n",
        "\n",
        "PinvA = pinv(A)\n",
        "\n",
        "print('Moore-Penrose pseudo-invers\\n', PinvA)\n",
        "\n",
        "print('A PinvA\\n', np.dot(A, PinvA))"
      ]
    },
    {
      "cell_type": "markdown",
      "metadata": {
        "id": "E8LnfEyRlmYY"
      },
      "source": [
        "## sympy を用いた線形代数"
      ]
    },
    {
      "cell_type": "markdown",
      "metadata": {
        "id": "VrASAcMglmYY"
      },
      "source": [
        "行列の宣言"
      ]
    },
    {
      "cell_type": "code",
      "execution_count": null,
      "metadata": {
        "colab": {
          "base_uri": "https://localhost:8080/"
        },
        "id": "9HFZBMP2lmYZ",
        "outputId": "3745afe1-8a11-4444-a1b0-353256955a78"
      },
      "outputs": [
        {
          "output_type": "stream",
          "name": "stdout",
          "text": [
            "Matrix([[1, 2, 3], [4, 5, 6], [7, 8, 9]])\n"
          ]
        }
      ],
      "source": [
        "A = sym.Matrix([\n",
        "    [1,2,3],\n",
        "    [4,5,6],\n",
        "    [7,8,9]\n",
        "])\n",
        "print(A)"
      ]
    },
    {
      "cell_type": "markdown",
      "metadata": {
        "id": "xLLtaQhElmYd"
      },
      "source": [
        "   ”ｓｙｍｐｙ．Matrix” をnumpy.arrayに変換"
      ]
    },
    {
      "cell_type": "code",
      "execution_count": null,
      "metadata": {
        "colab": {
          "base_uri": "https://localhost:8080/"
        },
        "id": "CiKYjClqlmYd",
        "outputId": "30fd3345-0f66-4f5f-f6c8-69ed780fd0f6"
      },
      "outputs": [
        {
          "output_type": "stream",
          "name": "stdout",
          "text": [
            "[[1 2 3]\n",
            " [4 5 6]\n",
            " [7 8 9]]\n"
          ]
        }
      ],
      "source": [
        "A_n = sym.matrix2numpy(A)\n",
        "print(A_n)"
      ]
    },
    {
      "cell_type": "markdown",
      "metadata": {
        "id": "NaRzl9t8lmYh"
      },
      "source": [
        "零行列"
      ]
    },
    {
      "cell_type": "code",
      "execution_count": null,
      "metadata": {
        "colab": {
          "base_uri": "https://localhost:8080/"
        },
        "id": "fhURCvUblmYh",
        "outputId": "b5a03d52-4d41-483f-8d27-2aa9ab9c9864"
      },
      "outputs": [
        {
          "output_type": "stream",
          "name": "stdout",
          "text": [
            "Matrix([[0, 0, 0], [0, 0, 0]])\n"
          ]
        }
      ],
      "source": [
        "Zero = sym.Matrix.zeros(2, 3)\n",
        "print(Zero)"
      ]
    },
    {
      "cell_type": "markdown",
      "metadata": {
        "id": "VyC6gapslmYk"
      },
      "source": [
        "単位行列"
      ]
    },
    {
      "cell_type": "code",
      "execution_count": null,
      "metadata": {
        "colab": {
          "base_uri": "https://localhost:8080/"
        },
        "id": "Sg_dqIz5lmYl",
        "outputId": "99bf3606-0ba4-4751-8d78-689a3147d636"
      },
      "outputs": [
        {
          "output_type": "stream",
          "name": "stdout",
          "text": [
            "Matrix([[1, 0, 0], [0, 1, 0], [0, 0, 1]])\n"
          ]
        }
      ],
      "source": [
        "I = sym.Matrix.eye(3,3)\n",
        "print(I)"
      ]
    },
    {
      "cell_type": "markdown",
      "metadata": {
        "id": "qQCow89mlmYt"
      },
      "source": [
        "対角行列"
      ]
    },
    {
      "cell_type": "code",
      "execution_count": null,
      "metadata": {
        "colab": {
          "base_uri": "https://localhost:8080/"
        },
        "id": "QmOi-wK6lmYt",
        "outputId": "38e94891-f900-487e-d21e-f8442b9d5e13"
      },
      "outputs": [
        {
          "output_type": "stream",
          "name": "stdout",
          "text": [
            "Matrix([[1, 0, 0], [0, 2, 0], [0, 0, 3]])\n"
          ]
        }
      ],
      "source": [
        "D = sym.Matrix.diag(1,2,3)\n",
        "print(D)"
      ]
    },
    {
      "cell_type": "code",
      "execution_count": null,
      "metadata": {
        "colab": {
          "base_uri": "https://localhost:8080/"
        },
        "id": "EYFLAHjElmYx",
        "outputId": "0c17fcfa-4f57-4fc7-a941-44d045b40aa8"
      },
      "outputs": [
        {
          "output_type": "stream",
          "name": "stdout",
          "text": [
            "Matrix([[1, 2, 3], [4, 5, 6], [7, 8, 9]])\n",
            "6\n",
            "1\n",
            "6\n"
          ]
        }
      ],
      "source": [
        "print(A)\n",
        "print(A[1,2])\n",
        "print(A[0,0])\n",
        "print(A[5])"
      ]
    },
    {
      "cell_type": "code",
      "execution_count": null,
      "metadata": {
        "colab": {
          "base_uri": "https://localhost:8080/"
        },
        "id": "bmKNUDk7lmY1",
        "outputId": "9aa8efde-c45b-4abe-fcb2-39c37861d091"
      },
      "outputs": [
        {
          "output_type": "stream",
          "name": "stdout",
          "text": [
            "Matrix([[1, 2, 3], [4, 5, 6], [7, 8, 9]])\n",
            "Matrix([[7, 8, 9], [4, 5, 6], [1, 2, 3]])\n",
            "Matrix([[18, 24, 30], [54, 69, 84], [90, 114, 138]])\n"
          ]
        }
      ],
      "source": [
        "B=sym.Matrix([[7,8,9],[4,5,6],[1,2,3]])\n",
        "print(A)\n",
        "print(B)\n",
        "print(A * B)"
      ]
    },
    {
      "cell_type": "markdown",
      "metadata": {
        "id": "O953OsJVlmY6"
      },
      "source": [
        "行列の簡約化（Raw Echelon Form)"
      ]
    },
    {
      "cell_type": "code",
      "execution_count": null,
      "metadata": {
        "colab": {
          "base_uri": "https://localhost:8080/"
        },
        "id": "8EUeiql5lmY8",
        "outputId": "49bcc315-c007-478f-e7fb-89c63201b270"
      },
      "outputs": [
        {
          "output_type": "stream",
          "name": "stdout",
          "text": [
            "A=Matrix([[1, 2, 3], [4, 5, 6], [7, 8, 9]])\n",
            "G=Matrix([[1, 0, -1], [0, 1, 2], [0, 0, 0]])\n"
          ]
        }
      ],
      "source": [
        "print(\"A={}\".format(A))\n",
        "(G, Pv) = A.rref()\n",
        "print(\"G={}\".format(G))"
      ]
    },
    {
      "cell_type": "markdown",
      "metadata": {
        "id": "sTaAG-ATlmZD"
      },
      "source": [
        "行列のランク"
      ]
    },
    {
      "cell_type": "code",
      "execution_count": null,
      "metadata": {
        "colab": {
          "base_uri": "https://localhost:8080/"
        },
        "id": "oi0a8Ay8lmZD",
        "outputId": "8e4b5358-840d-484f-d1f6-39e431793333"
      },
      "outputs": [
        {
          "output_type": "stream",
          "name": "stdout",
          "text": [
            "2\n",
            "2\n",
            "3\n"
          ]
        }
      ],
      "source": [
        "print(A.rank())\n",
        "print(B.rank())\n",
        "print((A * B - I).rank())"
      ]
    },
    {
      "cell_type": "markdown",
      "metadata": {
        "id": "JXDdsBQylmZH"
      },
      "source": [
        "行列の逆行列"
      ]
    },
    {
      "cell_type": "code",
      "execution_count": null,
      "metadata": {
        "colab": {
          "base_uri": "https://localhost:8080/"
        },
        "id": "0oV8rtE8lmZH",
        "outputId": "661ec299-a158-44c4-8bec-f010d865924f"
      },
      "outputs": [
        {
          "output_type": "stream",
          "name": "stdout",
          "text": [
            "Matrix([[-65/137, 33/137, -6/137], [81/274, -371/548, 48/137], [9/137, 111/274, -35/137]])\n",
            "Matrix([[1, 0, 0], [0, 1, 0], [0, 0, 1]])\n"
          ]
        }
      ],
      "source": [
        "C=A * B - I\n",
        "Cinv = C.inv()\n",
        "print(Cinv)\n",
        "print(C * Cinv)"
      ]
    }
  ],
  "metadata": {
    "celltoolbar": "Slideshow",
    "colab": {
      "name": "linalg.ipynb",
      "provenance": [],
      "include_colab_link": true
    },
    "kernelspec": {
      "display_name": "Python 3",
      "language": "python",
      "name": "python3"
    },
    "language_info": {
      "codemirror_mode": {
        "name": "ipython",
        "version": 3
      },
      "file_extension": ".py",
      "mimetype": "text/x-python",
      "name": "python",
      "nbconvert_exporter": "python",
      "pygments_lexer": "ipython3",
      "version": "3.9.7"
    }
  },
  "nbformat": 4,
  "nbformat_minor": 0
}