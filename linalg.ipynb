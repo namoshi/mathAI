{
  "cells": [
    {
      "cell_type": "markdown",
      "metadata": {
        "id": "view-in-github",
        "colab_type": "text"
      },
      "source": [
        "<a href=\"https://colab.research.google.com/github/namoshi/mathAI/blob/master/linalg.ipynb\" target=\"_parent\"><img src=\"https://colab.research.google.com/assets/colab-badge.svg\" alt=\"Open In Colab\"/></a>"
      ]
    },
    {
      "cell_type": "markdown",
      "metadata": {
        "id": "qc-Nb4y6lmVC"
      },
      "source": [
        "# Pythonを用いた線形代数\n",
        "\n",
        "\n",
        "広島大学\n",
        "名誉教授 栗田多喜夫\n"
      ]
    },
    {
      "cell_type": "markdown",
      "metadata": {
        "id": "uZlG68u6lmVD"
      },
      "source": [
        "## numpyによる線形代数\n",
        "\n",
        "\n",
        "numpy を利用するためにパッケージをimportします．"
      ]
    },
    {
      "cell_type": "code",
      "execution_count": null,
      "metadata": {
        "id": "NDZJZcvslmVE"
      },
      "outputs": [],
      "source": [
        "import numpy as np\n",
        "print(np.__version__)"
      ]
    },
    {
      "cell_type": "markdown",
      "metadata": {
        "id": "u-jGrO4DlmVK"
      },
      "source": [
        "## ベクトルと行列の定義"
      ]
    },
    {
      "cell_type": "markdown",
      "metadata": {
        "id": "hwvaTP0vlmVM"
      },
      "source": [
        "### ベクトル\n",
        "\n",
        "numpyで1次元のベクトル（配列）を作って，それを変数$x$に代入してみます．\n",
        "\n",
        "\\begin{align*}\n",
        " x = \\begin{bmatrix} 1 \\\\ 2 \\\\ 3 \\end{bmatrix}\n",
        "\\end{align*}"
      ]
    },
    {
      "cell_type": "code",
      "execution_count": null,
      "metadata": {
        "id": "bWwzOVSZlmVN"
      },
      "outputs": [],
      "source": [
        "x = np.array([1,2,3])\n",
        "print('x\\n', x)\n"
      ]
    },
    {
      "cell_type": "markdown",
      "metadata": {
        "id": "_f4Be9GelmVX"
      },
      "source": [
        "### 行列\n",
        "\n",
        "同様に，$2 \\times 3$の行列（２次元の配列）を作って，変数$A$に代入してみます．\n",
        "\n",
        "\\begin{align*}\n",
        " A = \\begin{bmatrix} 1 & 2 & 3 \\\\ 4 & 5 & 6 \\end{bmatrix}\n",
        "\\end{align*}"
      ]
    },
    {
      "cell_type": "code",
      "execution_count": null,
      "metadata": {
        "id": "Qm6GF3d6lmVY"
      },
      "outputs": [],
      "source": [
        "A = np.array([[1,2,3],[4,5,6]])\n",
        "print(A)"
      ]
    },
    {
      "cell_type": "markdown",
      "metadata": {
        "id": "xNcUH3YklmVe"
      },
      "source": [
        "### 転置\n",
        "\n",
        " 行列$A$の行と列を入れ替えた行列(転置)$A^T$を計算するには，transposeを使います．"
      ]
    },
    {
      "cell_type": "code",
      "execution_count": null,
      "metadata": {
        "id": "L0PoS0adlmVf"
      },
      "outputs": [],
      "source": [
        "AT = np.transpose(A)\n",
        "print(AT)"
      ]
    },
    {
      "cell_type": "markdown",
      "metadata": {
        "id": "WII0xGpUQOJn"
      },
      "source": [
        "これは，省略形を用いて，次のように書くこともできます．"
      ]
    },
    {
      "cell_type": "code",
      "execution_count": null,
      "metadata": {
        "id": "lNiyFdaDlmVl"
      },
      "outputs": [],
      "source": [
        "# 省略表記\n",
        "AT = A.T\n",
        "print(AT)"
      ]
    },
    {
      "cell_type": "markdown",
      "metadata": {
        "id": "IDFQxVDUlmVu"
      },
      "source": [
        "### 回転行列\n",
        "\n",
        "２次元の回転行列$R(\\theta)$\n",
        "\n",
        "\\begin{align*}\n",
        "R(\\theta) = \\begin{bmatrix} \\cos \\theta & - \\sin \\theta \\\\ \\sin \\theta & \\cos \\theta \\end{bmatrix}\n",
        "\\end{align*}\n",
        "\n",
        "を定義してみましょう．\n",
        "この関数を使うと，任意の$\\theta$に対して，回転行列＄R(\\theta)$を計算することができます．\n",
        "以下の例では，$R(\\pi/4)$と$R(\\pi/2)$を計算しています．\n"
      ]
    },
    {
      "cell_type": "code",
      "execution_count": null,
      "metadata": {
        "id": "wNvtpTrKlmVw"
      },
      "outputs": [],
      "source": [
        "def R(th):\n",
        "    R = np.array([[np.cos(th), -np.sin(th)],\n",
        "                  [np.sin(th),  np.cos(th)]])\n",
        "    return R\n",
        "\n",
        "print(R(np.pi/4))\n",
        "\n",
        "print(R(np.pi/2))"
      ]
    },
    {
      "cell_type": "markdown",
      "metadata": {
        "id": "sTSuNemIlmV5"
      },
      "source": [
        "### 単位行列\n",
        "\n",
        "単位行列\n",
        "\n",
        "\\begin{align*}\n",
        "I = \\begin{bmatrix} 1 & 0   & \\cdots & 0 \\\\ 0   & 1 & \\cdots & 0 \\\\ \\vdots & \\vdots & \\ddots & \\vdots \\\\ 0   & 0   & \\cdots & 1 \\end{bmatrix} = diag(1,1,\\ldots,1) = [\\delta_{ij}]\n",
        "\\end{align*}\n",
        "\n",
        "は，numpy.eye関数を使うと生成することができます．ここで，引数は行列のサイズです．\n",
        "\n",
        "以下のコードは，$3 \\times 3$の単位行列を変数$I$に代入しています．\n"
      ]
    },
    {
      "cell_type": "code",
      "execution_count": null,
      "metadata": {
        "id": "KY185X9PlmV7"
      },
      "outputs": [],
      "source": [
        "I = np.eye(3)\n",
        "print(I)"
      ]
    },
    {
      "cell_type": "markdown",
      "metadata": {
        "id": "hOSQRk9PlmWD"
      },
      "source": [
        "### ベクトルの内積\n",
        "\n",
        "ベクトルの内積\n",
        "\n",
        "\\begin{align*}\n",
        " {\\bf{x}}^T {\\bf{y}} = \\begin{bmatrix} x_1 & x_2 & \\cdots & x_m \\end{bmatrix} \\begin{bmatrix} y_1 \\\\ y_2 \\\\ \\vdots \\\\ y_m \\end{bmatrix}\n",
        " = \\sum_{i=1}^m x_i y_i = {\\bf{y}}^T {\\bf{x}}\n",
        "\\end{align*}\n",
        "\n",
        "は，numpy.dot関数を用いて計算することができます．\n",
        "\n",
        "省略形として，変数xの後にdot(y)をつけて，x.dot(y)のように書くこともできます．"
      ]
    },
    {
      "cell_type": "code",
      "execution_count": null,
      "metadata": {
        "id": "MJo_14DHlmWE"
      },
      "outputs": [],
      "source": [
        "x = np.array([1,2,3])\n",
        "y = np.array([4,-5,6])\n",
        "print(np.dot(x,y))\n",
        "# 省略表記\n",
        "print(x.dot(y))"
      ]
    },
    {
      "cell_type": "markdown",
      "metadata": {
        "id": "LpOr71AulmWM"
      },
      "source": [
        "### ベクトルのノルム（長さ）\n",
        "\n",
        "ベクトルのノルム\n",
        "\n",
        "$$\n",
        "||{\\bf{x}}|| = \\sqrt{{\\bf{x}}^T{\\bf{x}}} = \\sqrt{ x_1^2+x_2^2 + \\cdots + x_m^2}= \\sqrt{\\sum_{i=1}^m x_i^2}\n",
        "$$\n",
        "\n",
        "は，numpy.linalg.norm関数で計算できます．"
      ]
    },
    {
      "cell_type": "code",
      "execution_count": null,
      "metadata": {
        "id": "eLUzTZltlmWN"
      },
      "outputs": [],
      "source": [
        "print(x)\n",
        "xnorm = np.linalg.norm(x)\n",
        "print(xnorm**2)\n",
        "\n",
        "# 内積を用いて，定義通りに計算\n",
        "xnorm = np.sqrt(np.dot(x,x))\n",
        "print(xnorm**2)"
      ]
    },
    {
      "cell_type": "markdown",
      "metadata": {
        "id": "1sZdyj1dlmWS"
      },
      "source": [
        "### 行列とベクトルの積\n",
        "\n",
        "同様に，行列とベクトルの積\n",
        "\n",
        "$$\n",
        " {\\bf{y}} = A {\\bf{x}}\n",
        " =\n",
        " \\begin{bmatrix}\n",
        " a_{11} & a_{12} & \\cdots & a_{1n} \\\\\n",
        " a_{21} & a_{22} & \\cdots & a_{2n} \\\\\n",
        " \\vdots & \\vdots & \\ddots & \\vdots \\\\\n",
        " a_{m1} & a_{m2} & \\cdots & a_{mn}\n",
        " \\end{bmatrix}\n",
        " \\begin{bmatrix}\n",
        " x_1 \\\\\n",
        " x_2 \\\\\n",
        " \\vdots \\\\\n",
        " x_n\n",
        " \\end{bmatrix}\n",
        " =\n",
        " \\begin{bmatrix}\n",
        " \\sum_{j=1} a_{1j} x_j \\\\\n",
        " \\sum_{j=1} a_{2j} x_j \\\\\n",
        " \\vdots \\\\\n",
        " \\sum_{j=1} a_{mj} x_j\n",
        " \\end{bmatrix}\n",
        "$$\n",
        "\n",
        "もnumpy.dotで計算できます．"
      ]
    },
    {
      "cell_type": "code",
      "execution_count": 4,
      "metadata": {
        "colab": {
          "base_uri": "https://localhost:8080/"
        },
        "id": "2vNEfa72lmWT",
        "outputId": "3b92580b-22a1-4469-865f-2afc8466c001"
      },
      "outputs": [
        {
          "output_type": "stream",
          "name": "stdout",
          "text": [
            "A\n",
            " [[ 1  2  3]\n",
            " [ 1  2 -1]]\n",
            "x\n",
            " [ 4 -5  6]\n",
            "A x\n",
            " [ 12 -12]\n",
            "A x\n",
            " [ 12 -12]\n",
            "A x\n",
            " [ 12 -12]\n"
          ]
        }
      ],
      "source": [
        "A = np.array([[1,2,3],[1,2,-1]])\n",
        "print('A\\n', A)\n",
        "x = np.array([4, -5, 6])\n",
        "print('x\\n',x)\n",
        "Ax = np.dot(A,x)\n",
        "print('A x\\n', Ax)\n",
        "\n",
        "# 省略表現\n",
        "Ax = A.dot(x)\n",
        "print('A x\\n', Ax)\n",
        "\n",
        "# 簡単表現\n",
        "Ax = A @ x\n",
        "print('A x\\n', Ax)\n"
      ]
    },
    {
      "cell_type": "markdown",
      "metadata": {
        "id": "uE9kjE3ylmWX"
      },
      "source": [
        "### 行列の積\n",
        "\n",
        "行列と行列の積も同様です．"
      ]
    },
    {
      "cell_type": "code",
      "execution_count": 5,
      "metadata": {
        "colab": {
          "base_uri": "https://localhost:8080/"
        },
        "id": "6TqHK_10lmWY",
        "outputId": "0d9d7135-8ac2-49b4-c4f3-7f8c2f7e8451"
      },
      "outputs": [
        {
          "output_type": "stream",
          "name": "stdout",
          "text": [
            "A\n",
            " [[ 1  2  3]\n",
            " [ 1  2 -1]]\n",
            "B\n",
            " [[ 4  1]\n",
            " [-5  1]\n",
            " [ 6  1]]\n",
            "A B\n",
            " [[ 12   6]\n",
            " [-12   2]]\n",
            "A B\n",
            " [[ 12   6]\n",
            " [-12   2]]\n",
            "A B\n",
            " [[ 12   6]\n",
            " [-12   2]]\n"
          ]
        }
      ],
      "source": [
        "A = np.array([[1,2,3],[1,2,-1]])\n",
        "print('A\\n', A)\n",
        "B = np.array([[4, 1], [-5, 1], [6, 1]])\n",
        "print('B\\n',B)\n",
        "AB = np.dot(A,B)\n",
        "print('A B\\n', AB)\n",
        "\n",
        "# 省略表現\n",
        "AB = A.dot(B)\n",
        "print('A B\\n', AB)\n",
        "\n",
        "# 簡単表現\n",
        "AB = A @ B\n",
        "print('A B\\n', AB)\n"
      ]
    },
    {
      "cell_type": "markdown",
      "source": [
        "行列の積は，順番が重要です．\n",
        "\n",
        "行列$A$と行列$B$の積をその順番を入れ替えて，$AB$と$BA$を計算してみます．\n"
      ],
      "metadata": {
        "id": "hXrCfbXJIEPA"
      }
    },
    {
      "cell_type": "code",
      "source": [
        "A = np.array([[1,2,3],[1,2,-1],[3,2,1]])\n",
        "print('A\\n', A)\n",
        "B = np.array([[4, 1, 3], [-5, 1, 2], [6, 1, 1]])\n",
        "print('B\\n',B)\n",
        "\n",
        "print('----\\n')\n",
        "print('AB')\n",
        "AB = np.dot(A, B)\n",
        "print(AB)\n",
        "\n",
        "print('BA')\n",
        "BA = np.dot(B, A)\n",
        "print(BA)\n"
      ],
      "metadata": {
        "id": "t8lQjDmrIYt9",
        "outputId": "273a0138-348f-4ea0-f3f6-730953fa8ecd",
        "colab": {
          "base_uri": "https://localhost:8080/"
        }
      },
      "execution_count": 6,
      "outputs": [
        {
          "output_type": "stream",
          "name": "stdout",
          "text": [
            "A\n",
            " [[ 1  2  3]\n",
            " [ 1  2 -1]\n",
            " [ 3  2  1]]\n",
            "B\n",
            " [[ 4  1  3]\n",
            " [-5  1  2]\n",
            " [ 6  1  1]]\n",
            "----\n",
            "\n",
            "AB\n",
            "[[ 12   6  10]\n",
            " [-12   2   6]\n",
            " [  8   6  14]]\n",
            "BA\n",
            "[[ 14  16  14]\n",
            " [  2  -4 -14]\n",
            " [ 10  16  18]]\n"
          ]
        }
      ]
    },
    {
      "cell_type": "markdown",
      "metadata": {
        "id": "bGAxet6xlmWc"
      },
      "source": [
        "### 正方行列のトレース\n",
        "\n",
        "正方行列$A$のトレースは，\n",
        "\n",
        "$$\n",
        " tr(A) =\n",
        " \\begin{bmatrix}\n",
        " a_{11} & a_{12} & \\cdots & a_{1m} \\\\\n",
        " a_{21} & a_{22} & \\cdots & a_{2m} \\\\\n",
        " \\vdots & \\vdots & \\ddots & \\vdots \\\\\n",
        " a_{m1} & a_{m2} & \\cdots & a_{mm}\n",
        " \\end{bmatrix} = a_{11} + a_{22} + \\cdots + a_{mm}\n",
        "$$\n",
        "\n",
        "のように定義されます．\n",
        "\n",
        "これは，numpyでは，numpy.trace(A)で計算することができます．\n"
      ]
    },
    {
      "cell_type": "code",
      "execution_count": 7,
      "metadata": {
        "colab": {
          "base_uri": "https://localhost:8080/"
        },
        "id": "iBpUSA4JlmWc",
        "outputId": "a0ff58aa-3cb7-419d-a42e-1dc936907e92"
      },
      "outputs": [
        {
          "output_type": "stream",
          "name": "stdout",
          "text": [
            "A\n",
            " [[ 1  2  3]\n",
            " [ 2  2  2]\n",
            " [-4 -3 -2]]\n",
            "trace of A =  1\n"
          ]
        }
      ],
      "source": [
        "A=np.array([[1,2,3], [2,2,2], [-4, -3, -2]])\n",
        "print('A\\n', A)\n",
        "print('trace of A = ', np.trace(A))"
      ]
    },
    {
      "cell_type": "markdown",
      "metadata": {
        "id": "x32TghYdlmWi"
      },
      "source": [
        "### トレースの性質\n",
        "\n",
        "トレースの性質として，以下の二つは重要です．\n",
        "\n",
        "$$\n",
        "    tr(A+B) = tr(A) + tr(B)\n",
        "$$\n",
        "    あるいは，\n",
        "$$\n",
        "    tr(AB) = tr(BA)\n",
        "$$\n",
        "\n",
        "以下のコードは，これらが成り立つことを具体的な行列で確かめています．\n"
      ]
    },
    {
      "cell_type": "code",
      "execution_count": 8,
      "metadata": {
        "colab": {
          "base_uri": "https://localhost:8080/"
        },
        "id": "3bMJVkttlmWk",
        "outputId": "8403aee7-686b-48ea-d035-fa729cdf46e3"
      },
      "outputs": [
        {
          "output_type": "stream",
          "name": "stdout",
          "text": [
            "A\n",
            " [[ 1  2  3]\n",
            " [ 2  2  2]\n",
            " [-4 -3 -2]]\n",
            "trace of A =  1\n",
            "B\n",
            " [[1 1 1]\n",
            " [2 2 2]\n",
            " [3 3 3]]\n",
            "trace of B =  6\n",
            "\n",
            "=== tr(A+B) = tr(A) + tr(B) ===\n",
            "trace of A + B =  7\n",
            "tr(A) + tr(B) =  7\n",
            "\n",
            "=== tr(AB) = tr(BA) ===\n",
            "tr(AB) =  10\n",
            "tr(BA) =  10\n"
          ]
        }
      ],
      "source": [
        "A=np.array([[1,2,3], [2,2,2], [-4, -3, -2]])\n",
        "print('A\\n', A)\n",
        "print('trace of A = ', np.trace(A))\n",
        "B=np.array([[1,1,1], [2,2,2], [3,3,3]])\n",
        "print('B\\n', B)\n",
        "print('trace of B = ', np.trace(B))\n",
        "\n",
        "# tr(A+B)\n",
        "print('\\n=== tr(A+B) = tr(A) + tr(B) ===')\n",
        "print('trace of A + B = ', np.trace(A+B))\n",
        "print('tr(A) + tr(B) = ', np.trace(A) + np.trace(B))\n",
        "\n",
        "# trac(AB)\n",
        "print('\\n=== tr(AB) = tr(BA) ===')\n",
        "print('tr(AB) = ', np.trace(A.dot(B)))\n",
        "print('tr(BA) = ', np.trace(B.dot(A)))"
      ]
    },
    {
      "cell_type": "markdown",
      "metadata": {
        "id": "Un975998lmWs"
      },
      "source": [
        "### 2次形式\n",
        "\n",
        "２次形式は，以下のように定義されます．\n",
        "\n",
        "$$\n",
        "      {\\bf{x}}^T A {\\bf{x}} = \\begin{bmatrix} x_1 &  x_2 & \\cdots & x_m \\end{bmatrix}\n",
        "      \\begin{bmatrix}\n",
        "        a_{11} & a_{12} & \\cdots & a_{1m} \\\\\n",
        "        a_{21} & a_{22} & \\cdots & a_{2m} \\\\\n",
        "        \\vdots & \\vdots & \\ddots & \\vdots \\\\\n",
        "        a_{m1} & a_{m2} & \\cdots & a_{mm}\n",
        "      \\end{bmatrix}\n",
        "      \\begin{bmatrix} x_1 \\\\ x_2 \\\\ \\vdots \\\\ x_m \\end{bmatrix}\n",
        "      = \\sum_{i=1}^m \\sum_{j=1}^m a_{ij} x_i x_j\n",
        "$$\n",
        "\n",
        "以下のコードでは，$\\bf{x}^T A \\bf{x}$を具体的な行列，ベクトルでnumpy.dotをつかって，定義通りに計算しています．"
      ]
    },
    {
      "cell_type": "code",
      "execution_count": 9,
      "metadata": {
        "colab": {
          "base_uri": "https://localhost:8080/"
        },
        "id": "B16RsyIBlmWt",
        "outputId": "843c3d65-b7ee-4768-e428-3201ab2d12fa"
      },
      "outputs": [
        {
          "output_type": "stream",
          "name": "stdout",
          "text": [
            "A\n",
            " [[1 2 3]\n",
            " [2 2 2]\n",
            " [3 2 3]]\n",
            "b\n",
            " [ 1 -2  1]\n",
            "b^TAb =  2\n"
          ]
        }
      ],
      "source": [
        "A=np.array([[1,2,3], [2,2,2], [3, 2, 3]])\n",
        "print('A\\n', A)\n",
        "b = np.array([1,-2,1])\n",
        "print('b\\n', b)\n",
        "qf = np.dot(b.T, A.dot(b))\n",
        "print('b^TAb = ', qf)\n"
      ]
    },
    {
      "cell_type": "markdown",
      "metadata": {
        "id": "sqDfRdTZlmW1"
      },
      "source": [
        "### フロベニウス・ノルム\n",
        "\n",
        "行列の全ての要素の２乗の和の平方根\n",
        "\n",
        "\\begin{align*}\n",
        "  ||A|| = \\sqrt{\\sum_{i=1}^m \\sum_{j=1}^n a_{ij}^2}\n",
        "\\end{align*}\n",
        "\n",
        "をフロベニウス・ノルムと呼びます．\n",
        "\n",
        "これは，トレースを使って，\n",
        "\n",
        "$$\n",
        "||A|| = \\sqrt{tr(A A^T)} = \\sqrt{tr(A^T A)}\n",
        "$$\n",
        "\n",
        "のように計算することも可能です．\n",
        "\n",
        "以下のコードは，それを確かめています．"
      ]
    },
    {
      "cell_type": "code",
      "execution_count": 10,
      "metadata": {
        "colab": {
          "base_uri": "https://localhost:8080/"
        },
        "id": "QArKEG8TlmW2",
        "outputId": "1a895e93-037b-4418-ddf1-9baad5fcf8ed"
      },
      "outputs": [
        {
          "output_type": "stream",
          "name": "stdout",
          "text": [
            "A\n",
            " [[1 2 3]\n",
            " [4 5 6]]\n",
            "Frobenius norm =  9.539392014169456\n",
            "\n",
            "=== tr(A A^T) ===\n",
            "A A^T\n",
            " [[14 32]\n",
            " [32 77]]\n",
            "tr(A A^T) =  91\n",
            "sqrt(tr(A A^T)) =  9.539392014169456\n",
            "\n",
            "=== tr(A^T A) ===\n",
            "A^T A\n",
            " [[17 22 27]\n",
            " [22 29 36]\n",
            " [27 36 45]]\n",
            "tr(A^T A) =  91\n",
            "sqrt(tr(A^T A)) =  9.539392014169456\n"
          ]
        }
      ],
      "source": [
        "A=np.array([[1,2,3], [4,5,6]])\n",
        "print('A\\n', A)\n",
        "print('Frobenius norm = ', np.linalg.norm(A))\n",
        "\n",
        "# tr(A A^T)\n",
        "print('\\n=== tr(A A^T) ===')\n",
        "AAT = A.dot(A.T)\n",
        "print('A A^T\\n', AAT)\n",
        "trAAT = np.trace(AAT)\n",
        "print('tr(A A^T) = ', trAAT)\n",
        "print('sqrt(tr(A A^T)) = ', np.sqrt(trAAT))\n",
        "\n",
        "# tr(A^T A)\n",
        "print('\\n=== tr(A^T A) ===')\n",
        "ATA = np.dot(A.T, A)\n",
        "print('A^T A\\n', ATA)\n",
        "trATA = np.trace(ATA)\n",
        "print('tr(A^T A) = ', trATA)\n",
        "print('sqrt(tr(A^T A)) = ', np.sqrt(trATA))\n"
      ]
    },
    {
      "cell_type": "markdown",
      "metadata": {
        "id": "qnT2GwcQlmXF"
      },
      "source": [
        "### 行列の簡約化（Reduced Raw Echelon Form)\n",
        "\n",
        "sympy を用いて，行列\n",
        "$$\n",
        "\\begin{bmatrix}\n",
        "2 & 3 & 6 \\\\\n",
        "4 & 5 & 7\n",
        "\\end{bmatrix}\n",
        "$$\n",
        "の簡約化をしてみます．"
      ]
    },
    {
      "cell_type": "code",
      "execution_count": 11,
      "metadata": {
        "id": "8VAqoQPVlmXG"
      },
      "outputs": [],
      "source": [
        "import sympy as sym"
      ]
    },
    {
      "cell_type": "code",
      "execution_count": 12,
      "metadata": {
        "colab": {
          "base_uri": "https://localhost:8080/",
          "height": 92
        },
        "id": "73SYkpv4lmXM",
        "outputId": "769c3974-2112-44c1-8079-8482bd2132ec"
      },
      "outputs": [
        {
          "output_type": "stream",
          "name": "stdout",
          "text": [
            "A\n",
            " Matrix([[2, 3, 6], [4, 5, 7]])\n"
          ]
        },
        {
          "output_type": "execute_result",
          "data": {
            "text/plain": [
              "Matrix([\n",
              "[1, 0, -9/2],\n",
              "[0, 1,    5]])"
            ],
            "text/latex": "$\\displaystyle \\left[\\begin{matrix}1 & 0 & - \\frac{9}{2}\\\\0 & 1 & 5\\end{matrix}\\right]$"
          },
          "metadata": {},
          "execution_count": 12
        }
      ],
      "source": [
        "A = sym.Matrix([[2,3,6],[4,5,7]])\n",
        "print('A\\n', A)\n",
        "(B, Pv) = A.rref()\n",
        "#print('B\\n')\n",
        "B"
      ]
    },
    {
      "cell_type": "markdown",
      "metadata": {
        "id": "8SxnskdLlmXT"
      },
      "source": [
        "### ランク\n",
        "\n",
        "行列のランクは，簡約化した行列の行の数として定義されます．\n",
        "\n",
        "ここでは，行列\n",
        "$$\n",
        "\\begin{bmatrix}\n",
        "1 & 0 & 2 & 1 \\\\\n",
        "2 & 1 & 1 & 0 \\\\\n",
        "0 & 1 & 1 & 0\n",
        "\\end{bmatrix}\n",
        "$$\n",
        "を簡約化してみます．"
      ]
    },
    {
      "cell_type": "code",
      "execution_count": 13,
      "metadata": {
        "colab": {
          "base_uri": "https://localhost:8080/",
          "height": 113
        },
        "id": "CijhQA7BlmXU",
        "outputId": "906c4e76-5d16-4203-9a11-38db80ed440a"
      },
      "outputs": [
        {
          "output_type": "stream",
          "name": "stdout",
          "text": [
            "A\n",
            " Matrix([[1, 0, 2, 1], [2, 1, 1, 0], [0, 1, 1, 0]])\n"
          ]
        },
        {
          "output_type": "execute_result",
          "data": {
            "text/plain": [
              "Matrix([\n",
              "[1, 0, 0,    0],\n",
              "[0, 1, 0, -1/2],\n",
              "[0, 0, 1,  1/2]])"
            ],
            "text/latex": "$\\displaystyle \\left[\\begin{matrix}1 & 0 & 0 & 0\\\\0 & 1 & 0 & - \\frac{1}{2}\\\\0 & 0 & 1 & \\frac{1}{2}\\end{matrix}\\right]$"
          },
          "metadata": {},
          "execution_count": 13
        }
      ],
      "source": [
        "A=sym.Matrix([[1,0,2,1], [2,1,1,0], [0,1,1,0]])\n",
        "print('A\\n', A)\n",
        "(B, Pv) = A.rref()\n",
        "B"
      ]
    },
    {
      "cell_type": "markdown",
      "metadata": {
        "id": "2MPfRdLflmXb"
      },
      "source": [
        "これから，この行列のランクは３であることがわかります．"
      ]
    },
    {
      "cell_type": "markdown",
      "metadata": {
        "id": "elnFIpRMlmXc"
      },
      "source": [
        "### numpy でのランクの計算\n",
        "\n",
        "次に，numpyで同じ行列のランクを計算してみます．\n",
        "\n",
        "そのために，numpy.linalg.matrix_rankという関数を使います．"
      ]
    },
    {
      "cell_type": "code",
      "execution_count": 14,
      "metadata": {
        "colab": {
          "base_uri": "https://localhost:8080/"
        },
        "id": "yF7ap6Y0lmXd",
        "outputId": "abf89575-d003-4b98-af9f-afb9c148dab9"
      },
      "outputs": [
        {
          "output_type": "stream",
          "name": "stdout",
          "text": [
            "A\n",
            " [[1 0 2 1]\n",
            " [2 1 1 0]\n",
            " [0 1 1 0]]\n",
            "rank(A)= 3\n"
          ]
        }
      ],
      "source": [
        "A=np.array([[1,0,2,1], [2,1,1,0], [0,1,1,0]])\n",
        "print('A\\n', A)\n",
        "print('rank(A)=', np.linalg.matrix_rank(A))"
      ]
    },
    {
      "cell_type": "markdown",
      "source": [
        "# 三角行列\n",
        "\n",
        "## 上三角行列\n",
        "\n",
        "上三角行列\n",
        "$$\n",
        "A=\\begin{bmatrix}\n",
        "1 & 0 & 2 & 1 \\\\\n",
        "0 & 3 & 1 & 3 \\\\\n",
        "0 & 0 & 1 & 0 \\\\\n",
        "0 & 0 & 0 & 2\n",
        "\\end{bmatrix}\n",
        "$$\n",
        "のトレース$tr(A)$, 行列式$det(A)$, 逆行列$A^{-1}$, 固有値を求めてみます．\n",
        "\n",
        "まず，転置を計算してみます．\n",
        "上三角行列の転置は，下三角行列になります．\n",
        "\n",
        "理論的には，トレースは$tr(A)=1+3+1+2=7$ となり，行列式は$det(A)=1 \\times 3 \\times 1 \\times 2 = 6$となるはずなので，それを確かめてみます．\n",
        "\n",
        "また，上三角行列の逆行列は上三角行列になるはずなので，それを確かめてみます．\n",
        "\n",
        "三角行列の固有値は，対角成分に等しいことが知られていますので，行列$A$の固有値を具体的に計算してみます．\n",
        "\n",
        "最後に上三角行列の2乗，3乗を計算してみます．\n",
        "上三角行列のべき乗は，上三角行列となることがわかります．\n"
      ],
      "metadata": {
        "id": "uez33RyeM4eC"
      }
    },
    {
      "cell_type": "code",
      "source": [
        "A=np.array([[1,0,2,1], [0,3,1,3], [0,0,1,0], [0,0,0,2]])\n",
        "print('A\\n', A)\n",
        "\n",
        "print('A.T\\n', A.T)\n",
        "\n",
        "print('trace(A)=', np.trace(A))\n",
        "\n",
        "print('determinant of A=', np.linalg.det(A))\n",
        "\n",
        "Ainv = np.linalg.inv(A)\n",
        "print('Inverse of A\\n', Ainv)\n",
        "print('A Ainv\\n', np.dot(A, Ainv))\n",
        "\n",
        "E, L = np.linalg.eig(A)\n",
        "print('Eigen Values\\n', E)\n",
        "\n",
        "AA = np.dot(A, A)\n",
        "AAA = np.dot(A, AA)\n",
        "print('AA\\n', AA)\n",
        "print('AAA\\n', AAA)\n"
      ],
      "metadata": {
        "id": "P25AQOjBNvnw",
        "outputId": "6999c84d-0dca-48f3-e780-ef8783bc9e98",
        "colab": {
          "base_uri": "https://localhost:8080/"
        }
      },
      "execution_count": 15,
      "outputs": [
        {
          "output_type": "stream",
          "name": "stdout",
          "text": [
            "A\n",
            " [[1 0 2 1]\n",
            " [0 3 1 3]\n",
            " [0 0 1 0]\n",
            " [0 0 0 2]]\n",
            "A.T\n",
            " [[1 0 0 0]\n",
            " [0 3 0 0]\n",
            " [2 1 1 0]\n",
            " [1 3 0 2]]\n",
            "trace(A)= 7\n",
            "determinant of A= 6.0\n",
            "Inverse of A\n",
            " [[ 1.          0.         -2.         -0.5       ]\n",
            " [ 0.          0.33333333 -0.33333333 -0.5       ]\n",
            " [ 0.          0.          1.          0.        ]\n",
            " [ 0.          0.          0.          0.5       ]]\n",
            "A Ainv\n",
            " [[1. 0. 0. 0.]\n",
            " [0. 1. 0. 0.]\n",
            " [0. 0. 1. 0.]\n",
            " [0. 0. 0. 1.]]\n",
            "Eigen Values\n",
            " [1. 3. 1. 2.]\n",
            "AA\n",
            " [[ 1  0  4  3]\n",
            " [ 0  9  4 15]\n",
            " [ 0  0  1  0]\n",
            " [ 0  0  0  4]]\n",
            "AAA\n",
            " [[ 1  0  6  7]\n",
            " [ 0 27 13 57]\n",
            " [ 0  0  1  0]\n",
            " [ 0  0  0  8]]\n"
          ]
        }
      ]
    },
    {
      "cell_type": "markdown",
      "metadata": {
        "id": "9M1Ymew1lmXk"
      },
      "source": [
        "### LU分解\n",
        "\n",
        "正方行列の簡約化を途中まで（上三角行列になるまで）実行すると，元の行列$A$を下三角行列$L$と上三角行列$U$の積に分解することができます．\n",
        "\n",
        "これを行列の分解方法をLU分解と言います．\n",
        "実際には，これに行の番号付けの入れ替えを表す行列$P$を使って，\n",
        "\n",
        "\\begin{align*}\n",
        "    A = P L U\n",
        "\\end{align*}\n",
        "\n",
        "のように分解することができます．\n",
        "\n",
        "以下のコードでは，numply.scipy.linalg.luという関数を使って，行列$A$をLU分解し，元も行列が再構成できることを確かめています．"
      ]
    },
    {
      "cell_type": "code",
      "execution_count": 16,
      "metadata": {
        "colab": {
          "base_uri": "https://localhost:8080/"
        },
        "id": "WyTrwYhilmXl",
        "outputId": "520f8f1a-2d67-41b7-dbb6-62ed2667d9fd"
      },
      "outputs": [
        {
          "output_type": "stream",
          "name": "stdout",
          "text": [
            "LU decomposition (A = PLU): \n",
            "A:\n",
            " [[ 1  2  2]\n",
            " [ 2  5  6]\n",
            " [ 3  8 12]]\n",
            "P: \n",
            " [[0. 1. 0.]\n",
            " [0. 0. 1.]\n",
            " [1. 0. 0.]]\n",
            "L: \n",
            " [[1.         0.         0.        ]\n",
            " [0.33333333 1.         0.        ]\n",
            " [0.66666667 0.5        1.        ]]\n",
            "U: \n",
            " [[ 3.          8.         12.        ]\n",
            " [ 0.         -0.66666667 -2.        ]\n",
            " [ 0.          0.         -1.        ]]\n",
            "PLU: \n",
            " [[ 1.  2.  2.]\n",
            " [ 2.  5.  6.]\n",
            " [ 3.  8. 12.]]\n"
          ]
        }
      ],
      "source": [
        "import numpy as np\n",
        "from scipy.linalg import lu\n",
        "\n",
        "# pylint: disable=invalid-name\n",
        "\n",
        "A = np.array([[1, 2, 2],\n",
        "              [2, 5, 6],\n",
        "              [3, 8, 12]])\n",
        "\n",
        "print(\"LU decomposition (A = PLU): \")\n",
        "print(\"A:\\n\", A)\n",
        "P, L, U = lu(A)\n",
        "print(\"P: \\n\", P)\n",
        "print(\"L: \\n\", L)\n",
        "print(\"U: \\n\", U)\n",
        "print(\"PLU: \\n\", P @ L @ U)"
      ]
    },
    {
      "cell_type": "markdown",
      "metadata": {
        "id": "mq1Mx-NplmXs"
      },
      "source": [
        "### 連立方程式の解\n",
        "\n",
        "scipyを利用して，以下の連立方程式の解を求めてみましょう．\n",
        "\n",
        "\\begin{align*}\n",
        "    \\begin{bmatrix} 3 & 2 & 0 \\\\ 1 & -1 & 0 \\\\ 0 & 5 & 1 \\end{bmatrix}\n",
        "    \\begin{bmatrix} x_1 \\\\ x_2 \\\\ x_3 \\end{bmatrix} =\n",
        "    \\begin{bmatrix} 2 \\\\ 4 \\\\ -1 \\end{bmatrix}\n",
        "\\end{align*}"
      ]
    },
    {
      "cell_type": "code",
      "execution_count": 17,
      "metadata": {
        "colab": {
          "base_uri": "https://localhost:8080/"
        },
        "id": "QnIGVZRnlmXt",
        "outputId": "393c8ed2-41ad-4429-e823-5bf2f3f7901e"
      },
      "outputs": [
        {
          "output_type": "stream",
          "name": "stdout",
          "text": [
            "m= 3 n= 3\n",
            "[A b]\n",
            " [[ 3  2  0  2]\n",
            " [ 1 -1  0  4]\n",
            " [ 0  5  1 -1]]\n",
            "Rank A= 3 Rank [A b]= 3\n",
            "Determinant is -5.0\n",
            "The solurion is  [ 2. -2.  9.]\n",
            "A x = [ 2.  4. -1.]\n"
          ]
        }
      ],
      "source": [
        "#importing the scipy and numpy packages\n",
        "from scipy import linalg\n",
        "import numpy as np\n",
        "\n",
        "#Declaring the numpy arrays\n",
        "A = np.array([[3, 2, 0], [1, -1, 0], [0, 5, 1]])\n",
        "b = np.array([2, 4, -1])\n",
        "\n",
        "m, n = A.shape\n",
        "\n",
        "print('m=', m, 'n=', n)\n",
        "\n",
        "# Augmented matrx [A b]\n",
        "Ab = np.column_stack((A, b))\n",
        "print(\"[A b]\\n\", Ab)\n",
        "\n",
        "rankA = np.linalg.matrix_rank(A)\n",
        "rankAb = np.linalg.matrix_rank(Ab)\n",
        "\n",
        "print(\"Rank A=\", rankA, \"Rank [A b]=\", rankAb)\n",
        "\n",
        "if (rankA != rankAb):\n",
        "    print(\"There is no solution!!!\")\n",
        "elif (n != rankA):\n",
        "    print(\"There is no uniqe solution\\n\")\n",
        "else:\n",
        "\n",
        "    # Determinant of A\n",
        "    detA = linalg.det(A)\n",
        "    print(\"Determinant is\", detA)\n",
        "\n",
        "    #Passing the values to the solve function\n",
        "    x = linalg.solve(A, b)\n",
        "\n",
        "    #printing the result array\n",
        "    print(\"The solurion is \", x)\n",
        "\n",
        "    # A x\n",
        "    print(\"A x =\", A.dot(x))\n"
      ]
    },
    {
      "cell_type": "markdown",
      "metadata": {
        "id": "Yrr5ohJYlmXz"
      },
      "source": [
        "### 逆行列\n",
        "\n",
        "numpy.linalg.inv関数を用いて，行列\n",
        "$$\n",
        "A=\\begin{bmatrix}\n",
        "2 & 1 & 1 \\\\\n",
        "1 & 2 & 1 \\\\\n",
        "1 & 1 & 2\n",
        "\\end{bmatrix}\n",
        "$$\n",
        "の逆行列を数値計算で求めてみます．\n"
      ]
    },
    {
      "cell_type": "code",
      "execution_count": 24,
      "metadata": {
        "colab": {
          "base_uri": "https://localhost:8080/"
        },
        "id": "gdQj8H1tlmX0",
        "outputId": "8e6193af-e9bd-4c8c-de15-752046e0a2d8"
      },
      "outputs": [
        {
          "output_type": "stream",
          "name": "stdout",
          "text": [
            "A\n",
            " [[2 1 1]\n",
            " [1 2 1]\n",
            " [1 1 2]]\n",
            "rank= 3\n",
            "det= 4.0\n",
            "Inverse of A\n",
            " [[ 0.75 -0.25 -0.25]\n",
            " [-0.25  0.75 -0.25]\n",
            " [-0.25 -0.25  0.75]]\n",
            "det(A)*A\n",
            " [[ 3. -1. -1.]\n",
            " [-1.  3. -1.]\n",
            " [-1. -1.  3.]]\n",
            "A A^{-1}\n",
            " [[1.00000000e+00 5.55111512e-17 0.00000000e+00]\n",
            " [0.00000000e+00 1.00000000e+00 0.00000000e+00]\n",
            " [0.00000000e+00 1.11022302e-16 1.00000000e+00]]\n"
          ]
        }
      ],
      "source": [
        "A=np.array([[2,1,1],[1,2,1],[1,1,2]])\n",
        "print('A\\n', A)\n",
        "\n",
        "print('rank=', np.linalg.matrix_rank(A))\n",
        "\n",
        "det = np.linalg.det(A)\n",
        "print('det=', det)\n",
        "\n",
        "Ainv = np.linalg.inv(A)\n",
        "print('Inverse of A\\n', Ainv)\n",
        "\n",
        "print('det(A)*A\\n', det*Ainv)\n",
        "\n",
        "# Check for A A^{-1}=I\n",
        "print('A A^{-1}\\n', A.dot(Ainv))"
      ]
    },
    {
      "cell_type": "markdown",
      "metadata": {
        "id": "QLT1_VZmlmX4"
      },
      "source": [
        "### 行列式\n",
        "\n",
        "正方行列の行列式は，numpy.linalg.det関数で求めることができます．\n",
        "\n",
        "行列式の性質として，以下のような関係が知られています．\n",
        "\n",
        "$$\n",
        "det(A^T)=det(A)\n",
        "$$\n",
        "\n",
        "$$\n",
        "det(A^{-1}) = \\frac{1}{det(A)}\n",
        "$$\n",
        "\n",
        "$$\n",
        "det(AB) = det(A) det(B)\n",
        "$$"
      ]
    },
    {
      "cell_type": "code",
      "execution_count": 25,
      "metadata": {
        "colab": {
          "base_uri": "https://localhost:8080/"
        },
        "id": "35-8JcI5lmX5",
        "outputId": "7cd644a2-9ccd-4d10-e93c-797af702a69a"
      },
      "outputs": [
        {
          "output_type": "stream",
          "name": "stdout",
          "text": [
            "A\n",
            " [[ 1 -1  2]\n",
            " [ 2  1  1]\n",
            " [-1 -1  1]]\n",
            "B\n",
            " [[ 1  3 -1]\n",
            " [-1  1 -1]\n",
            " [ 1  1 -3]]\n",
            "det(A) =  2.9999999999999996\n",
            "det(A^T) =  2.9999999999999996\n",
            "det(A^{-1}) =  0.3333333333333333\n",
            "det(B) =  -12.0\n",
            "det(B^T) =  -12.0\n",
            "det(B^{-1}) =  -0.08333333333333329\n",
            "det(AB)= -36.0\n"
          ]
        }
      ],
      "source": [
        "A=np.array([[1,-1,2],[2,1,1],[-1,-1,1]])\n",
        "print('A\\n', A)\n",
        "B=np.array([[1,3,-1], [-1,1,-1], [1,1,-3]])\n",
        "print('B\\n', B)\n",
        "\n",
        "# det(A)\n",
        "detA = np.linalg.det(A)\n",
        "print(\"det(A) = \", detA)\n",
        "\n",
        "# det(A^T)\n",
        "detAT = np.linalg.det(A.T)\n",
        "print(\"det(A^T) = \", detAT)\n",
        "\n",
        "# det(A^{-1})\n",
        "detAinv = np.linalg.det(np.linalg.inv(A))\n",
        "print(\"det(A^{-1}) = \", detAinv)\n",
        "\n",
        "# det(B)\n",
        "detB = np.linalg.det(B)\n",
        "print(\"det(B) = \", detB)\n",
        "\n",
        "# det(B^T)\n",
        "detBT = np.linalg.det(B.T)\n",
        "print(\"det(B^T) = \", detBT)\n",
        "\n",
        "# det(B^{-1})\n",
        "detBinv = np.linalg.det(np.linalg.inv(B))\n",
        "print(\"det(B^{-1}) = \", detBinv)\n",
        "\n",
        "# det(AB)\n",
        "detAB = np.linalg.det(A.dot(B))\n",
        "print(\"det(AB)=\", detAB)"
      ]
    },
    {
      "cell_type": "markdown",
      "metadata": {
        "id": "pACUA9ZBlmX8"
      },
      "source": [
        "### 固有値と固有ベクトル\n",
        "\n",
        "$A\\bf{x} = \\lambda \\bf{x}$が成り立つとき，$\\lambda$を行列$A$の固有値，$\\bf{x}$を行列$A$の固有値$\\lambda$に対する固有ベクトルと呼びます．\n",
        "\n",
        "$n$次正方行列の固有値は，重複をふくめて，$n$個存在します．それらをまとめて，行列表現すると\n",
        "\n",
        "$$\n",
        "A X = X \\Lambda\n",
        "$$\n",
        "\n",
        "のように書けます．ここで，$\\Lambda$は固有値を対角要素にもつ対角行列で，$X$は対応する固有ベクトルを並べた行列です．\n",
        "\n",
        "numpy.linalg.eig関数で正方行列の固有値と固有ベクトルを求めることができます．\n"
      ]
    },
    {
      "cell_type": "code",
      "execution_count": 26,
      "metadata": {
        "colab": {
          "base_uri": "https://localhost:8080/"
        },
        "id": "uVs7ES_HlmX9",
        "outputId": "a2df72f1-3d98-48fb-f6a0-969fac435cb8"
      },
      "outputs": [
        {
          "output_type": "stream",
          "name": "stdout",
          "text": [
            "A\n",
            " [[ 0 -1]\n",
            " [ 1  0]]\n",
            "Eigen Values\n",
            " [0.+1.j 0.-1.j]\n",
            "Eiven Vectors\n",
            " [[0.70710678+0.j         0.70710678-0.j        ]\n",
            " [0.        -0.70710678j 0.        +0.70710678j]]\n"
          ]
        }
      ],
      "source": [
        "A=np.array([[0,-1],[1,0]])\n",
        "print('A\\n', A)\n",
        "\n",
        "[E, V] = np.linalg.eig(A)\n",
        "print('Eigen Values\\n', E)\n",
        "print('Eiven Vectors\\n', V)"
      ]
    },
    {
      "cell_type": "markdown",
      "metadata": {
        "id": "VWZ1eI-flmYA"
      },
      "source": [
        "この例から，行列$A$が実行列でも固有値や固有ベクトルは複素数になることがわかります"
      ]
    },
    {
      "cell_type": "markdown",
      "metadata": {
        "id": "k4iZ9mdxlmYA"
      },
      "source": [
        "### 固有値と固有ベクトル\n",
        "\n",
        "3次実対称行列の場合"
      ]
    },
    {
      "cell_type": "code",
      "execution_count": 27,
      "metadata": {
        "colab": {
          "base_uri": "https://localhost:8080/"
        },
        "id": "IiODtaWolmYB",
        "outputId": "b92be58a-7954-4678-c6bc-bc621559e797"
      },
      "outputs": [
        {
          "output_type": "stream",
          "name": "stdout",
          "text": [
            "A\n",
            " [[1 2 3]\n",
            " [2 2 1]\n",
            " [3 1 3]]\n",
            "Eigen Values\n",
            " [ 6.14389545 -1.52834667  1.38445123]\n",
            "Eiven Vectors\n",
            " [[ 0.57392741  0.81866166 -0.02001012]\n",
            " [ 0.4431767  -0.33105373 -0.83306533]\n",
            " [ 0.68862307 -0.46925101  0.55281258]]\n"
          ]
        }
      ],
      "source": [
        "A=np.array([[1,2,3], [2,2,1],[3,1,3]])\n",
        "print('A\\n', A)\n",
        "\n",
        "[L, U] = np.linalg.eig(A)\n",
        "print('Eigen Values\\n', L)\n",
        "print('Eiven Vectors\\n', U)"
      ]
    },
    {
      "cell_type": "markdown",
      "metadata": {
        "id": "sytDysJtlmYE"
      },
      "source": [
        "実対象行列の固有値，固有ベクトルは実数となることがわかります．\n"
      ]
    },
    {
      "cell_type": "markdown",
      "metadata": {
        "id": "aEgRHyeQlmYF"
      },
      "source": [
        "この行列の対角化，つまり，\n",
        "\n",
        "$$\n",
        "U^T A U = U^T U \\Lambda = \\Lambda\n",
        "$$\n",
        "\n",
        "を計算してみます．"
      ]
    },
    {
      "cell_type": "code",
      "execution_count": 28,
      "metadata": {
        "colab": {
          "base_uri": "https://localhost:8080/"
        },
        "id": "wFpoI9ChlmYG",
        "outputId": "48a6ea4d-bc41-41a5-b398-fd8911fbe85f"
      },
      "outputs": [
        {
          "output_type": "stream",
          "name": "stdout",
          "text": [
            "Eigen Values\n",
            " [[ 6.14389545  0.          0.        ]\n",
            " [ 0.         -1.52834667  0.        ]\n",
            " [ 0.          0.          1.38445123]]\n",
            "U^T A U\n",
            " [[ 6.14389545e+00 -1.96662074e-16 -6.19728760e-16]\n",
            " [-2.77920928e-16 -1.52834667e+00  3.70210736e-16]\n",
            " [-6.83591689e-16  2.65669655e-16  1.38445123e+00]]\n"
          ]
        }
      ],
      "source": [
        "print(\"Eigen Values\\n\", np.diag(L))\n",
        "print(\"U^T A U\\n\", np.dot(U.T, np.dot(A, U)))"
      ]
    },
    {
      "cell_type": "markdown",
      "metadata": {
        "id": "ZSmHM3WSlmYJ"
      },
      "source": [
        "### スペクトル分解\n",
        "\n",
        "逆に，\n",
        "\n",
        "$$\n",
        " A = U \\Lambda U^T = \\sum_{i=1}^n \\lambda_i \\bf{u}_i \\bf{u}_i^T\n",
        "$$\n",
        "\n",
        "を行列$A$のスペクトル分解と呼びます．"
      ]
    },
    {
      "cell_type": "code",
      "execution_count": 29,
      "metadata": {
        "colab": {
          "base_uri": "https://localhost:8080/"
        },
        "id": "a646XaD_lmYK",
        "outputId": "6534ebea-a52c-440b-d8a2-9f1d4402443e"
      },
      "outputs": [
        {
          "output_type": "stream",
          "name": "stdout",
          "text": [
            "A\n",
            " [[1 2 3]\n",
            " [2 2 1]\n",
            " [3 1 3]]\n",
            "U L U^{T}\n",
            " [[1. 2. 3.]\n",
            " [2. 2. 1.]\n",
            " [3. 1. 3.]]\n"
          ]
        }
      ],
      "source": [
        "print(\"A\\n\", A)\n",
        "print(\"U L U^{T}\\n\", np.dot(U, np.dot(np.diag(L), U.T)))"
      ]
    },
    {
      "cell_type": "markdown",
      "metadata": {
        "id": "G0YWiIFOgXV5"
      },
      "source": [
        "このように，もとの行列$A$が再構成できることがわかります．"
      ]
    },
    {
      "cell_type": "markdown",
      "metadata": {
        "id": "eHFe2Lx9lmYN"
      },
      "source": [
        "### 特異値分解\n",
        "\n",
        "特異値分解は，正方行列のスペクトル分解を一般の長方形の行列に拡張したような概念です．\n",
        "\n",
        "詳細は，教科書などを参考にしてください．\n"
      ]
    },
    {
      "cell_type": "code",
      "execution_count": 30,
      "metadata": {
        "colab": {
          "base_uri": "https://localhost:8080/"
        },
        "id": "_apVx7bDlmYN",
        "outputId": "52629a06-b5db-4d56-c556-3b680d0e046d"
      },
      "outputs": [
        {
          "output_type": "stream",
          "name": "stdout",
          "text": [
            "B\n",
            " [[1 2 3]\n",
            " [2 2 2]]\n",
            "S\n",
            " [[-0.73588229 -0.67710949]\n",
            " [-0.67710949  0.73588229]]\n",
            "D\n",
            " [5.00415773 0.97898183]\n",
            "V^T\n",
            " [[-0.41767294 -0.56472711 -0.71178129]\n",
            " [ 0.81171587  0.12006923 -0.57157741]\n",
            " [ 0.40824829 -0.81649658  0.40824829]]\n",
            "S D V^T\n",
            " [[1. 2. 3.]\n",
            " [2. 2. 2.]]\n"
          ]
        }
      ],
      "source": [
        "B=np.array([[1,2,3], [2,2,2]])\n",
        "print('B\\n', B)\n",
        "\n",
        "[S, D, V] = np.linalg.svd(B, full_matrices=True)\n",
        "\n",
        "print('S\\n', S)\n",
        "print('D\\n', D)\n",
        "print('V^T\\n', V)\n",
        "\n",
        "print('S D V^T\\n', np.dot(S * D, V[:2,:]))\n"
      ]
    },
    {
      "cell_type": "markdown",
      "metadata": {
        "id": "bXzGwgKmlmYR"
      },
      "source": [
        "### 一般化逆行列（Moore–Penrose inverse）\n",
        "\n",
        "[特異値分解との関係]\n",
        "\n",
        "$A$の特異値分解が，\n",
        "$$\n",
        "A = U D V^T\n",
        "$$\n",
        "で与えられる時，一般化逆行列$A^{+}$は，\n",
        "$$\n",
        "A^{+} = V D^{+} U^{T}\n",
        "$$\n",
        "で与えられる．ここで，$D^{+}$は，０以外の対角要素はその逆数をとり，0はそのままにした対角行列\n",
        "\n",
        "これから，\n",
        "$$\n",
        " A A^{+} = U D V^{T} V D^{+} U^{T} = U D D^{+} U^{T} = U U^{T} = I\n",
        "$$\n",
        "となることが確かめられる．\n"
      ]
    },
    {
      "cell_type": "code",
      "execution_count": 31,
      "metadata": {
        "colab": {
          "base_uri": "https://localhost:8080/"
        },
        "id": "dqxsGJu0lmYV",
        "outputId": "db39a609-b83f-47a7-ac65-d095d0df8369"
      },
      "outputs": [
        {
          "output_type": "stream",
          "name": "stdout",
          "text": [
            "A\n",
            " [[1 2 3]\n",
            " [2 2 2]]\n",
            "Moore-Penrose pseudo-invers\n",
            " [[-5.00000000e-01  6.66666667e-01]\n",
            " [-1.17301862e-16  1.66666667e-01]\n",
            " [ 5.00000000e-01 -3.33333333e-01]]\n",
            "A PinvA\n",
            " [[ 1.00000000e+00  1.66533454e-16]\n",
            " [-1.11022302e-16  1.00000000e+00]]\n"
          ]
        }
      ],
      "source": [
        "from numpy.linalg import pinv\n",
        "\n",
        "A = np.array([[1,2,3], [2,2,2]])\n",
        "print('A\\n', A)\n",
        "\n",
        "PinvA = pinv(A)\n",
        "\n",
        "print('Moore-Penrose pseudo-invers\\n', PinvA)\n",
        "\n",
        "print('A PinvA\\n', np.dot(A, PinvA))"
      ]
    },
    {
      "cell_type": "markdown",
      "metadata": {
        "id": "E8LnfEyRlmYY"
      },
      "source": [
        "## sympy を用いた線形代数"
      ]
    },
    {
      "cell_type": "markdown",
      "metadata": {
        "id": "VrASAcMglmYY"
      },
      "source": [
        "行列の宣言"
      ]
    },
    {
      "cell_type": "code",
      "execution_count": null,
      "metadata": {
        "id": "9HFZBMP2lmYZ"
      },
      "outputs": [],
      "source": [
        "A = sym.Matrix([\n",
        "    [1,2,3],\n",
        "    [4,5,6],\n",
        "    [7,8,9]\n",
        "])\n",
        "print(A)"
      ]
    },
    {
      "cell_type": "markdown",
      "metadata": {
        "id": "xLLtaQhElmYd"
      },
      "source": [
        "   ”ｓｙｍｐｙ．Matrix” をnumpy.arrayに変換"
      ]
    },
    {
      "cell_type": "code",
      "execution_count": null,
      "metadata": {
        "id": "CiKYjClqlmYd"
      },
      "outputs": [],
      "source": [
        "A_n = sym.matrix2numpy(A)\n",
        "print(A_n)"
      ]
    },
    {
      "cell_type": "markdown",
      "metadata": {
        "id": "NaRzl9t8lmYh"
      },
      "source": [
        "零行列"
      ]
    },
    {
      "cell_type": "code",
      "execution_count": null,
      "metadata": {
        "id": "fhURCvUblmYh"
      },
      "outputs": [],
      "source": [
        "Zero = sym.Matrix.zeros(2, 3)\n",
        "print(Zero)"
      ]
    },
    {
      "cell_type": "markdown",
      "metadata": {
        "id": "VyC6gapslmYk"
      },
      "source": [
        "単位行列"
      ]
    },
    {
      "cell_type": "code",
      "execution_count": null,
      "metadata": {
        "id": "Sg_dqIz5lmYl"
      },
      "outputs": [],
      "source": [
        "I = sym.Matrix.eye(3,3)\n",
        "print(I)"
      ]
    },
    {
      "cell_type": "markdown",
      "metadata": {
        "id": "qQCow89mlmYt"
      },
      "source": [
        "対角行列"
      ]
    },
    {
      "cell_type": "code",
      "execution_count": null,
      "metadata": {
        "id": "QmOi-wK6lmYt"
      },
      "outputs": [],
      "source": [
        "D = sym.Matrix.diag(1,2,3)\n",
        "print(D)"
      ]
    },
    {
      "cell_type": "code",
      "execution_count": null,
      "metadata": {
        "id": "EYFLAHjElmYx"
      },
      "outputs": [],
      "source": [
        "print(A)\n",
        "print(A[1,2])\n",
        "print(A[0,0])\n",
        "print(A[5])"
      ]
    },
    {
      "cell_type": "code",
      "execution_count": null,
      "metadata": {
        "id": "bmKNUDk7lmY1"
      },
      "outputs": [],
      "source": [
        "B=sym.Matrix([[7,8,9],[4,5,6],[1,2,3]])\n",
        "print(A)\n",
        "print(B)\n",
        "print(A * B)"
      ]
    },
    {
      "cell_type": "markdown",
      "metadata": {
        "id": "O953OsJVlmY6"
      },
      "source": [
        "行列の簡約化（Raw Echelon Form)"
      ]
    },
    {
      "cell_type": "code",
      "execution_count": null,
      "metadata": {
        "id": "8EUeiql5lmY8"
      },
      "outputs": [],
      "source": [
        "print(\"A={}\".format(A))\n",
        "(G, Pv) = A.rref()\n",
        "print(\"G={}\".format(G))"
      ]
    },
    {
      "cell_type": "markdown",
      "metadata": {
        "id": "sTaAG-ATlmZD"
      },
      "source": [
        "行列のランク"
      ]
    },
    {
      "cell_type": "code",
      "execution_count": null,
      "metadata": {
        "id": "oi0a8Ay8lmZD"
      },
      "outputs": [],
      "source": [
        "print(A.rank())\n",
        "print(B.rank())\n",
        "print((A * B - I).rank())"
      ]
    },
    {
      "cell_type": "markdown",
      "metadata": {
        "id": "JXDdsBQylmZH"
      },
      "source": [
        "行列の逆行列"
      ]
    },
    {
      "cell_type": "code",
      "execution_count": null,
      "metadata": {
        "id": "0oV8rtE8lmZH"
      },
      "outputs": [],
      "source": [
        "C=A * B - I\n",
        "Cinv = C.inv()\n",
        "print(Cinv)\n",
        "print(C * Cinv)"
      ]
    }
  ],
  "metadata": {
    "celltoolbar": "Slideshow",
    "colab": {
      "name": "linalg.ipynb",
      "provenance": [],
      "include_colab_link": true
    },
    "kernelspec": {
      "display_name": "Python 3",
      "language": "python",
      "name": "python3"
    },
    "language_info": {
      "codemirror_mode": {
        "name": "ipython",
        "version": 3
      },
      "file_extension": ".py",
      "mimetype": "text/x-python",
      "name": "python",
      "nbconvert_exporter": "python",
      "pygments_lexer": "ipython3",
      "version": "3.9.7"
    }
  },
  "nbformat": 4,
  "nbformat_minor": 0
}