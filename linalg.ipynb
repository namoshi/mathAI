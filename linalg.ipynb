{
 "cells": [
  {
   "cell_type": "markdown",
   "metadata": {},
   "source": [
    "## sympy を用いた線形代数"
   ]
  },
  {
   "cell_type": "code",
   "execution_count": null,
   "metadata": {},
   "outputs": [],
   "source": [
    "import sympy as sym"
   ]
  },
  {
   "cell_type": "markdown",
   "metadata": {},
   "source": [
    "行列の宣言"
   ]
  },
  {
   "cell_type": "code",
   "execution_count": 7,
   "metadata": {},
   "outputs": [
    {
     "name": "stdout",
     "output_type": "stream",
     "text": [
      "Matrix([[1, 2, 3], [4, 5, 6], [7, 8, 9]])\n"
     ]
    }
   ],
   "source": [
    "A = sym.Matrix([\n",
    "    [1,2,3],\n",
    "    [4,5,6],\n",
    "    [7,8,9]\n",
    "])\n",
    "print(A)"
   ]
  },
  {
   "cell_type": "markdown",
   "metadata": {},
   "source": [
    "   ”ｓｙｍｐｙ．Matrix” をnumpy.arrayに変換"
   ]
  },
  {
   "cell_type": "code",
   "execution_count": 8,
   "metadata": {},
   "outputs": [
    {
     "name": "stdout",
     "output_type": "stream",
     "text": [
      "[[1 2 3]\n",
      " [4 5 6]\n",
      " [7 8 9]]\n"
     ]
    }
   ],
   "source": [
    "A_n = sym.matrix2numpy(A)\n",
    "print(A_n)"
   ]
  },
  {
   "cell_type": "markdown",
   "metadata": {},
   "source": [
    "零行列"
   ]
  },
  {
   "cell_type": "code",
   "execution_count": 9,
   "metadata": {},
   "outputs": [
    {
     "name": "stdout",
     "output_type": "stream",
     "text": [
      "Matrix([[0, 0, 0], [0, 0, 0]])\n"
     ]
    }
   ],
   "source": [
    "Zero = sym.Matrix.zeros(2, 3)\n",
    "print(Zero)"
   ]
  },
  {
   "cell_type": "markdown",
   "metadata": {},
   "source": [
    "単位行列"
   ]
  },
  {
   "cell_type": "code",
   "execution_count": 12,
   "metadata": {},
   "outputs": [
    {
     "name": "stdout",
     "output_type": "stream",
     "text": [
      "Matrix([[1, 0, 0], [0, 1, 0], [0, 0, 1]])\n"
     ]
    }
   ],
   "source": [
    "I = sym.Matrix.eye(3,3)\n",
    "print(I)"
   ]
  },
  {
   "cell_type": "markdown",
   "metadata": {},
   "source": [
    "対角行列"
   ]
  },
  {
   "cell_type": "code",
   "execution_count": 14,
   "metadata": {},
   "outputs": [
    {
     "name": "stdout",
     "output_type": "stream",
     "text": [
      "Matrix([[1, 0, 0], [0, 2, 0], [0, 0, 3]])\n"
     ]
    }
   ],
   "source": [
    "D = sym.Matrix.diag(1,2,3)\n",
    "print(D)"
   ]
  },
  {
   "cell_type": "code",
   "execution_count": 19,
   "metadata": {},
   "outputs": [
    {
     "name": "stdout",
     "output_type": "stream",
     "text": [
      "Matrix([[1, 2, 3], [4, 5, 6], [7, 8, 9]])\n",
      "6\n",
      "1\n",
      "6\n"
     ]
    }
   ],
   "source": [
    "print(A)\n",
    "print(A[1,2])\n",
    "print(A[0,0])\n",
    "print(A[5])"
   ]
  },
  {
   "cell_type": "code",
   "execution_count": 20,
   "metadata": {},
   "outputs": [
    {
     "name": "stdout",
     "output_type": "stream",
     "text": [
      "Matrix([[1, 2, 3], [4, 5, 6], [7, 8, 9]])\n",
      "Matrix([[7, 8, 9], [4, 5, 6], [1, 2, 3]])\n",
      "Matrix([[18, 24, 30], [54, 69, 84], [90, 114, 138]])\n"
     ]
    }
   ],
   "source": [
    "B=sym.Matrix([[7,8,9],[4,5,6],[1,2,3]])\n",
    "print(A)\n",
    "print(B)\n",
    "print(A * B)"
   ]
  },
  {
   "cell_type": "markdown",
   "metadata": {},
   "source": [
    "行列の簡約化（Raw Echelon Form)"
   ]
  },
  {
   "cell_type": "code",
   "execution_count": 23,
   "metadata": {},
   "outputs": [
    {
     "name": "stdout",
     "output_type": "stream",
     "text": [
      "A=Matrix([[1, 2, 3], [4, 5, 6], [7, 8, 9]])\n",
      "G=Matrix([[1, 0, -1], [0, 1, 2], [0, 0, 0]])\n"
     ]
    }
   ],
   "source": [
    "print(\"A={}\".format(A))\n",
    "(G, Pv) = A.rref()\n",
    "print(\"G={}\".format(G))"
   ]
  },
  {
   "cell_type": "code",
   "execution_count": null,
   "metadata": {},
   "outputs": [],
   "source": [
    "行列のランク"
   ]
  },
  {
   "cell_type": "code",
   "execution_count": 29,
   "metadata": {},
   "outputs": [
    {
     "name": "stdout",
     "output_type": "stream",
     "text": [
      "2\n",
      "2\n",
      "3\n"
     ]
    }
   ],
   "source": [
    "print(A.rank())\n",
    "print(B.rank())\n",
    "print((A * B - I).rank())"
   ]
  },
  {
   "cell_type": "markdown",
   "metadata": {},
   "source": [
    "行列の逆行列"
   ]
  },
  {
   "cell_type": "code",
   "execution_count": 31,
   "metadata": {},
   "outputs": [
    {
     "name": "stdout",
     "output_type": "stream",
     "text": [
      "Matrix([[-65/137, 33/137, -6/137], [81/274, -371/548, 48/137], [9/137, 111/274, -35/137]])\n",
      "Matrix([[1, 0, 0], [0, 1, 0], [0, 0, 1]])\n"
     ]
    }
   ],
   "source": [
    "C=A * B - I\n",
    "Cinv = C.inv()\n",
    "print(Cinv)\n",
    "print(C * Cinv)"
   ]
  },
  {
   "cell_type": "markdown",
   "metadata": {},
   "source": [
    "### numpy, scipyを用いて線形代数\n",
    "\n",
    "LU分解\n",
    "\\begin{align*}\n",
    "    A = P L U\n",
    "\\end{align*}"
   ]
  },
  {
   "cell_type": "code",
   "execution_count": 2,
   "metadata": {},
   "outputs": [
    {
     "name": "stdout",
     "output_type": "stream",
     "text": [
      "LU decomposition (A = PLU): \n",
      "A:\n",
      " [[ 1  2  2]\n",
      " [ 2  5  6]\n",
      " [ 3  8 12]]\n",
      "P: \n",
      " [[0. 1. 0.]\n",
      " [0. 0. 1.]\n",
      " [1. 0. 0.]]\n",
      "L: \n",
      " [[1.         0.         0.        ]\n",
      " [0.33333333 1.         0.        ]\n",
      " [0.66666667 0.5        1.        ]]\n",
      "U: \n",
      " [[ 3.          8.         12.        ]\n",
      " [ 0.         -0.66666667 -2.        ]\n",
      " [ 0.          0.         -1.        ]]\n",
      "PLU: \n",
      " [[ 1.  2.  2.]\n",
      " [ 2.  5.  6.]\n",
      " [ 3.  8. 12.]]\n"
     ]
    }
   ],
   "source": [
    "import numpy as np\n",
    "from scipy.linalg import lu\n",
    "\n",
    "# pylint: disable=invalid-name\n",
    "\n",
    "A = np.array([[1, 2, 2],\n",
    "              [2, 5, 6],\n",
    "              [3, 8, 12]])\n",
    "\n",
    "print(\"LU decomposition (A = PLU): \")\n",
    "print(\"A:\\n\", A)\n",
    "P, L, U = lu(A)\n",
    "print(\"P: \\n\", P)\n",
    "print(\"L: \\n\", L)\n",
    "print(\"U: \\n\", U)\n",
    "print(\"PLU: \\n\", P @ L @ U)"
   ]
  },
  {
   "cell_type": "markdown",
   "metadata": {},
   "source": [
    "連立方程式の解 by using scipy\n",
    "\\begin{align*}\n",
    "    \\begin{bmatrix} 3 & 2 & 0 \\\\ 1 & -1 & 0 \\\\ 0 & 5 & 1 \\end{bmatrix} \n",
    "    \\begin{bmatrix} x_1 \\\\ x_2 \\\\ x_3 \\end{bmatrix} = \n",
    "    \\begin{bmatrix} 2 \\\\ 4 \\\\ -1 \\end{bmatrix}\n",
    "\\end{align*}"
   ]
  },
  {
   "cell_type": "code",
   "execution_count": 5,
   "metadata": {},
   "outputs": [
    {
     "name": "stdout",
     "output_type": "stream",
     "text": [
      "m= 3 n= 3\n",
      "[A b]\n",
      " [[ 3  2  0  2]\n",
      " [ 1 -1  0  4]\n",
      " [ 0  5  1 -1]]\n",
      "Rank A= 3 Rank [A b]= 3\n",
      "Determinant is -5.0\n",
      "The solurion is  [ 2. -2.  9.]\n",
      "A x = [ 2.  4. -1.]\n"
     ]
    }
   ],
   "source": [
    "#importing the scipy and numpy packages\n",
    "from scipy import linalg\n",
    "import numpy as np\n",
    "\n",
    "#Declaring the numpy arrays\n",
    "A = np.array([[3, 2, 0], [1, -1, 0], [0, 5, 1]])\n",
    "b = np.array([2, 4, -1])\n",
    "\n",
    "m, n = A.shape\n",
    "\n",
    "print('m=', m, 'n=', n)\n",
    "\n",
    "# Augmented matrx [A b]\n",
    "Ab = np.column_stack((A, b))\n",
    "print(\"[A b]\\n\", Ab)\n",
    "\n",
    "rankA = np.linalg.matrix_rank(A)\n",
    "rankAb = np.linalg.matrix_rank(Ab)\n",
    "\n",
    "print(\"Rank A=\", rankA, \"Rank [A b]=\", rankAb)\n",
    "\n",
    "if (rankA != rankAb):\n",
    "    print(\"There is no solution!!!\")\n",
    "elif (n != rankA):\n",
    "    print(\"There is no uniqe solution\\n\")\n",
    "else:\n",
    "    \n",
    "    # Determinant of A\n",
    "    detA = linalg.det(A)\n",
    "    print(\"Determinant is\", detA)\n",
    "\n",
    "    #Passing the values to the solve function\n",
    "    x = linalg.solve(A, b)\n",
    "\n",
    "    #printing the result array\n",
    "    print(\"The solurion is \", x)\n",
    "\n",
    "    # A x\n",
    "    print(\"A x =\", A.dot(x))\n"
   ]
  },
  {
   "cell_type": "code",
   "execution_count": null,
   "metadata": {},
   "outputs": [],
   "source": []
  }
 ],
 "metadata": {
  "kernelspec": {
   "display_name": "Python 3",
   "language": "python",
   "name": "python3"
  },
  "language_info": {
   "codemirror_mode": {
    "name": "ipython",
    "version": 3
   },
   "file_extension": ".py",
   "mimetype": "text/x-python",
   "name": "python",
   "nbconvert_exporter": "python",
   "pygments_lexer": "ipython3",
   "version": "3.7.7"
  }
 },
 "nbformat": 4,
 "nbformat_minor": 4
}
