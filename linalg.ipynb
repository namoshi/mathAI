{
 "cells": [
  {
   "cell_type": "markdown",
   "metadata": {
    "colab_type": "text",
    "id": "view-in-github"
   },
   "source": [
    "<a href=\"https://colab.research.google.com/github/namoshi/mathAI/blob/master/linalg.ipynb\" target=\"_parent\"><img src=\"https://colab.research.google.com/assets/colab-badge.svg\" alt=\"Open In Colab\"/></a>"
   ]
  },
  {
   "cell_type": "markdown",
   "metadata": {
    "id": "qc-Nb4y6lmVC"
   },
   "source": [
    "# Pythonを用いた線形代数\n",
    "\n",
    "\n",
    "広島大学大学院先進理工系科学研究科 \n",
    "教授 栗田多喜夫\n"
   ]
  },
  {
   "cell_type": "markdown",
   "metadata": {
    "id": "uZlG68u6lmVD"
   },
   "source": [
    "## numpyによる線形代数\n",
    "\n",
    "\n",
    "    numpy を利用するためにパッケージをimportします．"
   ]
  },
  {
   "cell_type": "code",
   "execution_count": 1,
   "metadata": {
    "colab": {
     "base_uri": "https://localhost:8080/",
     "height": 35
    },
    "id": "NDZJZcvslmVE",
    "outputId": "3b1c89ef-6c4c-45f2-af2b-5f17c95d1f32"
   },
   "outputs": [
    {
     "name": "stdout",
     "output_type": "stream",
     "text": [
      "1.19.2\n"
     ]
    }
   ],
   "source": [
    "import numpy as np\n",
    "print(np.__version__)"
   ]
  },
  {
   "cell_type": "markdown",
   "metadata": {
    "id": "u-jGrO4DlmVK"
   },
   "source": [
    "## ベクトルと行列の定義"
   ]
  },
  {
   "cell_type": "markdown",
   "metadata": {
    "id": "hwvaTP0vlmVM"
   },
   "source": [
    "### ベクトル"
   ]
  },
  {
   "cell_type": "code",
   "execution_count": 2,
   "metadata": {
    "id": "bWwzOVSZlmVN",
    "outputId": "81a9fbe0-b9ed-485f-b374-80a168b64725"
   },
   "outputs": [
    {
     "name": "stdout",
     "output_type": "stream",
     "text": [
      "x\n",
      " [1 2 3]\n"
     ]
    }
   ],
   "source": [
    "x = np.array([1,2,3])\n",
    "print('x\\n', x)\n"
   ]
  },
  {
   "cell_type": "markdown",
   "metadata": {
    "id": "_f4Be9GelmVX"
   },
   "source": [
    "### 行列"
   ]
  },
  {
   "cell_type": "code",
   "execution_count": 3,
   "metadata": {
    "id": "Qm6GF3d6lmVY",
    "outputId": "d4a93580-86dc-48d5-d2fe-4567dae01403"
   },
   "outputs": [
    {
     "name": "stdout",
     "output_type": "stream",
     "text": [
      "[[1 2 3]\n",
      " [4 5 6]]\n"
     ]
    }
   ],
   "source": [
    "A = np.array([[1,2,3],[4,5,6]])\n",
    "print(A)"
   ]
  },
  {
   "cell_type": "markdown",
   "metadata": {
    "id": "xNcUH3YklmVe"
   },
   "source": [
    "### 転置"
   ]
  },
  {
   "cell_type": "code",
   "execution_count": 4,
   "metadata": {
    "id": "L0PoS0adlmVf",
    "outputId": "423aaf2c-08f2-4d66-9774-05dd3478c721"
   },
   "outputs": [
    {
     "name": "stdout",
     "output_type": "stream",
     "text": [
      "[[1 4]\n",
      " [2 5]\n",
      " [3 6]]\n"
     ]
    }
   ],
   "source": [
    "AT = np.transpose(A)\n",
    "print(AT)"
   ]
  },
  {
   "cell_type": "code",
   "execution_count": 5,
   "metadata": {
    "id": "lNiyFdaDlmVl",
    "outputId": "cdb88bca-b564-40bd-8b7e-22b7c37dd341"
   },
   "outputs": [
    {
     "name": "stdout",
     "output_type": "stream",
     "text": [
      "[[1 4]\n",
      " [2 5]\n",
      " [3 6]]\n"
     ]
    }
   ],
   "source": [
    "# 省略表記\n",
    "AT = A.T\n",
    "print(AT)"
   ]
  },
  {
   "cell_type": "markdown",
   "metadata": {
    "id": "IDFQxVDUlmVu"
   },
   "source": [
    "### 回転行列\n",
    "\n",
    "\\begin{align*}\n",
    "R(\\theta) = \\begin{bmatrix} \\cos \\theta & - \\sin \\theta \\\\ \\sin \\theta & \\cos \\theta \\end{bmatrix}\n",
    "\\end{align*}"
   ]
  },
  {
   "cell_type": "code",
   "execution_count": 6,
   "metadata": {
    "id": "wNvtpTrKlmVw",
    "outputId": "cb7797d6-6056-4e1a-caa2-e6600adfd125"
   },
   "outputs": [
    {
     "name": "stdout",
     "output_type": "stream",
     "text": [
      "[[ 0.70710678 -0.70710678]\n",
      " [ 0.70710678  0.70710678]]\n"
     ]
    }
   ],
   "source": [
    "def R(th):\n",
    "    R = np.array([[np.cos(th), -np.sin(th)],\n",
    "                  [np.sin(th),  np.cos(th)]])\n",
    "    return R\n",
    "\n",
    "print(R(np.pi/4))"
   ]
  },
  {
   "cell_type": "markdown",
   "metadata": {
    "id": "sTSuNemIlmV5"
   },
   "source": [
    "### 単位行列\n",
    "\n",
    "\\begin{align*}\n",
    "I =\n",
    " \\begin{bmatrix}\n",
    " 1 & 0   & \\cdots & 0 \\\\\n",
    " 0   & 1 & \\cdots & 0 \\\\\n",
    " \\vdots & \\vdots & \\ddots & \\vdots \\\\\n",
    " 0   & 0   & \\cdots & 1\n",
    " \\end{bmatrix}\n",
    " = \\mbox{diag}(1,1,\\ldots,1) = [\\delta_{ij}]\n",
    "\\end{align*}"
   ]
  },
  {
   "cell_type": "code",
   "execution_count": 7,
   "metadata": {
    "id": "KY185X9PlmV7",
    "outputId": "c000e1fd-402b-4ef8-96ad-edc8912bc772"
   },
   "outputs": [
    {
     "name": "stdout",
     "output_type": "stream",
     "text": [
      "[[1. 0. 0.]\n",
      " [0. 1. 0.]\n",
      " [0. 0. 1.]]\n"
     ]
    }
   ],
   "source": [
    "I = np.eye(3)\n",
    "print(I)"
   ]
  },
  {
   "cell_type": "markdown",
   "metadata": {
    "id": "hOSQRk9PlmWD"
   },
   "source": [
    "### ベクトルの内積\n",
    "\n",
    "\\begin{align*}\n",
    " {\\bf{x}}^T {\\bf{y}} = \\begin{bmatrix} x_1 & x_2 & \\cdots & x_m \\end{bmatrix} \\begin{bmatrix} y_1 \\\\ y_2 \\\\ \\vdots \\\\ y_m \\end{bmatrix} \n",
    " = \\sum_{i=1}^m x_i y_i = {\\bf{y}}^T {\\bf{x}}\n",
    "\\end{align*}\n"
   ]
  },
  {
   "cell_type": "code",
   "execution_count": 8,
   "metadata": {
    "id": "MJo_14DHlmWE",
    "outputId": "0a0269ba-3c47-4b66-b216-c8e76073c029"
   },
   "outputs": [
    {
     "name": "stdout",
     "output_type": "stream",
     "text": [
      "12\n",
      "12\n"
     ]
    }
   ],
   "source": [
    "x = np.array([1,2,3])\n",
    "y = np.array([4,-5,6])\n",
    "print(np.dot(x,y))\n",
    "# 省略表記\n",
    "print(x.dot(y))"
   ]
  },
  {
   "cell_type": "markdown",
   "metadata": {
    "id": "LpOr71AulmWM"
   },
   "source": [
    "### ベクトルのノルム（長さ）\n",
    "\n",
    "$$\n",
    "||{\\bf{x}}|| = \\sqrt{{\\bf{x}}^T{\\bf{x}}} = \\sqrt{ x_1^2+x_2^2 + \\cdots + x_m^2}\n",
    "  = \\sqrt{\\sum_{i=1}^m x_i^2}\n",
    "$$\n"
   ]
  },
  {
   "cell_type": "code",
   "execution_count": 9,
   "metadata": {
    "id": "eLUzTZltlmWN",
    "outputId": "f23553fd-df93-4c66-cf95-954daa62dd48"
   },
   "outputs": [
    {
     "name": "stdout",
     "output_type": "stream",
     "text": [
      "[1 2 3]\n",
      "14\n",
      "14.0\n"
     ]
    }
   ],
   "source": [
    "print(x)\n",
    "print(1**2+2++2+3**2)\n",
    "xnorm = np.linalg.norm(x)\n",
    "print(xnorm**2)"
   ]
  },
  {
   "cell_type": "markdown",
   "metadata": {
    "id": "1sZdyj1dlmWS"
   },
   "source": [
    "### 行列とベクトルの積\n",
    "\n",
    "$$\n",
    " {\\bf{y}} = A {\\bf{x}}\n",
    " =\n",
    " \\begin{bmatrix}\n",
    " a_{11} & a_{12} & \\cdots & a_{1n} \\\\\n",
    " a_{21} & a_{22} & \\cdots & a_{2n} \\\\\n",
    " \\vdots & \\vdots & \\ddots & \\vdots \\\\\n",
    " a_{m1} & a_{m2} & \\cdots & a_{mn}\n",
    " \\end{bmatrix}\n",
    " \\begin{bmatrix}\n",
    " x_1 \\\\\n",
    " x_2 \\\\\n",
    " \\vdots \\\\\n",
    " x_n\n",
    " \\end{bmatrix}\n",
    " =\n",
    " \\begin{bmatrix}\n",
    " \\sum_{j=1} a_{1j} x_j \\\\\n",
    " \\sum_{j=1} a_{2j} x_j \\\\\n",
    " \\vdots \\\\\n",
    " \\sum_{j=1} a_{mj} x_j\n",
    " \\end{bmatrix}\n",
    "$$"
   ]
  },
  {
   "cell_type": "code",
   "execution_count": 10,
   "metadata": {
    "id": "2vNEfa72lmWT",
    "outputId": "eb665773-c10f-407e-f662-5b0ec42f3b3f"
   },
   "outputs": [
    {
     "name": "stdout",
     "output_type": "stream",
     "text": [
      "A\n",
      " [[ 1  2  3]\n",
      " [ 1  2 -1]]\n",
      "x\n",
      " [ 4 -5  6]\n",
      "A x\n",
      " [ 12 -12]\n",
      "A x\n",
      " [ 12 -12]\n",
      "A x\n",
      " [ 12 -12]\n"
     ]
    }
   ],
   "source": [
    "A = np.array([[1,2,3],[1,2,-1]])\n",
    "print('A\\n', A)\n",
    "x = np.array([4, -5, 6])\n",
    "print('x\\n',x)\n",
    "Ax = np.dot(A,x)\n",
    "print('A x\\n', Ax)\n",
    "\n",
    "# 省略表現\n",
    "Ax = A.dot(x)\n",
    "print('A x\\n', Ax)\n",
    "\n",
    "# 簡単表現\n",
    "Ax = A @ x\n",
    "print('A x\\n', Ax)\n"
   ]
  },
  {
   "cell_type": "markdown",
   "metadata": {
    "id": "uE9kjE3ylmWX"
   },
   "source": [
    "### 行列の積"
   ]
  },
  {
   "cell_type": "code",
   "execution_count": 11,
   "metadata": {
    "id": "6TqHK_10lmWY",
    "outputId": "b7e16e1d-7fa8-4b93-9533-02dd4cb534ca"
   },
   "outputs": [
    {
     "name": "stdout",
     "output_type": "stream",
     "text": [
      "A\n",
      " [[ 1  2  3]\n",
      " [ 1  2 -1]]\n",
      "B\n",
      " [[ 4  1]\n",
      " [-5  1]\n",
      " [ 6  1]]\n",
      "A B\n",
      " [[ 12   6]\n",
      " [-12   2]]\n",
      "A B\n",
      " [[ 12   6]\n",
      " [-12   2]]\n",
      "A B\n",
      " [[ 12   6]\n",
      " [-12   2]]\n"
     ]
    }
   ],
   "source": [
    "A = np.array([[1,2,3],[1,2,-1]])\n",
    "print('A\\n', A)\n",
    "B = np.array([[4, 1], [-5, 1], [6, 1]])\n",
    "print('B\\n',B)\n",
    "AB = np.dot(A,B)\n",
    "print('A B\\n', AB)\n",
    "\n",
    "# 省略表現\n",
    "AB = A.dot(B)\n",
    "print('A B\\n', AB)\n",
    "\n",
    "# 簡単表現\n",
    "AB = A @ B\n",
    "print('A B\\n', AB)\n"
   ]
  },
  {
   "cell_type": "markdown",
   "metadata": {
    "id": "bGAxet6xlmWc"
   },
   "source": [
    "### 正方行列のトレース\n",
    "\n",
    "$$\n",
    " tr(A) =\n",
    " \\begin{bmatrix}\n",
    " a_{11} & a_{12} & \\cdots & a_{1m} \\\\\n",
    " a_{21} & a_{22} & \\cdots & a_{2m} \\\\\n",
    " \\vdots & \\vdots & \\ddots & \\vdots \\\\\n",
    " a_{m1} & a_{m2} & \\cdots & a_{mm}\n",
    " \\end{bmatrix} = a_{11} + a_{22} + \\cdots + a_{mm}\n",
    "$$"
   ]
  },
  {
   "cell_type": "code",
   "execution_count": 12,
   "metadata": {
    "id": "iBpUSA4JlmWc",
    "outputId": "c42d048c-0f2d-4958-e84f-689f0beb61ef"
   },
   "outputs": [
    {
     "name": "stdout",
     "output_type": "stream",
     "text": [
      "A\n",
      " [[ 1  2  3]\n",
      " [ 2  2  2]\n",
      " [-4 -3 -2]]\n",
      "trace of A =  1\n"
     ]
    }
   ],
   "source": [
    "A=np.array([[1,2,3], [2,2,2], [-4, -3, -2]])\n",
    "print('A\\n', A)\n",
    "print('trace of A = ', np.trace(A))"
   ]
  },
  {
   "cell_type": "markdown",
   "metadata": {
    "id": "x32TghYdlmWi"
   },
   "source": [
    "### トレースの性質\n",
    "\n",
    "$$\n",
    "    tr(A+B) = tr(A) + tr(B)\n",
    "$$\n",
    "    あるいは，\n",
    "$$\n",
    "    tr(AB) = tr(BA)\n",
    "$$\n"
   ]
  },
  {
   "cell_type": "code",
   "execution_count": 13,
   "metadata": {
    "id": "3bMJVkttlmWk",
    "outputId": "bb725c2e-0659-4457-9d38-f231676ac295"
   },
   "outputs": [
    {
     "name": "stdout",
     "output_type": "stream",
     "text": [
      "A\n",
      " [[ 1  2  3]\n",
      " [ 2  2  2]\n",
      " [-4 -3 -2]]\n",
      "trace of A =  1\n",
      "B\n",
      " [[1 1 1]\n",
      " [2 2 2]\n",
      " [3 3 3]]\n",
      "trace of B =  6\n",
      "\n",
      "=== tr(A+B) = tr(A) + tr(B) ===\n",
      "trace of A + B =  7\n",
      "tr(A) + tr(B) =  7\n",
      "\n",
      "=== tr(AB) = tr(BA) ===\n",
      "tr(AB) =  10\n",
      "tr(BA) =  10\n"
     ]
    }
   ],
   "source": [
    "A=np.array([[1,2,3], [2,2,2], [-4, -3, -2]])\n",
    "print('A\\n', A)\n",
    "print('trace of A = ', np.trace(A))\n",
    "B=np.array([[1,1,1], [2,2,2], [3,3,3]])\n",
    "print('B\\n', B)\n",
    "print('trace of B = ', np.trace(B))\n",
    "\n",
    "# tr(A+B)\n",
    "print('\\n=== tr(A+B) = tr(A) + tr(B) ===')\n",
    "print('trace of A + B = ', np.trace(A+B))\n",
    "print('tr(A) + tr(B) = ', np.trace(A) + np.trace(B))\n",
    "\n",
    "# trac(AB)\n",
    "print('\\n=== tr(AB) = tr(BA) ===')\n",
    "print('tr(AB) = ', np.trace(A.dot(B)))\n",
    "print('tr(BA) = ', np.trace(B.dot(A)))"
   ]
  },
  {
   "cell_type": "markdown",
   "metadata": {
    "id": "Un975998lmWs"
   },
   "source": [
    "### 2次形式\n",
    "\n",
    "$$\n",
    "      {\\bf{x}}^T A {\\bf{x}} = \\begin{bmatrix} x_1 &  x_2 & \\cdots & x_m \\end{bmatrix}\n",
    "      \\begin{bmatrix}\n",
    "        a_{11} & a_{12} & \\cdots & a_{1m} \\\\\n",
    "        a_{21} & a_{22} & \\cdots & a_{2m} \\\\\n",
    "        \\vdots & \\vdots & \\ddots & \\vdots \\\\\n",
    "        a_{m1} & a_{m2} & \\cdots & a_{mm}\n",
    "      \\end{bmatrix}\n",
    "      \\begin{bmatrix} x_1 \\\\ x_2 \\\\ \\vdots \\\\ x_m \\end{bmatrix}\n",
    "      = \\sum_{i=1}^m \\sum_{j=1}^m a_{ij} x_i x_j\n",
    "$$"
   ]
  },
  {
   "cell_type": "code",
   "execution_count": 14,
   "metadata": {
    "id": "B16RsyIBlmWt",
    "outputId": "1440fd2d-c5a6-4bc8-81a9-774d8773b921"
   },
   "outputs": [
    {
     "name": "stdout",
     "output_type": "stream",
     "text": [
      "A\n",
      " [[1 2 3]\n",
      " [2 2 2]\n",
      " [3 2 3]]\n",
      "b\n",
      " [ 1 -2  1]\n",
      "b^TAb =  2\n"
     ]
    }
   ],
   "source": [
    "A=np.array([[1,2,3], [2,2,2], [3, 2, 3]])\n",
    "print('A\\n', A)\n",
    "b = np.array([1,-2,1])\n",
    "print('b\\n', b)\n",
    "qf = np.dot(b.T, A.dot(b))\n",
    "print('b^TAb = ', qf)\n"
   ]
  },
  {
   "cell_type": "markdown",
   "metadata": {
    "id": "sqDfRdTZlmW1"
   },
   "source": [
    "### フロベニウスノルム\n",
    "\n",
    "\\begin{align*}\n",
    "  ||A|| = \\sqrt{\\sum_{i=1}^m \\sum_{j=1}^n a_{ij}^2}\n",
    "\\end{align*}\n"
   ]
  },
  {
   "cell_type": "code",
   "execution_count": 15,
   "metadata": {
    "id": "QArKEG8TlmW2",
    "outputId": "c7a9ae54-2c17-447e-bd5a-98bf9004ba59"
   },
   "outputs": [
    {
     "name": "stdout",
     "output_type": "stream",
     "text": [
      "A\n",
      " [[1 2 3]\n",
      " [4 5 6]]\n",
      "Frobenius norm =  9.539392014169456\n",
      "\n",
      "=== tr(A A^T) ===\n",
      "A A^T\n",
      " [[14 32]\n",
      " [32 77]]\n",
      "tr(A A^T) =  91\n",
      "sqrt(tr(A A^T)) =  9.539392014169456\n",
      "\n",
      "=== tr(A^T A) ===\n",
      "A^T A\n",
      " [[17 22 27]\n",
      " [22 29 36]\n",
      " [27 36 45]]\n",
      "tr(A^T A) =  91\n",
      "sqrt(tr(A^T A)) =  9.539392014169456\n"
     ]
    }
   ],
   "source": [
    "A=np.array([[1,2,3], [4,5,6]])\n",
    "print('A\\n', A)\n",
    "print('Frobenius norm = ', np.linalg.norm(A))\n",
    "\n",
    "# tr(A A^T)\n",
    "print('\\n=== tr(A A^T) ===')\n",
    "AAT = A.dot(A.T)\n",
    "print('A A^T\\n', AAT)\n",
    "trAAT = np.trace(AAT)\n",
    "print('tr(A A^T) = ', trAAT)\n",
    "print('sqrt(tr(A A^T)) = ', np.sqrt(trAAT))\n",
    "\n",
    "# tr(A^T A)\n",
    "print('\\n=== tr(A^T A) ===')\n",
    "ATA = np.dot(A.T, A)\n",
    "print('A^T A\\n', ATA)\n",
    "trATA = np.trace(ATA)\n",
    "print('tr(A^T A) = ', trATA)\n",
    "print('sqrt(tr(A^T A)) = ', np.sqrt(trATA))\n"
   ]
  },
  {
   "cell_type": "markdown",
   "metadata": {
    "id": "qnT2GwcQlmXF"
   },
   "source": [
    "### 行列の簡約化（Raw Echelon Form)\n",
    "\n",
    "sympy を用いて，行列\n",
    "$$\n",
    "\\begin{bmatrix}\n",
    "2 & 3 & 6 \\\\\n",
    "4 & 5 & 7\n",
    "\\end{bmatrix}\n",
    "$$\n",
    "の簡約化をしてみる．"
   ]
  },
  {
   "cell_type": "code",
   "execution_count": 16,
   "metadata": {
    "id": "8VAqoQPVlmXG"
   },
   "outputs": [],
   "source": [
    "import sympy as sym"
   ]
  },
  {
   "cell_type": "code",
   "execution_count": 17,
   "metadata": {
    "id": "73SYkpv4lmXM",
    "outputId": "5f139369-1e26-4352-e463-e590d736ef70"
   },
   "outputs": [
    {
     "name": "stdout",
     "output_type": "stream",
     "text": [
      "A\n",
      " Matrix([[2, 3, 6], [4, 5, 7]])\n",
      "Matrix([[1, 0, -9/2], [0, 1, 5]])\n"
     ]
    },
    {
     "data": {
      "text/latex": [
       "$\\displaystyle \\left[\\begin{matrix}1 & 0 & - \\frac{9}{2}\\\\0 & 1 & 5\\end{matrix}\\right]$"
      ],
      "text/plain": [
       "Matrix([\n",
       "[1, 0, -9/2],\n",
       "[0, 1,    5]])"
      ]
     },
     "execution_count": 17,
     "metadata": {},
     "output_type": "execute_result"
    }
   ],
   "source": [
    "A = sym.Matrix([[2,3,6],[4,5,7]])\n",
    "print('A\\n', A)\n",
    "(B, Pv) = A.rref()\n",
    "print(B)\n",
    "B"
   ]
  },
  {
   "cell_type": "markdown",
   "metadata": {
    "id": "8SxnskdLlmXT"
   },
   "source": [
    "### ランク\n",
    "\n",
    "行列\n",
    "$$\n",
    "\\begin{bmatrix}\n",
    "1 & 0 & 2 & 1 \\\\\n",
    "2 & 1 & 1 & 0 \\\\\n",
    "0 & 1 & 1 & 0\n",
    "\\end{bmatrix}\n",
    "$$\n",
    "のランクを求めるために，この行列を簡約化してみる．"
   ]
  },
  {
   "cell_type": "code",
   "execution_count": 18,
   "metadata": {
    "id": "CijhQA7BlmXU",
    "outputId": "627dd2f7-0c5e-455a-8f64-5e2192641f24"
   },
   "outputs": [
    {
     "name": "stdout",
     "output_type": "stream",
     "text": [
      "A\n",
      " Matrix([[1, 0, 2, 1], [2, 1, 1, 0], [0, 1, 1, 0]])\n"
     ]
    },
    {
     "data": {
      "text/latex": [
       "$\\displaystyle \\left[\\begin{matrix}1 & 0 & 0 & 0\\\\0 & 1 & 0 & - \\frac{1}{2}\\\\0 & 0 & 1 & \\frac{1}{2}\\end{matrix}\\right]$"
      ],
      "text/plain": [
       "Matrix([\n",
       "[1, 0, 0,    0],\n",
       "[0, 1, 0, -1/2],\n",
       "[0, 0, 1,  1/2]])"
      ]
     },
     "execution_count": 18,
     "metadata": {},
     "output_type": "execute_result"
    }
   ],
   "source": [
    "A=sym.Matrix([[1,0,2,1], [2,1,1,0], [0,1,1,0]])\n",
    "print('A\\n', A)\n",
    "(B, Pv) = A.rref()\n",
    "B"
   ]
  },
  {
   "cell_type": "markdown",
   "metadata": {
    "id": "2MPfRdLflmXb"
   },
   "source": [
    "これから，この行列のランクは，３であるとわかる．"
   ]
  },
  {
   "cell_type": "markdown",
   "metadata": {
    "id": "elnFIpRMlmXc"
   },
   "source": [
    "### numpy でのランクの計算\n",
    "\n",
    "次に，numpyで同じ行列のランクを計算してみる．"
   ]
  },
  {
   "cell_type": "code",
   "execution_count": 19,
   "metadata": {
    "id": "yF7ap6Y0lmXd",
    "outputId": "e4f2788f-1222-4287-aa73-6fa6ca97fb33"
   },
   "outputs": [
    {
     "name": "stdout",
     "output_type": "stream",
     "text": [
      "A\n",
      " [[1 0 2 1]\n",
      " [2 1 1 0]\n",
      " [0 1 1 0]]\n",
      "rank(A)= 3\n"
     ]
    }
   ],
   "source": [
    "A=np.array([[1,0,2,1], [2,1,1,0], [0,1,1,0]])\n",
    "print('A\\n', A)\n",
    "print('rank(A)=', np.linalg.matrix_rank(A))"
   ]
  },
  {
   "cell_type": "markdown",
   "metadata": {
    "id": "9M1Ymew1lmXk"
   },
   "source": [
    "### LU分解\n",
    "\n",
    "\\begin{align*}\n",
    "    A = P L U\n",
    "\\end{align*}"
   ]
  },
  {
   "cell_type": "code",
   "execution_count": 20,
   "metadata": {
    "id": "WyTrwYhilmXl",
    "outputId": "73836494-b463-4136-81a7-0dfda60da6c3"
   },
   "outputs": [
    {
     "name": "stdout",
     "output_type": "stream",
     "text": [
      "LU decomposition (A = PLU): \n",
      "A:\n",
      " [[ 1  2  2]\n",
      " [ 2  5  6]\n",
      " [ 3  8 12]]\n",
      "P: \n",
      " [[0. 1. 0.]\n",
      " [0. 0. 1.]\n",
      " [1. 0. 0.]]\n",
      "L: \n",
      " [[1.         0.         0.        ]\n",
      " [0.33333333 1.         0.        ]\n",
      " [0.66666667 0.5        1.        ]]\n",
      "U: \n",
      " [[ 3.          8.         12.        ]\n",
      " [ 0.         -0.66666667 -2.        ]\n",
      " [ 0.          0.         -1.        ]]\n",
      "PLU: \n",
      " [[ 1.  2.  2.]\n",
      " [ 2.  5.  6.]\n",
      " [ 3.  8. 12.]]\n"
     ]
    }
   ],
   "source": [
    "import numpy as np\n",
    "from scipy.linalg import lu\n",
    "\n",
    "# pylint: disable=invalid-name\n",
    "\n",
    "A = np.array([[1, 2, 2],\n",
    "              [2, 5, 6],\n",
    "              [3, 8, 12]])\n",
    "\n",
    "print(\"LU decomposition (A = PLU): \")\n",
    "print(\"A:\\n\", A)\n",
    "P, L, U = lu(A)\n",
    "print(\"P: \\n\", P)\n",
    "print(\"L: \\n\", L)\n",
    "print(\"U: \\n\", U)\n",
    "print(\"PLU: \\n\", P @ L @ U)"
   ]
  },
  {
   "cell_type": "markdown",
   "metadata": {
    "id": "mq1Mx-NplmXs"
   },
   "source": [
    "### 連立方程式の解 \n",
    "\n",
    "scipyを利用\n",
    "\n",
    "\\begin{align*}\n",
    "    \\begin{bmatrix} 3 & 2 & 0 \\\\ 1 & -1 & 0 \\\\ 0 & 5 & 1 \\end{bmatrix} \n",
    "    \\begin{bmatrix} x_1 \\\\ x_2 \\\\ x_3 \\end{bmatrix} = \n",
    "    \\begin{bmatrix} 2 \\\\ 4 \\\\ -1 \\end{bmatrix}\n",
    "\\end{align*}"
   ]
  },
  {
   "cell_type": "code",
   "execution_count": 21,
   "metadata": {
    "id": "QnIGVZRnlmXt",
    "outputId": "99f9b6b8-1b21-4c12-c70f-9ab1d01f7318"
   },
   "outputs": [
    {
     "name": "stdout",
     "output_type": "stream",
     "text": [
      "m= 3 n= 3\n",
      "[A b]\n",
      " [[ 3  2  0  2]\n",
      " [ 1 -1  0  4]\n",
      " [ 0  5  1 -1]]\n",
      "Rank A= 3 Rank [A b]= 3\n",
      "Determinant is -5.0\n",
      "The solurion is  [ 2. -2.  9.]\n",
      "A x = [ 2.  4. -1.]\n"
     ]
    }
   ],
   "source": [
    "#importing the scipy and numpy packages\n",
    "from scipy import linalg\n",
    "import numpy as np\n",
    "\n",
    "#Declaring the numpy arrays\n",
    "A = np.array([[3, 2, 0], [1, -1, 0], [0, 5, 1]])\n",
    "b = np.array([2, 4, -1])\n",
    "\n",
    "m, n = A.shape\n",
    "\n",
    "print('m=', m, 'n=', n)\n",
    "\n",
    "# Augmented matrx [A b]\n",
    "Ab = np.column_stack((A, b))\n",
    "print(\"[A b]\\n\", Ab)\n",
    "\n",
    "rankA = np.linalg.matrix_rank(A)\n",
    "rankAb = np.linalg.matrix_rank(Ab)\n",
    "\n",
    "print(\"Rank A=\", rankA, \"Rank [A b]=\", rankAb)\n",
    "\n",
    "if (rankA != rankAb):\n",
    "    print(\"There is no solution!!!\")\n",
    "elif (n != rankA):\n",
    "    print(\"There is no uniqe solution\\n\")\n",
    "else:\n",
    "    \n",
    "    # Determinant of A\n",
    "    detA = linalg.det(A)\n",
    "    print(\"Determinant is\", detA)\n",
    "\n",
    "    #Passing the values to the solve function\n",
    "    x = linalg.solve(A, b)\n",
    "\n",
    "    #printing the result array\n",
    "    print(\"The solurion is \", x)\n",
    "\n",
    "    # A x\n",
    "    print(\"A x =\", A.dot(x))\n"
   ]
  },
  {
   "cell_type": "markdown",
   "metadata": {
    "id": "Yrr5ohJYlmXz"
   },
   "source": [
    "### 逆行列\n",
    "\n",
    "行列\n",
    "$$\n",
    "A=\\begin{bmatrix}\n",
    "2 & 1 & 1 \\\\\n",
    "1 & 2 & 1 \\\\\n",
    "1 & 1 & 2\n",
    "\\end{bmatrix}\n",
    "$$\n",
    "の逆行列を求める\n"
   ]
  },
  {
   "cell_type": "code",
   "execution_count": 22,
   "metadata": {
    "id": "gdQj8H1tlmX0",
    "outputId": "20778565-d64e-4930-9042-2867e13d942f"
   },
   "outputs": [
    {
     "name": "stdout",
     "output_type": "stream",
     "text": [
      "A\n",
      " [[2 1 1]\n",
      " [1 2 1]\n",
      " [1 1 2]]\n",
      "Inverse of A\n",
      " [[ 0.75 -0.25 -0.25]\n",
      " [-0.25  0.75 -0.25]\n",
      " [-0.25 -0.25  0.75]]\n",
      "A A^{-1}\n",
      " [[ 1.00000000e+00  0.00000000e+00  0.00000000e+00]\n",
      " [-5.55111512e-17  1.00000000e+00  0.00000000e+00]\n",
      " [-1.11022302e-16  0.00000000e+00  1.00000000e+00]]\n"
     ]
    }
   ],
   "source": [
    "A=np.array([[2,1,1],[1,2,1],[1,1,2]])\n",
    "print('A\\n', A)\n",
    "Ainv = np.linalg.inv(A)\n",
    "print('Inverse of A\\n', Ainv)\n",
    "\n",
    "# Check for A A^{-1}=I\n",
    "print('A A^{-1}\\n', A.dot(Ainv))"
   ]
  },
  {
   "cell_type": "markdown",
   "metadata": {
    "id": "QLT1_VZmlmX4"
   },
   "source": [
    "### 行列式\n",
    "\n",
    "行列式の計算"
   ]
  },
  {
   "cell_type": "code",
   "execution_count": 23,
   "metadata": {
    "id": "35-8JcI5lmX5",
    "outputId": "daf29623-e70d-4e5a-aeeb-1bc553853bc8"
   },
   "outputs": [
    {
     "name": "stdout",
     "output_type": "stream",
     "text": [
      "A\n",
      " [[ 1 -1  2]\n",
      " [ 2  1  1]\n",
      " [-1 -1  1]]\n",
      "B\n",
      " [[ 1  3 -1]\n",
      " [-1  1 -1]\n",
      " [ 1  1 -3]]\n",
      "det(A) =  2.9999999999999996\n",
      "det(A^T) =  2.9999999999999996\n",
      "det(A^{-1}) =  0.3333333333333333\n",
      "det(B) =  -12.0\n",
      "det(B^T) =  -12.0\n",
      "det(B^{-1}) =  -0.08333333333333333\n",
      "det(AB)= -36.0\n"
     ]
    }
   ],
   "source": [
    "A=np.array([[1,-1,2],[2,1,1],[-1,-1,1]])\n",
    "print('A\\n', A)\n",
    "B=np.array([[1,3,-1], [-1,1,-1], [1,1,-3]])\n",
    "print('B\\n', B)\n",
    "\n",
    "# det(A)\n",
    "detA = np.linalg.det(A)\n",
    "print(\"det(A) = \", detA)\n",
    "\n",
    "# det(A^T)\n",
    "detAT = np.linalg.det(A.T)\n",
    "print(\"det(A^T) = \", detAT)\n",
    "\n",
    "# det(A^{-1})\n",
    "detAinv = np.linalg.det(np.linalg.inv(A))\n",
    "print(\"det(A^{-1}) = \", detAinv)\n",
    "\n",
    "# det(B)\n",
    "detB = np.linalg.det(B)\n",
    "print(\"det(B) = \", detB)\n",
    "\n",
    "# det(B^T)\n",
    "detBT = np.linalg.det(B.T)\n",
    "print(\"det(B^T) = \", detBT)\n",
    "\n",
    "# det(B^{-1})\n",
    "detBinv = np.linalg.det(np.linalg.inv(B))\n",
    "print(\"det(B^{-1}) = \", detBinv)\n",
    "\n",
    "# det(AB)\n",
    "detAB = np.linalg.det(A.dot(B))\n",
    "print(\"det(AB)=\", detAB)"
   ]
  },
  {
   "cell_type": "markdown",
   "metadata": {
    "id": "pACUA9ZBlmX8"
   },
   "source": [
    "### 固有値と固有ベクトル\n"
   ]
  },
  {
   "cell_type": "code",
   "execution_count": 24,
   "metadata": {
    "id": "uVs7ES_HlmX9",
    "outputId": "2091589a-1f2e-4cfa-9df6-d659fbf076f5"
   },
   "outputs": [
    {
     "name": "stdout",
     "output_type": "stream",
     "text": [
      "A\n",
      " [[ 0 -1]\n",
      " [ 1  0]]\n",
      "Eigen Values\n",
      " [0.+1.j 0.-1.j]\n",
      "Eiven Vectors\n",
      " [[0.70710678+0.j         0.70710678-0.j        ]\n",
      " [0.        -0.70710678j 0.        +0.70710678j]]\n"
     ]
    }
   ],
   "source": [
    "A=np.array([[0,-1],[1,0]])\n",
    "print('A\\n', A)\n",
    "\n",
    "[E, V] = np.linalg.eig(A)\n",
    "print('Eigen Values\\n', E)\n",
    "print('Eiven Vectors\\n', V)"
   ]
  },
  {
   "cell_type": "markdown",
   "metadata": {
    "id": "VWZ1eI-flmYA"
   },
   "source": [
    "これ例から，行列$A$が実行列での固有値や固有ベクトルは複素数になることがわかる"
   ]
  },
  {
   "cell_type": "markdown",
   "metadata": {
    "id": "k4iZ9mdxlmYA"
   },
   "source": [
    "### 固有値と固有ベクトル\n",
    "\n",
    "3次実対称行列の場合"
   ]
  },
  {
   "cell_type": "code",
   "execution_count": 25,
   "metadata": {
    "id": "IiODtaWolmYB",
    "outputId": "71f088e0-efe2-4566-e326-0377a2b6efa6"
   },
   "outputs": [
    {
     "name": "stdout",
     "output_type": "stream",
     "text": [
      "A\n",
      " [[1 2 3]\n",
      " [2 2 1]\n",
      " [3 1 3]]\n",
      "Eigen Values\n",
      " [ 6.14389545 -1.52834667  1.38445123]\n",
      "Eiven Vectors\n",
      " [[ 0.57392741  0.81866166 -0.02001012]\n",
      " [ 0.4431767  -0.33105373 -0.83306533]\n",
      " [ 0.68862307 -0.46925101  0.55281258]]\n"
     ]
    }
   ],
   "source": [
    "A=np.array([[1,2,3], [2,2,1],[3,1,3]])\n",
    "print('A\\n', A)\n",
    "\n",
    "[L, U] = np.linalg.eig(A)\n",
    "print('Eigen Values\\n', L)\n",
    "print('Eiven Vectors\\n', U)"
   ]
  },
  {
   "cell_type": "markdown",
   "metadata": {
    "id": "sytDysJtlmYE"
   },
   "source": [
    "実対象行列の固有値，固有ベクトルは実数となることがわかる．\n"
   ]
  },
  {
   "cell_type": "markdown",
   "metadata": {
    "id": "aEgRHyeQlmYF"
   },
   "source": [
    "この行列の対角化"
   ]
  },
  {
   "cell_type": "code",
   "execution_count": 26,
   "metadata": {
    "id": "wFpoI9ChlmYG",
    "outputId": "4abb885c-cfe9-4fa6-ab10-f65d3cac46b8"
   },
   "outputs": [
    {
     "name": "stdout",
     "output_type": "stream",
     "text": [
      "Eigen Values\n",
      " [[ 6.14389545  0.          0.        ]\n",
      " [ 0.         -1.52834667  0.        ]\n",
      " [ 0.          0.          1.38445123]]\n",
      "U^T A U\n",
      " [[ 6.14389545e+00 -2.77555756e-16 -6.66133815e-16]\n",
      " [-8.88178420e-16 -1.52834667e+00  3.33066907e-16]\n",
      " [ 0.00000000e+00  3.33066907e-16  1.38445123e+00]]\n"
     ]
    }
   ],
   "source": [
    "print(\"Eigen Values\\n\", np.diag(L))\n",
    "print(\"U^T A U\\n\", np.dot(U.T, np.dot(A, U)))"
   ]
  },
  {
   "cell_type": "markdown",
   "metadata": {
    "id": "ZSmHM3WSlmYJ"
   },
   "source": [
    "### スペクトル分解"
   ]
  },
  {
   "cell_type": "code",
   "execution_count": 45,
   "metadata": {
    "id": "a646XaD_lmYK",
    "outputId": "b4364e53-16f4-4344-d73e-50dfd94399db"
   },
   "outputs": [
    {
     "name": "stdout",
     "output_type": "stream",
     "text": [
      "A\n",
      " Matrix([[1, 2, 3], [4, 5, 6], [7, 8, 9]])\n",
      "U L U^{T}\n",
      " [[1. 2. 3.]\n",
      " [2. 2. 1.]\n",
      " [3. 1. 3.]]\n"
     ]
    }
   ],
   "source": [
    "print(\"A\\n\", A)\n",
    "print(\"U L U^{T}\\n\", np.dot(U, np.dot(np.diag(L), U.T)))"
   ]
  },
  {
   "cell_type": "markdown",
   "metadata": {
    "id": "eHFe2Lx9lmYN"
   },
   "source": [
    "### 特異値分解\n"
   ]
  },
  {
   "cell_type": "code",
   "execution_count": 28,
   "metadata": {
    "id": "_apVx7bDlmYN",
    "outputId": "f6592ee7-f4a3-4cd2-b333-2b66ecfb13e4"
   },
   "outputs": [
    {
     "name": "stdout",
     "output_type": "stream",
     "text": [
      "B\n",
      " [[1 2 3]\n",
      " [2 2 2]]\n",
      "S\n",
      " [[ 0.73588229 -0.67710949]\n",
      " [ 0.67710949  0.73588229]]\n",
      "D\n",
      " [5.00415773 0.97898183]\n",
      "V^T\n",
      " [[ 0.41767294  0.56472711  0.71178129]\n",
      " [ 0.81171587  0.12006923 -0.57157741]\n",
      " [ 0.40824829 -0.81649658  0.40824829]]\n",
      "S D V^T\n",
      " [[1. 2. 3.]\n",
      " [2. 2. 2.]]\n"
     ]
    }
   ],
   "source": [
    "B=np.array([[1,2,3], [2,2,2]])\n",
    "print('B\\n', B)\n",
    "\n",
    "[S, D, V] = np.linalg.svd(B, full_matrices=True)\n",
    "\n",
    "print('S\\n', S)\n",
    "print('D\\n', D)\n",
    "print('V^T\\n', V)\n",
    "\n",
    "print('S D V^T\\n', np.dot(S * D, V[:2,:]))\n"
   ]
  },
  {
   "cell_type": "markdown",
   "metadata": {
    "id": "bXzGwgKmlmYR"
   },
   "source": [
    "### 一般化逆行列（Moore–Penrose inverse）\n",
    "\n",
    "[特異値分解との関係]\n",
    "\n",
    "$A$の特異値分解が，\n",
    "$$\n",
    "A = U D V^T\n",
    "$$\n",
    "で与えられる時，一般化逆行列$A^{+}$は，\n",
    "$$\n",
    "A^{+} = V D^{+} U^{T}\n",
    "$$\n",
    "で与えられる．ここで，$D^{+}$は，０以外の対角要素はその逆数をとり，0はそのままにした対角行列\n",
    "\n",
    "これから，\n",
    "$$\n",
    " A A^{+} = U D V^{T} V D^{+} U^{T} = U D D^{+} U^{T} = U U^{T} = I\n",
    "$$\n",
    "となることが確かめられる．\n"
   ]
  },
  {
   "cell_type": "code",
   "execution_count": 49,
   "metadata": {
    "id": "dqxsGJu0lmYV"
   },
   "outputs": [
    {
     "name": "stdout",
     "output_type": "stream",
     "text": [
      "A\n",
      " [[1 2 3]\n",
      " [2 2 2]]\n",
      "Moore-Penrose pseudo-invers\n",
      " [[-5.00000000e-01  6.66666667e-01]\n",
      " [-6.93889390e-17  1.66666667e-01]\n",
      " [ 5.00000000e-01 -3.33333333e-01]]\n",
      "A PinvA\n",
      " [[ 1.00000000e+00  0.00000000e+00]\n",
      " [-1.11022302e-16  1.00000000e+00]]\n"
     ]
    }
   ],
   "source": [
    "from numpy.linalg import pinv\n",
    "\n",
    "A = np.array([[1,2,3], [2,2,2]])\n",
    "print('A\\n', A)\n",
    "\n",
    "PinvA = pinv(A)\n",
    "\n",
    "print('Moore-Penrose pseudo-invers\\n', PinvA)\n",
    "\n",
    "print('A PinvA\\n', np.dot(A, PinvA))"
   ]
  },
  {
   "cell_type": "markdown",
   "metadata": {
    "id": "E8LnfEyRlmYY"
   },
   "source": [
    "## sympy を用いた線形代数"
   ]
  },
  {
   "cell_type": "markdown",
   "metadata": {
    "id": "VrASAcMglmYY"
   },
   "source": [
    "行列の宣言"
   ]
  },
  {
   "cell_type": "code",
   "execution_count": 30,
   "metadata": {
    "id": "9HFZBMP2lmYZ",
    "outputId": "34a11e3e-5208-4b43-a18c-ea40858e734a"
   },
   "outputs": [
    {
     "name": "stdout",
     "output_type": "stream",
     "text": [
      "Matrix([[1, 2, 3], [4, 5, 6], [7, 8, 9]])\n"
     ]
    }
   ],
   "source": [
    "A = sym.Matrix([\n",
    "    [1,2,3],\n",
    "    [4,5,6],\n",
    "    [7,8,9]\n",
    "])\n",
    "print(A)"
   ]
  },
  {
   "cell_type": "markdown",
   "metadata": {
    "id": "xLLtaQhElmYd"
   },
   "source": [
    "   ”ｓｙｍｐｙ．Matrix” をnumpy.arrayに変換"
   ]
  },
  {
   "cell_type": "code",
   "execution_count": 31,
   "metadata": {
    "id": "CiKYjClqlmYd",
    "outputId": "60f18021-f0ab-4993-fd76-d585ff48d439"
   },
   "outputs": [
    {
     "name": "stdout",
     "output_type": "stream",
     "text": [
      "[[1 2 3]\n",
      " [4 5 6]\n",
      " [7 8 9]]\n"
     ]
    }
   ],
   "source": [
    "A_n = sym.matrix2numpy(A)\n",
    "print(A_n)"
   ]
  },
  {
   "cell_type": "markdown",
   "metadata": {
    "id": "NaRzl9t8lmYh"
   },
   "source": [
    "零行列"
   ]
  },
  {
   "cell_type": "code",
   "execution_count": 32,
   "metadata": {
    "id": "fhURCvUblmYh",
    "outputId": "1390ee0c-44aa-4aa9-a558-6eee77578af6"
   },
   "outputs": [
    {
     "name": "stdout",
     "output_type": "stream",
     "text": [
      "Matrix([[0, 0, 0], [0, 0, 0]])\n"
     ]
    }
   ],
   "source": [
    "Zero = sym.Matrix.zeros(2, 3)\n",
    "print(Zero)"
   ]
  },
  {
   "cell_type": "markdown",
   "metadata": {
    "id": "VyC6gapslmYk"
   },
   "source": [
    "単位行列"
   ]
  },
  {
   "cell_type": "code",
   "execution_count": 33,
   "metadata": {
    "id": "Sg_dqIz5lmYl",
    "outputId": "249d6df6-0de5-43c9-e4d3-9f5c8371e481"
   },
   "outputs": [
    {
     "name": "stdout",
     "output_type": "stream",
     "text": [
      "Matrix([[1, 0, 0], [0, 1, 0], [0, 0, 1]])\n"
     ]
    }
   ],
   "source": [
    "I = sym.Matrix.eye(3,3)\n",
    "print(I)"
   ]
  },
  {
   "cell_type": "markdown",
   "metadata": {
    "id": "qQCow89mlmYt"
   },
   "source": [
    "対角行列"
   ]
  },
  {
   "cell_type": "code",
   "execution_count": 34,
   "metadata": {
    "id": "QmOi-wK6lmYt",
    "outputId": "f23340dc-5421-41e3-c7a8-f7dbb349d299"
   },
   "outputs": [
    {
     "name": "stdout",
     "output_type": "stream",
     "text": [
      "Matrix([[1, 0, 0], [0, 2, 0], [0, 0, 3]])\n"
     ]
    }
   ],
   "source": [
    "D = sym.Matrix.diag(1,2,3)\n",
    "print(D)"
   ]
  },
  {
   "cell_type": "code",
   "execution_count": 35,
   "metadata": {
    "id": "EYFLAHjElmYx",
    "outputId": "065875c6-2bc1-41db-8f8b-d5bcb2e059c8"
   },
   "outputs": [
    {
     "name": "stdout",
     "output_type": "stream",
     "text": [
      "Matrix([[1, 2, 3], [4, 5, 6], [7, 8, 9]])\n",
      "6\n",
      "1\n",
      "6\n"
     ]
    }
   ],
   "source": [
    "print(A)\n",
    "print(A[1,2])\n",
    "print(A[0,0])\n",
    "print(A[5])"
   ]
  },
  {
   "cell_type": "code",
   "execution_count": 36,
   "metadata": {
    "id": "bmKNUDk7lmY1",
    "outputId": "2034e6b8-fdc0-4fba-95d3-5875cfd2ee93"
   },
   "outputs": [
    {
     "name": "stdout",
     "output_type": "stream",
     "text": [
      "Matrix([[1, 2, 3], [4, 5, 6], [7, 8, 9]])\n",
      "Matrix([[7, 8, 9], [4, 5, 6], [1, 2, 3]])\n",
      "Matrix([[18, 24, 30], [54, 69, 84], [90, 114, 138]])\n"
     ]
    }
   ],
   "source": [
    "B=sym.Matrix([[7,8,9],[4,5,6],[1,2,3]])\n",
    "print(A)\n",
    "print(B)\n",
    "print(A * B)"
   ]
  },
  {
   "cell_type": "markdown",
   "metadata": {
    "id": "O953OsJVlmY6"
   },
   "source": [
    "行列の簡約化（Raw Echelon Form)"
   ]
  },
  {
   "cell_type": "code",
   "execution_count": 37,
   "metadata": {
    "id": "8EUeiql5lmY8",
    "outputId": "21956377-97d9-4fec-b079-6b57f468c843"
   },
   "outputs": [
    {
     "name": "stdout",
     "output_type": "stream",
     "text": [
      "A=Matrix([[1, 2, 3], [4, 5, 6], [7, 8, 9]])\n",
      "G=Matrix([[1, 0, -1], [0, 1, 2], [0, 0, 0]])\n"
     ]
    }
   ],
   "source": [
    "print(\"A={}\".format(A))\n",
    "(G, Pv) = A.rref()\n",
    "print(\"G={}\".format(G))"
   ]
  },
  {
   "cell_type": "markdown",
   "metadata": {
    "id": "sTaAG-ATlmZD"
   },
   "source": [
    "行列のランク"
   ]
  },
  {
   "cell_type": "code",
   "execution_count": 38,
   "metadata": {
    "id": "oi0a8Ay8lmZD",
    "outputId": "9adea365-d278-4d2a-9087-78748763b4d3"
   },
   "outputs": [
    {
     "name": "stdout",
     "output_type": "stream",
     "text": [
      "2\n",
      "2\n",
      "3\n"
     ]
    }
   ],
   "source": [
    "print(A.rank())\n",
    "print(B.rank())\n",
    "print((A * B - I).rank())"
   ]
  },
  {
   "cell_type": "markdown",
   "metadata": {
    "id": "JXDdsBQylmZH"
   },
   "source": [
    "行列の逆行列"
   ]
  },
  {
   "cell_type": "code",
   "execution_count": 39,
   "metadata": {
    "id": "0oV8rtE8lmZH",
    "outputId": "1617df74-3a46-4d48-a8e2-67f8de3da2b5"
   },
   "outputs": [
    {
     "name": "stdout",
     "output_type": "stream",
     "text": [
      "Matrix([[-65/137, 33/137, -6/137], [81/274, -371/548, 48/137], [9/137, 111/274, -35/137]])\n",
      "Matrix([[1, 0, 0], [0, 1, 0], [0, 0, 1]])\n"
     ]
    }
   ],
   "source": [
    "C=A * B - I\n",
    "Cinv = C.inv()\n",
    "print(Cinv)\n",
    "print(C * Cinv)"
   ]
  }
 ],
 "metadata": {
  "celltoolbar": "Slideshow",
  "colab": {
   "include_colab_link": true,
   "name": "linalg.ipynb",
   "provenance": []
  },
  "kernelspec": {
   "display_name": "Python 3",
   "language": "python",
   "name": "python3"
  },
  "language_info": {
   "codemirror_mode": {
    "name": "ipython",
    "version": 3
   },
   "file_extension": ".py",
   "mimetype": "text/x-python",
   "name": "python",
   "nbconvert_exporter": "python",
   "pygments_lexer": "ipython3",
   "version": "3.7.9"
  }
 },
 "nbformat": 4,
 "nbformat_minor": 4
}
