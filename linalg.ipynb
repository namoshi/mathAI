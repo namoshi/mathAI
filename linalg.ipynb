{
 "cells": [
  {
   "cell_type": "markdown",
   "metadata": {},
   "source": [
    "----\n",
    "title: \"Titre\"\n",
    "date: Fecha\n",
    "output:\n",
    "    pdf_document:\n",
    "        includes:\n",
    "            in_header: mystyles.sty\n",
    "----"
   ]
  },
  {
   "cell_type": "markdown",
   "metadata": {},
   "source": [
    "## Pythonを用いた線形代数\n",
    "\n",
    "### numpyによる線形代数"
   ]
  },
  {
   "cell_type": "code",
   "execution_count": 1,
   "metadata": {},
   "outputs": [],
   "source": [
    "import numpy as np\n"
   ]
  },
  {
   "cell_type": "markdown",
   "metadata": {},
   "source": [
    "ベクトル"
   ]
  },
  {
   "cell_type": "code",
   "execution_count": 4,
   "metadata": {},
   "outputs": [
    {
     "name": "stdout",
     "output_type": "stream",
     "text": [
      "x\n",
      " [1 2 3]\n"
     ]
    }
   ],
   "source": [
    "x = np.array([1,2,3])\n",
    "print('x\\n', x)\n"
   ]
  },
  {
   "cell_type": "markdown",
   "metadata": {},
   "source": [
    "行列"
   ]
  },
  {
   "cell_type": "code",
   "execution_count": 5,
   "metadata": {},
   "outputs": [
    {
     "name": "stdout",
     "output_type": "stream",
     "text": [
      "[[1 2 3]\n",
      " [4 5 6]]\n"
     ]
    }
   ],
   "source": [
    "A = np.array([[1,2,3],[4,5,6]])\n",
    "print(A)"
   ]
  },
  {
   "cell_type": "markdown",
   "metadata": {},
   "source": [
    "転置"
   ]
  },
  {
   "cell_type": "code",
   "execution_count": 8,
   "metadata": {},
   "outputs": [
    {
     "name": "stdout",
     "output_type": "stream",
     "text": [
      "[[1 4]\n",
      " [2 5]\n",
      " [3 6]]\n"
     ]
    }
   ],
   "source": [
    "AT = np.transpose(A)\n",
    "print(AT)"
   ]
  },
  {
   "cell_type": "code",
   "execution_count": 9,
   "metadata": {},
   "outputs": [
    {
     "name": "stdout",
     "output_type": "stream",
     "text": [
      "[[1 4]\n",
      " [2 5]\n",
      " [3 6]]\n"
     ]
    }
   ],
   "source": [
    "# 省略表記\n",
    "AT = A.T\n",
    "print(AT)"
   ]
  },
  {
   "cell_type": "markdown",
   "metadata": {},
   "source": [
    "回転行列\n",
    "\\begin{align*}\n",
    "R(\\theta) = \\begin{bmatrix} \\cos \\theta & - \\sin \\theta \\\\ \\sin \\theta & \\cos \\theta \\end{bmatrix}\n",
    "\\end{align*}"
   ]
  },
  {
   "cell_type": "code",
   "execution_count": 14,
   "metadata": {},
   "outputs": [
    {
     "name": "stdout",
     "output_type": "stream",
     "text": [
      "[[ 0.70710678 -0.70710678]\n",
      " [ 0.70710678  0.70710678]]\n"
     ]
    }
   ],
   "source": [
    "def R(th):\n",
    "    R = np.array([[np.cos(th), -np.sin(th)],\n",
    "                  [np.sin(th),  np.cos(th)]])\n",
    "    return R\n",
    "\n",
    "print(R(np.pi/4))"
   ]
  },
  {
   "cell_type": "markdown",
   "metadata": {},
   "source": [
    "単位行列\n",
    "\n",
    "\\begin{align*}\n",
    "I =\n",
    " \\begin{bmatrix}\n",
    " 1 & 0   & \\cdots & 0 \\\\\n",
    " 0   & 1 & \\cdots & 0 \\\\\n",
    " \\vdots & \\vdots & \\ddots & \\vdots \\\\\n",
    " 0   & 0   & \\cdots & 1\n",
    " \\end{bmatrix}\n",
    " = \\mbox{diag}(1,1,\\ldots,1) = [\\delta_{ij}]\n",
    "\\end{align*}"
   ]
  },
  {
   "cell_type": "code",
   "execution_count": 20,
   "metadata": {},
   "outputs": [
    {
     "name": "stdout",
     "output_type": "stream",
     "text": [
      "[[1. 0. 0.]\n",
      " [0. 1. 0.]\n",
      " [0. 0. 1.]]\n"
     ]
    }
   ],
   "source": [
    "I = np.eye(3)\n",
    "print(I)"
   ]
  },
  {
   "cell_type": "markdown",
   "metadata": {},
   "source": [
    "内積\n",
    "\\begin{align*}\n",
    " {\\bf{x}}^T {\\bf{y}} = \\begin{bmatrix} x_1 & x_2 & \\cdots & x_m \\end{bmatrix} \\begin{bmatrix} y_1 \\\\ y_2 \\\\ \\vdots \\\\ y_m \\end{bmatrix} \n",
    " = \\sum_{i=1}^m x_i y_i = {\\bf{y}}^T {\\bf{x}}\n",
    "\\end{align*}\n"
   ]
  },
  {
   "cell_type": "code",
   "execution_count": 24,
   "metadata": {},
   "outputs": [
    {
     "name": "stdout",
     "output_type": "stream",
     "text": [
      "12\n",
      "12\n"
     ]
    }
   ],
   "source": [
    "x = np.array([1,2,3])\n",
    "y = np.array([4,-5,6])\n",
    "print(np.dot(x,y))\n",
    "# 省略表記\n",
    "print(x.dot(y))"
   ]
  },
  {
   "cell_type": "markdown",
   "metadata": {},
   "source": [
    "ベクトルのノルム（長さ）\n",
    "$$\n",
    "||{\\bf{x}}|| = \\sqrt{{\\bf{x}}^T{\\bf{x}}} = \\sqrt{ x_1^2+x_2^2 + \\cdots + x_m^2}\n",
    "  = \\sqrt{\\sum_{i=1}^m x_i^2}\n",
    "$$\n"
   ]
  },
  {
   "cell_type": "code",
   "execution_count": 34,
   "metadata": {},
   "outputs": [
    {
     "name": "stdout",
     "output_type": "stream",
     "text": [
      "[1 2 3]\n",
      "14\n",
      "14.0\n"
     ]
    }
   ],
   "source": [
    "print(x)\n",
    "print(1**2+2++2+3**2)\n",
    "xnorm = np.linalg.norm(x)\n",
    "print(xnorm**2)"
   ]
  },
  {
   "cell_type": "markdown",
   "metadata": {},
   "source": [
    "行列とベクトルの積\n",
    "$$\n",
    " {\\bf{y}} = A {\\bf{x}}\n",
    " =\n",
    " \\begin{bmatrix}\n",
    " a_{11} & a_{12} & \\cdots & a_{1n} \\\\\n",
    " a_{21} & a_{22} & \\cdots & a_{2n} \\\\\n",
    " \\vdots & \\vdots & \\ddots & \\vdots \\\\\n",
    " a_{m1} & a_{m2} & \\cdots & a_{mn}\n",
    " \\end{bmatrix}\n",
    " \\begin{bmatrix}\n",
    " x_1 \\\\\n",
    " x_2 \\\\\n",
    " \\vdots \\\\\n",
    " x_n\n",
    " \\end{bmatrix}\n",
    " =\n",
    " \\begin{bmatrix}\n",
    " \\sum_{j=1} a_{1j} x_j \\\\\n",
    " \\sum_{j=1} a_{2j} x_j \\\\\n",
    " \\vdots \\\\\n",
    " \\sum_{j=1} a_{mj} x_j\n",
    " \\end{bmatrix}\n",
    "$$"
   ]
  },
  {
   "cell_type": "code",
   "execution_count": 41,
   "metadata": {},
   "outputs": [
    {
     "name": "stdout",
     "output_type": "stream",
     "text": [
      "A\n",
      " [[ 1  2  3]\n",
      " [ 1  2 -1]]\n",
      "x\n",
      " [ 4 -5  6]\n",
      "A x\n",
      " [ 12 -12]\n",
      "A x\n",
      " [ 12 -12]\n",
      "A x\n",
      " [ 12 -12]\n"
     ]
    }
   ],
   "source": [
    "A = np.array([[1,2,3],[1,2,-1]])\n",
    "print('A\\n', A)\n",
    "x = np.array([4, -5, 6])\n",
    "print('x\\n',x)\n",
    "Ax = np.dot(A,x)\n",
    "print('A x\\n', Ax)\n",
    "\n",
    "# 省略表現\n",
    "Ax = A.dot(x)\n",
    "print('A x\\n', Ax)\n",
    "\n",
    "# 簡単表現\n",
    "Ax = A @ x\n",
    "print('A x\\n', Ax)\n"
   ]
  },
  {
   "cell_type": "markdown",
   "metadata": {},
   "source": [
    "行列の積"
   ]
  },
  {
   "cell_type": "code",
   "execution_count": 44,
   "metadata": {},
   "outputs": [
    {
     "name": "stdout",
     "output_type": "stream",
     "text": [
      "A\n",
      " [[ 1  2  3]\n",
      " [ 1  2 -1]]\n",
      "B\n",
      " [[ 4  1]\n",
      " [-5  1]\n",
      " [ 6  1]]\n",
      "A B\n",
      " [[ 12   6]\n",
      " [-12   2]]\n",
      "A B\n",
      " [[ 12   6]\n",
      " [-12   2]]\n",
      "A B\n",
      " [[ 12   6]\n",
      " [-12   2]]\n"
     ]
    }
   ],
   "source": [
    "A = np.array([[1,2,3],[1,2,-1]])\n",
    "print('A\\n', A)\n",
    "B = np.array([[4, 1], [-5, 1], [6, 1]])\n",
    "print('B\\n',B)\n",
    "AB = np.dot(A,B)\n",
    "print('A B\\n', AB)\n",
    "\n",
    "# 省略表現\n",
    "AB = A.dot(B)\n",
    "print('A B\\n', AB)\n",
    "\n",
    "# 簡単表現\n",
    "AB = A @ B\n",
    "print('A B\\n', AB)\n"
   ]
  },
  {
   "cell_type": "markdown",
   "metadata": {},
   "source": [
    "正方行列のトレース\n",
    "$$\n",
    " tr(A) =\n",
    " \\begin{bmatrix}\n",
    " a_{11} & a_{12} & \\cdots & a_{1m} \\\\\n",
    " a_{21} & a_{22} & \\cdots & a_{2m} \\\\\n",
    " \\vdots & \\vdots & \\ddots & \\vdots \\\\\n",
    " a_{m1} & a_{m2} & \\cdots & a_{mm}\n",
    " \\end{bmatrix} = a_{11} + a_{22} + \\cdots + a_{mm}\n",
    "$$"
   ]
  },
  {
   "cell_type": "code",
   "execution_count": 45,
   "metadata": {},
   "outputs": [
    {
     "name": "stdout",
     "output_type": "stream",
     "text": [
      "A\n",
      " [[ 1  2  3]\n",
      " [ 2  2  2]\n",
      " [-4 -3 -2]]\n",
      "trace of A =  1\n"
     ]
    }
   ],
   "source": [
    "A=np.array([[1,2,3], [2,2,2], [-4, -3, -2]])\n",
    "print('A\\n', A)\n",
    "print('trace of A = ', np.trace(A))"
   ]
  },
  {
   "cell_type": "markdown",
   "metadata": {},
   "source": [
    "トレースの性質\n",
    "$$\n",
    "    tr(A+B) = tr(A) + tr(B)\n",
    "$$\n",
    "    あるいは，\n",
    "$$\n",
    "    tr(AB) = tr(BA)\n",
    "$$\n"
   ]
  },
  {
   "cell_type": "code",
   "execution_count": 54,
   "metadata": {},
   "outputs": [
    {
     "name": "stdout",
     "output_type": "stream",
     "text": [
      "A\n",
      " [[ 1  2  3]\n",
      " [ 2  2  2]\n",
      " [-4 -3 -2]]\n",
      "trace of A =  1\n",
      "B\n",
      " [[1 1 1]\n",
      " [2 2 2]\n",
      " [3 3 3]]\n",
      "trace of B =  6\n",
      "\n",
      "=== tr(A+B) = tr(A) + tr(B) ===\n",
      "trace of A + B =  7\n",
      "tr(A) + tr(B) =  7\n",
      "\n",
      "=== tr(AB) = tr(BA) ===\n",
      "tr(AB) =  10\n",
      "tr(BA) =  10\n"
     ]
    }
   ],
   "source": [
    "A=np.array([[1,2,3], [2,2,2], [-4, -3, -2]])\n",
    "print('A\\n', A)\n",
    "print('trace of A = ', np.trace(A))\n",
    "B=np.array([[1,1,1], [2,2,2], [3,3,3]])\n",
    "print('B\\n', B)\n",
    "print('trace of B = ', np.trace(B))\n",
    "\n",
    "# tr(A+B)\n",
    "print('\\n=== tr(A+B) = tr(A) + tr(B) ===')\n",
    "print('trace of A + B = ', np.trace(A+B))\n",
    "print('tr(A) + tr(B) = ', np.trace(A) + np.trace(B))\n",
    "\n",
    "# trac(AB)\n",
    "print('\\n=== tr(AB) = tr(BA) ===')\n",
    "print('tr(AB) = ', np.trace(A.dot(B)))\n",
    "print('tr(BA) = ', np.trace(B.dot(A)))"
   ]
  },
  {
   "cell_type": "markdown",
   "metadata": {},
   "source": [
    "## sympy を用いた線形代数"
   ]
  },
  {
   "cell_type": "code",
   "execution_count": null,
   "metadata": {},
   "outputs": [],
   "source": [
    "import sympy as sym"
   ]
  },
  {
   "cell_type": "markdown",
   "metadata": {},
   "source": [
    "行列の宣言"
   ]
  },
  {
   "cell_type": "code",
   "execution_count": 7,
   "metadata": {},
   "outputs": [
    {
     "name": "stdout",
     "output_type": "stream",
     "text": [
      "Matrix([[1, 2, 3], [4, 5, 6], [7, 8, 9]])\n"
     ]
    }
   ],
   "source": [
    "A = sym.Matrix([\n",
    "    [1,2,3],\n",
    "    [4,5,6],\n",
    "    [7,8,9]\n",
    "])\n",
    "print(A)"
   ]
  },
  {
   "cell_type": "markdown",
   "metadata": {},
   "source": [
    "   ”ｓｙｍｐｙ．Matrix” をnumpy.arrayに変換"
   ]
  },
  {
   "cell_type": "code",
   "execution_count": 8,
   "metadata": {},
   "outputs": [
    {
     "name": "stdout",
     "output_type": "stream",
     "text": [
      "[[1 2 3]\n",
      " [4 5 6]\n",
      " [7 8 9]]\n"
     ]
    }
   ],
   "source": [
    "A_n = sym.matrix2numpy(A)\n",
    "print(A_n)"
   ]
  },
  {
   "cell_type": "markdown",
   "metadata": {},
   "source": [
    "零行列"
   ]
  },
  {
   "cell_type": "code",
   "execution_count": 9,
   "metadata": {},
   "outputs": [
    {
     "name": "stdout",
     "output_type": "stream",
     "text": [
      "Matrix([[0, 0, 0], [0, 0, 0]])\n"
     ]
    }
   ],
   "source": [
    "Zero = sym.Matrix.zeros(2, 3)\n",
    "print(Zero)"
   ]
  },
  {
   "cell_type": "markdown",
   "metadata": {},
   "source": [
    "単位行列"
   ]
  },
  {
   "cell_type": "code",
   "execution_count": 12,
   "metadata": {},
   "outputs": [
    {
     "name": "stdout",
     "output_type": "stream",
     "text": [
      "Matrix([[1, 0, 0], [0, 1, 0], [0, 0, 1]])\n"
     ]
    }
   ],
   "source": [
    "I = sym.Matrix.eye(3,3)\n",
    "print(I)"
   ]
  },
  {
   "cell_type": "markdown",
   "metadata": {},
   "source": [
    "対角行列"
   ]
  },
  {
   "cell_type": "code",
   "execution_count": 14,
   "metadata": {},
   "outputs": [
    {
     "name": "stdout",
     "output_type": "stream",
     "text": [
      "Matrix([[1, 0, 0], [0, 2, 0], [0, 0, 3]])\n"
     ]
    }
   ],
   "source": [
    "D = sym.Matrix.diag(1,2,3)\n",
    "print(D)"
   ]
  },
  {
   "cell_type": "code",
   "execution_count": 19,
   "metadata": {},
   "outputs": [
    {
     "name": "stdout",
     "output_type": "stream",
     "text": [
      "Matrix([[1, 2, 3], [4, 5, 6], [7, 8, 9]])\n",
      "6\n",
      "1\n",
      "6\n"
     ]
    }
   ],
   "source": [
    "print(A)\n",
    "print(A[1,2])\n",
    "print(A[0,0])\n",
    "print(A[5])"
   ]
  },
  {
   "cell_type": "code",
   "execution_count": 20,
   "metadata": {},
   "outputs": [
    {
     "name": "stdout",
     "output_type": "stream",
     "text": [
      "Matrix([[1, 2, 3], [4, 5, 6], [7, 8, 9]])\n",
      "Matrix([[7, 8, 9], [4, 5, 6], [1, 2, 3]])\n",
      "Matrix([[18, 24, 30], [54, 69, 84], [90, 114, 138]])\n"
     ]
    }
   ],
   "source": [
    "B=sym.Matrix([[7,8,9],[4,5,6],[1,2,3]])\n",
    "print(A)\n",
    "print(B)\n",
    "print(A * B)"
   ]
  },
  {
   "cell_type": "markdown",
   "metadata": {},
   "source": [
    "行列の簡約化（Raw Echelon Form)"
   ]
  },
  {
   "cell_type": "code",
   "execution_count": 23,
   "metadata": {},
   "outputs": [
    {
     "name": "stdout",
     "output_type": "stream",
     "text": [
      "A=Matrix([[1, 2, 3], [4, 5, 6], [7, 8, 9]])\n",
      "G=Matrix([[1, 0, -1], [0, 1, 2], [0, 0, 0]])\n"
     ]
    }
   ],
   "source": [
    "print(\"A={}\".format(A))\n",
    "(G, Pv) = A.rref()\n",
    "print(\"G={}\".format(G))"
   ]
  },
  {
   "cell_type": "code",
   "execution_count": null,
   "metadata": {},
   "outputs": [],
   "source": [
    "行列のランク"
   ]
  },
  {
   "cell_type": "code",
   "execution_count": 29,
   "metadata": {},
   "outputs": [
    {
     "name": "stdout",
     "output_type": "stream",
     "text": [
      "2\n",
      "2\n",
      "3\n"
     ]
    }
   ],
   "source": [
    "print(A.rank())\n",
    "print(B.rank())\n",
    "print((A * B - I).rank())"
   ]
  },
  {
   "cell_type": "markdown",
   "metadata": {},
   "source": [
    "行列の逆行列"
   ]
  },
  {
   "cell_type": "code",
   "execution_count": 31,
   "metadata": {},
   "outputs": [
    {
     "name": "stdout",
     "output_type": "stream",
     "text": [
      "Matrix([[-65/137, 33/137, -6/137], [81/274, -371/548, 48/137], [9/137, 111/274, -35/137]])\n",
      "Matrix([[1, 0, 0], [0, 1, 0], [0, 0, 1]])\n"
     ]
    }
   ],
   "source": [
    "C=A * B - I\n",
    "Cinv = C.inv()\n",
    "print(Cinv)\n",
    "print(C * Cinv)"
   ]
  },
  {
   "cell_type": "markdown",
   "metadata": {},
   "source": [
    "### numpy, scipyを用いて線形代数\n",
    "\n",
    "LU分解\n",
    "\\begin{align*}\n",
    "    A = P L U\n",
    "\\end{align*}"
   ]
  },
  {
   "cell_type": "code",
   "execution_count": 2,
   "metadata": {},
   "outputs": [
    {
     "name": "stdout",
     "output_type": "stream",
     "text": [
      "LU decomposition (A = PLU): \n",
      "A:\n",
      " [[ 1  2  2]\n",
      " [ 2  5  6]\n",
      " [ 3  8 12]]\n",
      "P: \n",
      " [[0. 1. 0.]\n",
      " [0. 0. 1.]\n",
      " [1. 0. 0.]]\n",
      "L: \n",
      " [[1.         0.         0.        ]\n",
      " [0.33333333 1.         0.        ]\n",
      " [0.66666667 0.5        1.        ]]\n",
      "U: \n",
      " [[ 3.          8.         12.        ]\n",
      " [ 0.         -0.66666667 -2.        ]\n",
      " [ 0.          0.         -1.        ]]\n",
      "PLU: \n",
      " [[ 1.  2.  2.]\n",
      " [ 2.  5.  6.]\n",
      " [ 3.  8. 12.]]\n"
     ]
    }
   ],
   "source": [
    "import numpy as np\n",
    "from scipy.linalg import lu\n",
    "\n",
    "# pylint: disable=invalid-name\n",
    "\n",
    "A = np.array([[1, 2, 2],\n",
    "              [2, 5, 6],\n",
    "              [3, 8, 12]])\n",
    "\n",
    "print(\"LU decomposition (A = PLU): \")\n",
    "print(\"A:\\n\", A)\n",
    "P, L, U = lu(A)\n",
    "print(\"P: \\n\", P)\n",
    "print(\"L: \\n\", L)\n",
    "print(\"U: \\n\", U)\n",
    "print(\"PLU: \\n\", P @ L @ U)"
   ]
  },
  {
   "cell_type": "markdown",
   "metadata": {},
   "source": [
    "連立方程式の解 by using scipy\n",
    "\\begin{align*}\n",
    "    \\begin{bmatrix} 3 & 2 & 0 \\\\ 1 & -1 & 0 \\\\ 0 & 5 & 1 \\end{bmatrix} \n",
    "    \\begin{bmatrix} x_1 \\\\ x_2 \\\\ x_3 \\end{bmatrix} = \n",
    "    \\begin{bmatrix} 2 \\\\ 4 \\\\ -1 \\end{bmatrix}\n",
    "\\end{align*}"
   ]
  },
  {
   "cell_type": "code",
   "execution_count": 5,
   "metadata": {},
   "outputs": [
    {
     "name": "stdout",
     "output_type": "stream",
     "text": [
      "m= 3 n= 3\n",
      "[A b]\n",
      " [[ 3  2  0  2]\n",
      " [ 1 -1  0  4]\n",
      " [ 0  5  1 -1]]\n",
      "Rank A= 3 Rank [A b]= 3\n",
      "Determinant is -5.0\n",
      "The solurion is  [ 2. -2.  9.]\n",
      "A x = [ 2.  4. -1.]\n"
     ]
    }
   ],
   "source": [
    "#importing the scipy and numpy packages\n",
    "from scipy import linalg\n",
    "import numpy as np\n",
    "\n",
    "#Declaring the numpy arrays\n",
    "A = np.array([[3, 2, 0], [1, -1, 0], [0, 5, 1]])\n",
    "b = np.array([2, 4, -1])\n",
    "\n",
    "m, n = A.shape\n",
    "\n",
    "print('m=', m, 'n=', n)\n",
    "\n",
    "# Augmented matrx [A b]\n",
    "Ab = np.column_stack((A, b))\n",
    "print(\"[A b]\\n\", Ab)\n",
    "\n",
    "rankA = np.linalg.matrix_rank(A)\n",
    "rankAb = np.linalg.matrix_rank(Ab)\n",
    "\n",
    "print(\"Rank A=\", rankA, \"Rank [A b]=\", rankAb)\n",
    "\n",
    "if (rankA != rankAb):\n",
    "    print(\"There is no solution!!!\")\n",
    "elif (n != rankA):\n",
    "    print(\"There is no uniqe solution\\n\")\n",
    "else:\n",
    "    \n",
    "    # Determinant of A\n",
    "    detA = linalg.det(A)\n",
    "    print(\"Determinant is\", detA)\n",
    "\n",
    "    #Passing the values to the solve function\n",
    "    x = linalg.solve(A, b)\n",
    "\n",
    "    #printing the result array\n",
    "    print(\"The solurion is \", x)\n",
    "\n",
    "    # A x\n",
    "    print(\"A x =\", A.dot(x))\n"
   ]
  },
  {
   "cell_type": "code",
   "execution_count": null,
   "metadata": {},
   "outputs": [],
   "source": []
  }
 ],
 "metadata": {
  "kernelspec": {
   "display_name": "Python 3",
   "language": "python",
   "name": "python3"
  },
  "language_info": {
   "codemirror_mode": {
    "name": "ipython",
    "version": 3
   },
   "file_extension": ".py",
   "mimetype": "text/x-python",
   "name": "python",
   "nbconvert_exporter": "python",
   "pygments_lexer": "ipython3",
   "version": "3.7.7"
  }
 },
 "nbformat": 4,
 "nbformat_minor": 4
}
