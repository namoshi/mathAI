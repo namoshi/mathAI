{
  "nbformat": 4,
  "nbformat_minor": 0,
  "metadata": {
    "colab": {
      "provenance": [],
      "authorship_tag": "ABX9TyNUzEc67POTVxsTZQrwshSE",
      "include_colab_link": true
    },
    "kernelspec": {
      "name": "python3",
      "display_name": "Python 3"
    },
    "language_info": {
      "name": "python"
    }
  },
  "cells": [
    {
      "cell_type": "markdown",
      "metadata": {
        "id": "view-in-github",
        "colab_type": "text"
      },
      "source": [
        "<a href=\"https://colab.research.google.com/github/namoshi/mathAI/blob/master/cofactor.ipynb\" target=\"_parent\"><img src=\"https://colab.research.google.com/assets/colab-badge.svg\" alt=\"Open In Colab\"/></a>"
      ]
    },
    {
      "cell_type": "code",
      "execution_count": 1,
      "metadata": {
        "id": "bpxWH6sea54s"
      },
      "outputs": [],
      "source": [
        "import numpy as np\n",
        "\n",
        "# 余因子または小行列式を求める関数\n",
        "def cofactor(a, i, j, minor=False):\n",
        "    x = np.delete(a, i, axis=0) # i行目を削除\n",
        "    x = np.delete(x, j, axis=1) # j列目を削除\n",
        "    if minor == False: # 余因子の場合\n",
        "        a_ij = (-1)**(i+j) * np.linalg.det(x) # 小行列式に符号をかける\n",
        "    else: # 小行列式の場合\n",
        "        a_ij = np.linalg.det(x)\n",
        "    return a_ij\n",
        "\n",
        "# n次正方行列Aの余因子行列を求める関数\n",
        "def cofactor_matrix(a):\n",
        "    n = len(a) # 行列のサイズ\n",
        "    c = np.zeros((n,n)) # すべての成分が0のn×n行列を生成\n",
        "    for i in range(n):\n",
        "        for j in range(n):\n",
        "            c[j,i] = cofactor(a, i, j) # (j,i)成分に余因子を代入\n",
        "    return c\n"
      ]
    },
    {
      "cell_type": "code",
      "source": [
        "\n",
        "# 行列Aを定義（例として3×3行列）\n",
        "a = np.array([[2, 7, 3],\n",
        "              [5, 0, 9],\n",
        "              [3, 1, 4]])\n",
        "\n",
        "# 行列Aの余因子行列を求める\n",
        "c = cofactor_matrix(a)\n",
        "\n",
        "# 結果を表示\n",
        "print(\"A:\")\n",
        "print(a)\n",
        "print(\"C:\")\n",
        "print(c)\n",
        "\n",
        "det = np.linalg.det(a)\n",
        "print('det=', det)\n",
        "\n",
        "AC = np.dot(a, c)/det\n",
        "print('A*C/det')\n",
        "print(AC)\n",
        "\n",
        "Ainv = det*np.linalg.inv(a)\n",
        "print('det*Ainv')\n",
        "print(Ainv)\n",
        "\n"
      ],
      "metadata": {
        "colab": {
          "base_uri": "https://localhost:8080/"
        },
        "id": "rw7iTsZrbKpj",
        "outputId": "30565177-4da8-4679-88c4-3de6dc296eee"
      },
      "execution_count": 12,
      "outputs": [
        {
          "output_type": "stream",
          "name": "stdout",
          "text": [
            "A:\n",
            "[[2 7 3]\n",
            " [5 0 9]\n",
            " [3 1 4]]\n",
            "C:\n",
            "[[ -9. -25.  63.]\n",
            " [  7.  -1.  -3.]\n",
            " [  5.  19. -35.]]\n",
            "det= 46.00000000000002\n",
            "A*C/det\n",
            "[[ 1.00000000e+00 -5.40630342e-16  1.54465812e-16]\n",
            " [-3.28239851e-16  1.00000000e+00  1.54465812e-16]\n",
            " [-2.31698718e-16 -9.26794873e-16  1.00000000e+00]]\n",
            "det*Ainv\n",
            "[[ -9. -25.  63.]\n",
            " [  7.  -1.  -3.]\n",
            " [  5.  19. -35.]]\n"
          ]
        }
      ]
    }
  ]
}