{
  "nbformat": 4,
  "nbformat_minor": 0,
  "metadata": {
    "colab": {
      "provenance": [],
      "authorship_tag": "ABX9TyOtsg3GMzM2tLlL0aqq6l3O",
      "include_colab_link": true
    },
    "kernelspec": {
      "name": "python3",
      "display_name": "Python 3"
    },
    "language_info": {
      "name": "python"
    }
  },
  "cells": [
    {
      "cell_type": "markdown",
      "metadata": {
        "id": "view-in-github",
        "colab_type": "text"
      },
      "source": [
        "<a href=\"https://colab.research.google.com/github/namoshi/mathAI/blob/master/QR_factorization.ipynb\" target=\"_parent\"><img src=\"https://colab.research.google.com/assets/colab-badge.svg\" alt=\"Open In Colab\"/></a>"
      ]
    },
    {
      "cell_type": "markdown",
      "source": [
        "# QR factorization\n",
        "\n"
      ],
      "metadata": {
        "id": "z9E09VsS4RhX"
      }
    },
    {
      "cell_type": "code",
      "execution_count": 3,
      "metadata": {
        "colab": {
          "base_uri": "https://localhost:8080/"
        },
        "id": "ggCKFe1j4D5m",
        "outputId": "361ac233-d24a-42b0-e75a-1f8d8c2c7187"
      },
      "outputs": [
        {
          "output_type": "stream",
          "name": "stdout",
          "text": [
            "[[ 1  2 -1]\n",
            " [ 2  6  0]\n",
            " [-1  0  9]]\n",
            "Q\n",
            " [[-0.40824829  0.12309149  0.90453403]\n",
            " [-0.81649658 -0.49236596 -0.30151134]\n",
            " [ 0.40824829 -0.86164044  0.30151134]]\n",
            "R\n",
            " [[-2.44948974 -5.71547607  4.0824829 ]\n",
            " [ 0.         -2.7080128  -7.87785542]\n",
            " [ 0.          0.          1.80906807]]\n",
            "Q * R\n",
            " [[ 1.0000000e+00  2.0000000e+00 -1.0000000e+00]\n",
            " [ 2.0000000e+00  6.0000000e+00 -1.6361719e-15]\n",
            " [-1.0000000e+00 -5.0430051e-16  9.0000000e+00]]\n",
            "Q Q^T\n",
            " [[ 1.00000000e+00  2.34109027e-16 -1.41501896e-16]\n",
            " [ 2.34109027e-16  1.00000000e+00 -6.46683277e-17]\n",
            " [-1.41501896e-16 -6.46683277e-17  1.00000000e+00]]\n"
          ]
        }
      ],
      "source": [
        "import numpy as np\n",
        "from numpy.linalg import qr\n",
        "\n",
        "A = np.array([[1, 2, -1], [2, 6, 0], [-1, 0, 9]])\n",
        "\n",
        "print(A)\n",
        "\n",
        "Q, R = qr(A)\n",
        "\n",
        "print('Q\\n', Q)\n",
        "print('R\\n', R)\n",
        "\n",
        "print('Q * R\\n', np.dot(Q, R))\n",
        "print('Q Q^T\\n', np.dot(Q, Q.T))"
      ]
    }
  ]
}