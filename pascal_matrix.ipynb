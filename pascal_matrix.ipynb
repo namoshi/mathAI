{
  "nbformat": 4,
  "nbformat_minor": 0,
  "metadata": {
    "colab": {
      "provenance": [],
      "authorship_tag": "ABX9TyOzfg+2lmKdJ4rP/g50oXaG",
      "include_colab_link": true
    },
    "kernelspec": {
      "name": "python3",
      "display_name": "Python 3"
    },
    "language_info": {
      "name": "python"
    }
  },
  "cells": [
    {
      "cell_type": "markdown",
      "metadata": {
        "id": "view-in-github",
        "colab_type": "text"
      },
      "source": [
        "<a href=\"https://colab.research.google.com/github/namoshi/mathAI/blob/master/pascal_matrix.ipynb\" target=\"_parent\"><img src=\"https://colab.research.google.com/assets/colab-badge.svg\" alt=\"Open In Colab\"/></a>"
      ]
    },
    {
      "cell_type": "code",
      "execution_count": 4,
      "metadata": {
        "colab": {
          "base_uri": "https://localhost:8080/"
        },
        "id": "l_XPW6ro5XCr",
        "outputId": "e8de9ae7-82ff-4914-f8b0-343346843efa"
      },
      "outputs": [
        {
          "output_type": "stream",
          "name": "stdout",
          "text": [
            "[[ 1  1  1  1]\n",
            " [ 1  2  3  4]\n",
            " [ 1  3  6 10]\n",
            " [ 1  4 10 20]]\n"
          ]
        }
      ],
      "source": [
        "import numpy as np\n",
        "from scipy.linalg import pascal\n",
        "\n",
        "n = 4 # 行列の次数\n",
        "pascal_matrix = pascal(n)\n",
        "print(pascal_matrix)"
      ]
    },
    {
      "cell_type": "code",
      "source": [
        "# Determinant\n",
        "\n",
        "for n in range(2,5):\n",
        "  P = pascal(n)\n",
        "  print(P)\n",
        "  print('det=', np.linalg.det(P))"
      ],
      "metadata": {
        "colab": {
          "base_uri": "https://localhost:8080/"
        },
        "id": "PxWvYvqy5kuV",
        "outputId": "46e7f283-c32f-424e-afbb-55d43c8c7808"
      },
      "execution_count": 6,
      "outputs": [
        {
          "output_type": "stream",
          "name": "stdout",
          "text": [
            "[[1 1]\n",
            " [1 2]]\n",
            "det= 1.0\n",
            "[[1 1 1]\n",
            " [1 2 3]\n",
            " [1 3 6]]\n",
            "det= 1.0\n",
            "[[ 1  1  1  1]\n",
            " [ 1  2  3  4]\n",
            " [ 1  3  6 10]\n",
            " [ 1  4 10 20]]\n",
            "det= 0.9999999999999991\n"
          ]
        }
      ]
    },
    {
      "cell_type": "code",
      "source": [
        "# inverse matrices\n",
        "\n",
        "for n in range(2,5):\n",
        "  P = pascal(n)\n",
        "  print(P)\n",
        "  print('inverse\\n', np.linalg.inv(P))"
      ],
      "metadata": {
        "colab": {
          "base_uri": "https://localhost:8080/"
        },
        "id": "hpnGljmf6HyS",
        "outputId": "9f04f987-b687-4a1b-8c30-90dfbef60e82"
      },
      "execution_count": 7,
      "outputs": [
        {
          "output_type": "stream",
          "name": "stdout",
          "text": [
            "[[1 1]\n",
            " [1 2]]\n",
            "inverse\n",
            " [[ 2. -1.]\n",
            " [-1.  1.]]\n",
            "[[1 1 1]\n",
            " [1 2 3]\n",
            " [1 3 6]]\n",
            "inverse\n",
            " [[ 3. -3.  1.]\n",
            " [-3.  5. -2.]\n",
            " [ 1. -2.  1.]]\n",
            "[[ 1  1  1  1]\n",
            " [ 1  2  3  4]\n",
            " [ 1  3  6 10]\n",
            " [ 1  4 10 20]]\n",
            "inverse\n",
            " [[  4.  -6.   4.  -1.]\n",
            " [ -6.  14. -11.   3.]\n",
            " [  4. -11.  10.  -3.]\n",
            " [ -1.   3.  -3.   1.]]\n"
          ]
        }
      ]
    }
  ]
}