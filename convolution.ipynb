{
  "nbformat": 4,
  "nbformat_minor": 0,
  "metadata": {
    "kernelspec": {
      "display_name": "Python 3",
      "language": "python",
      "name": "python3"
    },
    "language_info": {
      "codemirror_mode": {
        "name": "ipython",
        "version": 3
      },
      "file_extension": ".py",
      "mimetype": "text/x-python",
      "name": "python",
      "nbconvert_exporter": "python",
      "pygments_lexer": "ipython3",
      "version": "3.7.7"
    },
    "colab": {
      "name": "convolution.ipynb",
      "provenance": [],
      "include_colab_link": true
    }
  },
  "cells": [
    {
      "cell_type": "markdown",
      "metadata": {
        "id": "view-in-github",
        "colab_type": "text"
      },
      "source": [
        "<a href=\"https://colab.research.google.com/github/namoshi/mathAI/blob/master/convolution.ipynb\" target=\"_parent\"><img src=\"https://colab.research.google.com/assets/colab-badge.svg\" alt=\"Open In Colab\"/></a>"
      ]
    },
    {
      "cell_type": "code",
      "metadata": {
        "id": "3uctBNeemQnB"
      },
      "source": [
        "import torch\n",
        "from torch.nn import Conv2d\n",
        "import matplotlib.pyplot as plt\n",
        "import numpy as np"
      ],
      "execution_count": 1,
      "outputs": []
    },
    {
      "cell_type": "code",
      "metadata": {
        "id": "wPCkS_lCmQnI",
        "outputId": "8e22b511-ded1-4f94-9942-bf2538b6680d",
        "colab": {
          "base_uri": "https://localhost:8080/",
          "height": 295
        }
      },
      "source": [
        "N = 30\n",
        "x = np.arange(0, 1, 1.0/N)\n",
        "y =  np.sin(2*np.pi*x) + np.random.normal(0,0.2,N)\n",
        "\n",
        "plt.plot(x, y, 'bo') \n",
        "plt.xlim(0.0, 1.0)\n",
        "plt.ylim(-1.6, 1.6)\n",
        "plt.title(\"poly_sin\")\n",
        "plt.xlabel('x')\n",
        "plt.ylabel('y')\n",
        "#plt.savefig('poly_sin.eps')\n",
        "plt.show()\n",
        "plt.close()"
      ],
      "execution_count": 2,
      "outputs": [
        {
          "output_type": "display_data",
          "data": {
            "image/png": "[encoded data removed]",
            "text/plain": [
              "<Figure size 432x288 with 1 Axes>"
            ]
          },
          "metadata": {
            "tags": [],
            "needs_background": "light"
          }
        }
      ]
    },
    {
      "cell_type": "code",
      "metadata": {
        "id": "zDVGqfsamQnN",
        "outputId": "847c20be-f6fb-451c-8b79-ad642ae61507"
      },
      "source": [
        "# Define Convolutional Filter\n",
        "m = torch.nn.Conv1d(1, 1, 3, stride=1, padding=1)\n",
        "print(m.bias)\n",
        "print(m.weight)\n",
        "m.bias[0] = 0.0\n",
        "m.weight[0][0][0] = 1.0/4.0\n",
        "m.weight[0][0][1] = 2.0/4.0\n",
        "m.weight[0][0][2] = 1.0/4.0\n",
        "print(m.bias)\n",
        "print(m.weight)"
      ],
      "execution_count": null,
      "outputs": [
        {
          "output_type": "stream",
          "text": [
            "Parameter containing:\n",
            "tensor([0.0278], requires_grad=True)\n",
            "Parameter containing:\n",
            "tensor([[[-0.1740, -0.0254,  0.5385]]], requires_grad=True)\n",
            "Parameter containing:\n",
            "tensor([0.], grad_fn=<CopySlices>)\n",
            "Parameter containing:\n",
            "tensor([[[0.2500, 0.5000, 0.2500]]], grad_fn=<CopySlices>)\n"
          ],
          "name": "stdout"
        }
      ]
    },
    {
      "cell_type": "code",
      "metadata": {
        "id": "JRhETOa3mQnS",
        "outputId": "911f1f1c-ef8d-47ec-b31f-440ac18b7c17"
      },
      "source": [
        "input = torch.from_numpy(y.reshape((1,1,N)).astype(np.float32)).clone()\n",
        "output = m(input)\n",
        "print(input)\n",
        "print(output)\n",
        "yest = output[0][0].to('cpu').detach().numpy().copy()\n",
        "print(x.shape)\n",
        "print(yest.shape)"
      ],
      "execution_count": null,
      "outputs": [
        {
          "output_type": "stream",
          "text": [
            "tensor([[[-0.1344,  0.1473,  0.5550,  0.3280,  0.6713,  0.8282,  1.1206,\n",
            "           0.9152,  1.3550,  0.9399,  0.5852,  1.0057,  0.7267,  0.7552,\n",
            "           0.2052, -0.1909, -0.2845, -0.1076, -0.1647, -0.6354, -0.6293,\n",
            "          -0.7022, -0.9211, -1.4045, -1.1294, -0.7317, -0.6053, -0.2864,\n",
            "          -0.3919, -0.1092]]])\n",
            "tensor([[[-0.0304,  0.1788,  0.3964,  0.4706,  0.6247,  0.8621,  0.9962,\n",
            "           1.0765,  1.1413,  0.9550,  0.7790,  0.8308,  0.8036,  0.6106,\n",
            "           0.2437, -0.1153, -0.2169, -0.1661, -0.2681, -0.5162, -0.6491,\n",
            "          -0.7387, -0.9873, -1.2149, -1.0988, -0.7995, -0.5572, -0.3925,\n",
            "          -0.2949, -0.1526]]], grad_fn=<SqueezeBackward1>)\n",
            "(30,)\n",
            "(30,)\n"
          ],
          "name": "stdout"
        }
      ]
    },
    {
      "cell_type": "code",
      "metadata": {
        "id": "XJ1oHQHwmQnZ",
        "outputId": "d8043b2e-a228-4415-b49f-095e61185c8a"
      },
      "source": [
        "plt.plot(x, y, 'bo') \n",
        "plt.plot(x, yest,'g-')\n",
        "plt.title(\"1d-Convolution (Moving Average)\")\n",
        "plt.xlabel('x')\n",
        "plt.ylabel('y')\n",
        "plt.savefig('1d-conv.png')\n",
        "plt.show()\n",
        "plt.close()"
      ],
      "execution_count": null,
      "outputs": [
        {
          "output_type": "display_data",
          "data": {
            "image/png": "[encoded data removed]",
            "text/plain": [
              "<Figure size 432x288 with 1 Axes>"
            ]
          },
          "metadata": {
            "tags": [],
            "needs_background": "light"
          }
        }
      ]
    },
    {
      "cell_type": "code",
      "metadata": {
        "id": "i-WxrI1AmQne"
      },
      "source": [
        ""
      ],
      "execution_count": null,
      "outputs": []
    }
  ]
}