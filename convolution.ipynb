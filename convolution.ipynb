{
 "cells": [
  {
   "cell_type": "markdown",
   "metadata": {
    "colab_type": "text",
    "id": "view-in-github"
   },
   "source": [
    "<a href=\"https://colab.research.google.com/github/namoshi/mathAI/blob/master/convolution.ipynb\" target=\"_parent\"><img src=\"https://colab.research.google.com/assets/colab-badge.svg\" alt=\"Open In Colab\"/></a>"
   ]
  },
  {
   "cell_type": "code",
   "execution_count": 1,
   "metadata": {
    "id": "3uctBNeemQnB"
   },
   "outputs": [],
   "source": [
    "import torch\n",
    "from torch.nn import Conv2d\n",
    "import matplotlib.pyplot as plt\n",
    "import numpy as np"
   ]
  },
  {
   "cell_type": "code",
   "execution_count": 2,
   "metadata": {
    "colab": {
     "base_uri": "https://localhost:8080/",
     "height": 295
    },
    "id": "wPCkS_lCmQnI",
    "outputId": "8e22b511-ded1-4f94-9942-bf2538b6680d"
   },
   "outputs": [
    {
     "data": {
      "image/png": "[encoded data removed]",
      "text/plain": [
       "<Figure size 432x288 with 1 Axes>"
      ]
     },
     "metadata": {
      "needs_background": "light"
     },
     "output_type": "display_data"
    }
   ],
   "source": [
    "N = 30\n",
    "x = np.arange(0, 1, 1.0/N)\n",
    "y =  np.sin(2*np.pi*x) + np.random.normal(0,0.2,N)\n",
    "\n",
    "plt.plot(x, y, 'bo') \n",
    "plt.xlim(0.0, 1.0)\n",
    "plt.ylim(-1.6, 1.6)\n",
    "plt.title(\"poly_sin\")\n",
    "plt.xlabel('x')\n",
    "plt.ylabel('y')\n",
    "#plt.savefig('poly_sin.eps')\n",
    "plt.show()\n",
    "plt.close()"
   ]
  },
  {
   "cell_type": "code",
   "execution_count": 3,
   "metadata": {
    "id": "zDVGqfsamQnN",
    "outputId": "847c20be-f6fb-451c-8b79-ad642ae61507"
   },
   "outputs": [
    {
     "name": "stdout",
     "output_type": "stream",
     "text": [
      "Parameter containing:\n",
      "tensor([-0.1550], requires_grad=True)\n",
      "Parameter containing:\n",
      "tensor([[[ 0.1283, -0.0992, -0.1040]]], requires_grad=True)\n",
      "Parameter containing:\n",
      "tensor([0.], grad_fn=<CopySlices>)\n",
      "Parameter containing:\n",
      "tensor([[[0.2500, 0.5000, 0.2500]]], grad_fn=<CopySlices>)\n"
     ]
    }
   ],
   "source": [
    "# Define Convolutional Filter\n",
    "m = torch.nn.Conv1d(1, 1, 3, stride=1, padding=1)\n",
    "print(m.bias)\n",
    "print(m.weight)\n",
    "m.bias[0] = 0.0\n",
    "m.weight[0][0][0] = 1.0/4.0\n",
    "m.weight[0][0][1] = 2.0/4.0\n",
    "m.weight[0][0][2] = 1.0/4.0\n",
    "print(m.bias)\n",
    "print(m.weight)"
   ]
  },
  {
   "cell_type": "code",
   "execution_count": 4,
   "metadata": {
    "id": "JRhETOa3mQnS",
    "outputId": "911f1f1c-ef8d-47ec-b31f-440ac18b7c17"
   },
   "outputs": [
    {
     "name": "stdout",
     "output_type": "stream",
     "text": [
      "tensor([[[-0.1476,  0.1434,  0.3808,  0.8002,  0.8966,  0.5837,  0.7371,\n",
      "           1.1023,  0.9444,  1.0233,  0.8811,  0.8356,  0.6049,  0.2267,\n",
      "           0.2465,  0.1174, -0.2702, -0.2742, -0.9040, -0.7176, -1.0231,\n",
      "          -1.0903, -1.0381, -0.9517, -0.7937, -1.0166, -0.8365, -0.7305,\n",
      "          -0.3638, -0.3778]]])\n",
      "tensor([[[-0.0379,  0.1300,  0.4263,  0.7195,  0.7943,  0.7003,  0.7900,\n",
      "           0.9715,  1.0036,  0.9680,  0.9053,  0.7893,  0.5680,  0.3262,\n",
      "           0.2093,  0.0528, -0.1743, -0.4306, -0.6999, -0.8406, -0.9635,\n",
      "          -1.0605, -1.0295, -0.9338, -0.8889, -0.9158, -0.8550, -0.6653,\n",
      "          -0.4590, -0.2798]]], grad_fn=<SqueezeBackward1>)\n",
      "(30,)\n",
      "(30,)\n"
     ]
    }
   ],
   "source": [
    "input = torch.from_numpy(y.reshape((1,1,N)).astype(np.float32)).clone()\n",
    "output = m(input)\n",
    "print(input)\n",
    "print(output)\n",
    "yest = output[0][0].to('cpu').detach().numpy().copy()\n",
    "print(x.shape)\n",
    "print(yest.shape)"
   ]
  },
  {
   "cell_type": "code",
   "execution_count": 5,
   "metadata": {
    "id": "XJ1oHQHwmQnZ",
    "outputId": "d8043b2e-a228-4415-b49f-095e61185c8a"
   },
   "outputs": [
    {
     "data": {
      "image/png": "[encoded data removed]",
      "text/plain": [
       "<Figure size 432x288 with 1 Axes>"
      ]
     },
     "metadata": {
      "needs_background": "light"
     },
     "output_type": "display_data"
    }
   ],
   "source": [
    "plt.plot(x, y, 'bo') \n",
    "plt.plot(x, yest,'g-')\n",
    "plt.title(\"1d-Convolution (Moving Average)\")\n",
    "plt.xlabel('x')\n",
    "plt.ylabel('y')\n",
    "plt.savefig('1d-conv.png')\n",
    "plt.show()\n",
    "plt.close()"
   ]
  },
  {
   "cell_type": "code",
   "execution_count": null,
   "metadata": {
    "id": "i-WxrI1AmQne"
   },
   "outputs": [],
   "source": []
  }
 ],
 "metadata": {
  "colab": {
   "include_colab_link": true,
   "name": "convolution.ipynb",
   "provenance": []
  },
  "kernelspec": {
   "display_name": "Python 3",
   "language": "python",
   "name": "python3"
  },
  "language_info": {
   "codemirror_mode": {
    "name": "ipython",
    "version": 3
   },
   "file_extension": ".py",
   "mimetype": "text/x-python",
   "name": "python",
   "nbconvert_exporter": "python",
   "pygments_lexer": "ipython3",
   "version": "3.7.7"
  }
 },
 "nbformat": 4,
 "nbformat_minor": 4
}
