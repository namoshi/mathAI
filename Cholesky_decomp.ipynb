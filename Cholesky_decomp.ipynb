{
  "nbformat": 4,
  "nbformat_minor": 0,
  "metadata": {
    "colab": {
      "provenance": [],
      "authorship_tag": "ABX9TyOms3iU/tjLoDzA3vIav/8b",
      "include_colab_link": true
    },
    "kernelspec": {
      "name": "python3",
      "display_name": "Python 3"
    },
    "language_info": {
      "name": "python"
    }
  },
  "cells": [
    {
      "cell_type": "markdown",
      "metadata": {
        "id": "view-in-github",
        "colab_type": "text"
      },
      "source": [
        "<a href=\"https://colab.research.google.com/github/namoshi/mathAI/blob/master/Cholesky_decomp.ipynb\" target=\"_parent\"><img src=\"https://colab.research.google.com/assets/colab-badge.svg\" alt=\"Open In Colab\"/></a>"
      ]
    },
    {
      "cell_type": "markdown",
      "source": [
        "# Cholesky Decomposition"
      ],
      "metadata": {
        "id": "z9E09VsS4RhX"
      }
    },
    {
      "cell_type": "code",
      "execution_count": 1,
      "metadata": {
        "colab": {
          "base_uri": "https://localhost:8080/"
        },
        "id": "ggCKFe1j4D5m",
        "outputId": "dbe56e27-8659-4f49-a0f8-6c0aae350a3a"
      },
      "outputs": [
        {
          "output_type": "stream",
          "name": "stdout",
          "text": [
            "Real Synmetric Matrix\n",
            " [[ 1  2 -1]\n",
            " [ 2  6  0]\n",
            " [-1  0  9]]\n",
            "Lower Triangle Matrix \n",
            " [[ 1.          0.          0.        ]\n",
            " [ 2.          1.41421356  0.        ]\n",
            " [-1.          1.41421356  2.44948974]]\n",
            "Reconstracted as L L^T \n",
            " [[ 1.00000000e+00  2.00000000e+00 -1.00000000e+00]\n",
            " [ 2.00000000e+00  6.00000000e+00 -4.05861454e-17]\n",
            " [-1.00000000e+00 -4.05861454e-17  9.00000000e+00]]\n"
          ]
        }
      ],
      "source": [
        "import numpy as np\n",
        "from numpy.linalg import cholesky\n",
        "\n",
        "# A is a real synmetric matrix\n",
        "A = np.array([[1, 2, -1], [2, 6, 0], [-1, 0, 9]])\n",
        "\n",
        "print('Real Synmetric Matrix\\n', A)\n",
        "\n",
        "# Colesky Decomposition\n",
        "L = cholesky(A)\n",
        "\n",
        "print('Lower Triangle Matrix \\n', L)\n",
        "\n",
        "print('Reconstracted as L L^T \\n', np.dot(L, L.T))"
      ]
    }
  ]
}