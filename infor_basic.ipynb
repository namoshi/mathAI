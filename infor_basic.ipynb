{
  "nbformat": 4,
  "nbformat_minor": 0,
  "metadata": {
    "colab": {
      "provenance": [],
      "authorship_tag": "ABX9TyO0Vk2h1tqi4WOgeGzoOtL9",
      "include_colab_link": true
    },
    "kernelspec": {
      "name": "python3",
      "display_name": "Python 3"
    },
    "language_info": {
      "name": "python"
    }
  },
  "cells": [
    {
      "cell_type": "markdown",
      "metadata": {
        "id": "view-in-github",
        "colab_type": "text"
      },
      "source": [
        "<a href=\"https://colab.research.google.com/github/namoshi/mathAI/blob/master/infor_basic.ipynb\" target=\"_parent\"><img src=\"https://colab.research.google.com/assets/colab-badge.svg\" alt=\"Open In Colab\"/></a>"
      ]
    },
    {
      "cell_type": "markdown",
      "source": [
        "# 情報理論\n",
        "\n",
        "## 情報量\n",
        "\n",
        "\\begin{align*}\n",
        "  I(X) = - \\log_2 (p) = - \\frac{1}{\\log(2)} \\log(p)\n",
        "\\end{align*}\n",
        "\n",
        "ベルヌーイ試行で，$p=1/2$の場合の情報量は，\n",
        "\\begin{align*}\n",
        "  I(X) = - \\log_2(1/2) = 1\n",
        "\\end{align*}\n",
        "となる．つまり，この場合は，1ビットの情報量！\n"
      ],
      "metadata": {
        "id": "6bc6BiqNd_fn"
      }
    },
    {
      "cell_type": "code",
      "execution_count": 6,
      "metadata": {
        "colab": {
          "base_uri": "https://localhost:8080/"
        },
        "id": "Q9Y-FHg_c-p3",
        "outputId": "b45336f9-6202-4aa4-fd66-adc4cb123fad"
      },
      "outputs": [
        {
          "output_type": "stream",
          "name": "stdout",
          "text": [
            "$\\log_2(1/2)=$ 1.0\n",
            "$\\log(1/2) / \\log(2)=$ 1.0\n"
          ]
        }
      ],
      "source": [
        "import numpy as np\n",
        "\n",
        "print(\"$\\log_2(1/2)=$\", -np.log2(1/2.0))\n",
        "\n",
        "print(\"$\\log(1/2) / \\log(2)=$\", -np.log(1/2.0)/np.log(2.0))"
      ]
    },
    {
      "cell_type": "markdown",
      "source": [
        "サイコロの1の目が出ることが分かった場合に得られる情報量は，\n",
        "\n",
        "\\begin{align*}\n",
        "  I(X) = -\\log(1/6) = 2.5849625...\n",
        "\\end{align*}\n",
        "ビットである．"
      ],
      "metadata": {
        "id": "KBdKYjbjfA_K"
      }
    },
    {
      "cell_type": "code",
      "source": [
        "print(-np.log2(1/6.0))"
      ],
      "metadata": {
        "colab": {
          "base_uri": "https://localhost:8080/"
        },
        "id": "3BYU63KhfS8h",
        "outputId": "cd9de240-3bcd-40dc-8fb1-37ce87353ea6"
      },
      "execution_count": 7,
      "outputs": [
        {
          "output_type": "stream",
          "name": "stdout",
          "text": [
            "2.584962500721156\n"
          ]
        }
      ]
    }
  ]
}